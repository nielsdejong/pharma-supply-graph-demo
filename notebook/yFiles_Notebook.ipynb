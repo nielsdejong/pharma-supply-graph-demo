{
  "cells": [
    {
      "cell_type": "markdown",
      "id": "2cb919b0",
      "metadata": {
        "tags": [],
        "id": "2cb919b0"
      },
      "source": [
        "# Key Detection Result Visualizer"
      ]
    },
    {
      "cell_type": "code",
      "execution_count": 2,
      "id": "4eb58ba1-1e95-4090-b2b8-e117e35561c5",
      "metadata": {
        "id": "4eb58ba1-1e95-4090-b2b8-e117e35561c5",
        "colab": {
          "base_uri": "https://localhost:8080/"
        },
        "outputId": "ea720ac5-29d8-4c98-f7b1-8b5e32e6625e"
      },
      "outputs": [
        {
          "output_type": "stream",
          "name": "stdout",
          "text": [
            "\u001b[2K     \u001b[90m━━━━━━━━━━━━━━━━━━━━━━━━━━━━━━━━━━━━━━━━\u001b[0m \u001b[32m15.3/15.3 MB\u001b[0m \u001b[31m19.2 MB/s\u001b[0m eta \u001b[36m0:00:00\u001b[0m\n",
            "\u001b[2K     \u001b[90m━━━━━━━━━━━━━━━━━━━━━━━━━━━━━━━━━━━━━━━━\u001b[0m \u001b[32m203.0/203.0 kB\u001b[0m \u001b[31m9.0 MB/s\u001b[0m eta \u001b[36m0:00:00\u001b[0m\n",
            "\u001b[?25h  Installing build dependencies ... \u001b[?25l\u001b[?25hdone\n",
            "  Getting requirements to build wheel ... \u001b[?25l\u001b[?25hdone\n",
            "  Installing backend dependencies ... \u001b[?25l\u001b[?25hdone\n",
            "  Preparing metadata (pyproject.toml) ... \u001b[?25l\u001b[?25hdone\n",
            "\u001b[2K     \u001b[90m━━━━━━━━━━━━━━━━━━━━━━━━━━━━━━━━━━━━━━━━\u001b[0m \u001b[32m1.6/1.6 MB\u001b[0m \u001b[31m42.6 MB/s\u001b[0m eta \u001b[36m0:00:00\u001b[0m\n",
            "\u001b[?25h  Building wheel for neo4j (pyproject.toml) ... \u001b[?25l\u001b[?25hdone\n"
          ]
        }
      ],
      "source": [
        "%pip install yfiles_jupyter_graphs neo4j --quiet\n",
        "try:\n",
        "  import google.colab\n",
        "  from google.colab import output\n",
        "  output.enable_custom_widget_manager()\n",
        "except:\n",
        "  pass"
      ]
    },
    {
      "cell_type": "code",
      "execution_count": 41,
      "metadata": {
        "id": "QmAgLT-jKztI"
      },
      "outputs": [],
      "source": [
        "from neo4j import GraphDatabase\n",
        "from typing import Dict\n",
        "from yfiles_jupyter_graphs import GraphWidget\n",
        "from ipywidgets import widgets, Output\n",
        "\n",
        "import matplotlib.pyplot as plt\n",
        "from matplotlib.backends.backend_agg import FigureCanvasAgg as FigureCanvas\n",
        "import numpy as np\n",
        "\n",
        "\n",
        "uri      = \"neo4j+s://0bbf8364.databases.neo4j.io\"\n",
        "user     = \"reader\"\n",
        "password = \"copenhagen\"\n",
        "\n",
        "driver = GraphDatabase.driver(uri=uri,auth=(user,password),database='neo4j')\n",
        "session = driver.session(database='neo4j')\n",
        "\n",
        "\n",
        "class GraphWidgetWrapper:\n",
        "    def __init__(self, index, query, run_custom_logic):\n",
        "        self.index = index\n",
        "        self.out = widgets.Output()\n",
        "        self.query = query\n",
        "        display(self.out)\n",
        "        self.fetch_and_render(run_custom_logic)\n",
        "\n",
        "\n",
        "\n",
        "    def fetch_and_render(self, run_custom_logic):\n",
        "        result = session.run(self.query, parameters={})\n",
        "        widget = GraphWidget(graph=result.graph())\n",
        "        run_custom_logic(widget)\n",
        "        widget.organic_layout()\n",
        "        widget.set_sidebar(enabled=False)\n",
        "        self.out.clear_output()\n",
        "        with self.out:\n",
        "            widget.show()"
      ],
      "id": "QmAgLT-jKztI"
    },
    {
      "cell_type": "code",
      "source": [
        "\n",
        "def custom_node_label_mapping(index, node):\n",
        "    properties = node.get('properties', {})\n",
        "    return properties.get('id', properties.get('name', ''));\n",
        "\n",
        "def custom_relationship_label_mapping(index, node):\n",
        "    properties = node.get('properties', {})\n",
        "    return properties.get('label', ['']);\n",
        "\n",
        "\n",
        "def run_custom_logic(widget):\n",
        "    widget.node_label_mapping = custom_node_label_mapping\n",
        "    widget.edge_label_mapping = custom_relationship_label_mapping\n",
        "\n",
        "\n",
        "graph = GraphWidgetWrapper(1, \"MATCH (n)-[e]->(m) RETURN * LIMIT 20\", run_custom_logic)"
      ],
      "metadata": {
        "id": "ouSCIIPjOvtR",
        "colab": {
          "base_uri": "https://localhost:8080/",
          "height": 737,
          "referenced_widgets": [
            "4babfce7c5814d3a9568977730a5f538",
            "476f0d53ca634f169005169dcd03a150",
            "2999c619c66d458da6a68176bd1f3b42",
            "7b8031a16606453a9a509e0d8cac61c9",
            "413258f3662540ec94f4ebbb609ba749"
          ]
        },
        "outputId": "7a1ce029-5370-4cf4-9660-266ee3ec3acc"
      },
      "id": "ouSCIIPjOvtR",
      "execution_count": 45,
      "outputs": [
        {
          "output_type": "display_data",
          "data": {
            "text/plain": [
              "Output()"
            ],
            "application/vnd.jupyter.widget-view+json": {
              "version_major": 2,
              "version_minor": 0,
              "model_id": "4babfce7c5814d3a9568977730a5f538"
            }
          },
          "metadata": {
            "application/vnd.jupyter.widget-view+json": {
              "colab": {
                "custom_widget_manager": {
                  "url": "https://ssl.gstatic.com/colaboratory-static/widgets/colab-cdn-widget-manager/2b70e893a8ba7c0f/manager.min.js"
                }
              }
            }
          }
        }
      ]
    },
    {
      "cell_type": "code",
      "source": [
        "\n",
        "\n",
        "def custom_styles_mapping_image(index: int, item: Dict):\n",
        "    labelToIcon = {\n",
        "        'Order': 'https://em-content.zobj.net/source/apple/391/basket_1f9fa.png',\n",
        "        'DistributionPoint': 'https://em-content.zobj.net/source/apple/391/department-store_1f3ec.png',\n",
        "        'Product': 'https://em-content.zobj.net/source/apple/391/package_1f4e6.png',\n",
        "        'Factory': 'https://em-content.zobj.net/source/apple/391/factory_1f3ed.png',\n",
        "        'Headquarter': 'https://em-content.zobj.net/source/apple/391/office-building_1f3e2.png',\n",
        "        'Customer': 'https://em-content.zobj.net/source/apple/391/hospital_1f3e5.png',\n",
        "        'Event': 'https://em-content.zobj.net/source/apple/391/radio-button_1f518.png'\n",
        "      }\n",
        "    icon = labelToIcon[item['properties']['label']]\n",
        "\n",
        "    return {\n",
        "        'image': icon\n",
        "    }\n",
        "\n",
        "def run_custom_logic(widget):\n",
        "    widget.node_label_mapping = custom_node_label_mapping\n",
        "    widget.edge_label_mapping = custom_relationship_label_mapping\n",
        "    widget.set_node_styles_mapping(custom_styles_mapping_image)\n",
        "\n",
        "graph = GraphWidgetWrapper(2, \"MATCH (n)-[e]->(m) RETURN * LIMIT 20\", run_custom_logic)\n"
      ],
      "metadata": {
        "colab": {
          "base_uri": "https://localhost:8080/",
          "height": 737,
          "referenced_widgets": [
            "1206c8fd1cbe430083e5de38b2d0afd4",
            "6693d6a5d9f34575b9a2a4380e04ede2",
            "f20e34deee7d457ebe375df2ac336def",
            "583a8f7c598b4576955f07fbff167cbd",
            "4710c34fe79641b7a508cd570a2347b9"
          ]
        },
        "id": "Y4FHkzGs23S1",
        "outputId": "aa4e8a93-177d-4e22-9a71-44eb1ef45b81"
      },
      "id": "Y4FHkzGs23S1",
      "execution_count": 52,
      "outputs": [
        {
          "output_type": "display_data",
          "data": {
            "text/plain": [
              "Output()"
            ],
            "application/vnd.jupyter.widget-view+json": {
              "version_major": 2,
              "version_minor": 0,
              "model_id": "1206c8fd1cbe430083e5de38b2d0afd4"
            }
          },
          "metadata": {
            "application/vnd.jupyter.widget-view+json": {
              "colab": {
                "custom_widget_manager": {
                  "url": "https://ssl.gstatic.com/colaboratory-static/widgets/colab-cdn-widget-manager/2b70e893a8ba7c0f/manager.min.js"
                }
              }
            }
          }
        }
      ]
    },
    {
      "cell_type": "code",
      "source": [
        "graph = GraphWidgetWrapper(1, \"MATCH (order:Order)-[h:HAS_EVENT]-(n)-[e:NEXT]->(m) RETURN *\", run_custom_logic)"
      ],
      "metadata": {
        "colab": {
          "base_uri": "https://localhost:8080/",
          "height": 817,
          "referenced_widgets": [
            "dde45def74584609861810698e078b5d",
            "69587a88c909410e8970ded7a0955e4b",
            "2e06c6e1bf304e6d8583dafbbfdd5611",
            "edcf3d73141e4087a10a4ab11858a9ec",
            "c34a35b62568477cb17304e58e4073fa"
          ]
        },
        "id": "DNoZtqed1kXv",
        "outputId": "5d3d3a47-f2b3-4219-97c0-c9519fc2976f"
      },
      "id": "DNoZtqed1kXv",
      "execution_count": 54,
      "outputs": [
        {
          "output_type": "display_data",
          "data": {
            "text/plain": [
              "Output()"
            ],
            "application/vnd.jupyter.widget-view+json": {
              "version_major": 2,
              "version_minor": 0,
              "model_id": "dde45def74584609861810698e078b5d"
            }
          },
          "metadata": {
            "application/vnd.jupyter.widget-view+json": {
              "colab": {
                "custom_widget_manager": {
                  "url": "https://ssl.gstatic.com/colaboratory-static/widgets/colab-cdn-widget-manager/2b70e893a8ba7c0f/manager.min.js"
                }
              }
            }
          }
        }
      ]
    },
    {
      "cell_type": "code",
      "source": [
        "def custom_factor_mapping(node: Dict):\n",
        "    return max(2,node['properties']['totalEvents'])\n",
        "\n",
        "def run_custom_logic(widget):\n",
        "    widget.node_label_mapping = custom_node_label_mapping\n",
        "    widget.edge_label_mapping = custom_relationship_label_mapping\n",
        "    widget.set_node_styles_mapping(custom_styles_mapping_image)\n",
        "    widget.set_node_scale_factor_mapping(custom_factor_mapping)\n",
        "\n",
        "\n",
        "graph = GraphWidgetWrapper(1, \"MATCH (d:DistributionPoint)-[e:DELIVERS_TO]->(d2:DistributionPoint) RETURN *\", run_custom_logic)"
      ],
      "metadata": {
        "colab": {
          "base_uri": "https://localhost:8080/",
          "height": 687,
          "referenced_widgets": [
            "060e28e73e224e288d6660672d7acac1",
            "86d7601619a94a3d83a0f1bf20c65862",
            "15e69d1f08004177b1411568dc9eeb16",
            "812bc82997b242b1bdff923a81a993eb",
            "be26d5e2d10e4955b8b58c52bad3b741"
          ]
        },
        "id": "p9oaWh5B2jVO",
        "outputId": "9f0bb101-89b1-4772-eb4a-2e89412ac157"
      },
      "id": "p9oaWh5B2jVO",
      "execution_count": 57,
      "outputs": [
        {
          "output_type": "display_data",
          "data": {
            "text/plain": [
              "Output()"
            ],
            "application/vnd.jupyter.widget-view+json": {
              "version_major": 2,
              "version_minor": 0,
              "model_id": "060e28e73e224e288d6660672d7acac1"
            }
          },
          "metadata": {
            "application/vnd.jupyter.widget-view+json": {
              "colab": {
                "custom_widget_manager": {
                  "url": "https://ssl.gstatic.com/colaboratory-static/widgets/colab-cdn-widget-manager/2b70e893a8ba7c0f/manager.min.js"
                }
              }
            }
          }
        }
      ]
    }
  ],
  "metadata": {
    "kernelspec": {
      "display_name": "Python 3 (ipykernel)",
      "language": "python",
      "name": "python3"
    },
    "language_info": {
      "codemirror_mode": {
        "name": "ipython",
        "version": 3
      },
      "file_extension": ".py",
      "mimetype": "text/x-python",
      "name": "python",
      "nbconvert_exporter": "python",
      "pygments_lexer": "ipython3",
      "version": "3.11.5"
    },
    "colab": {
      "provenance": []
    },
    "widgets": {
      "application/vnd.jupyter.widget-state+json": {
        "4babfce7c5814d3a9568977730a5f538": {
          "model_module": "@jupyter-widgets/output",
          "model_name": "OutputModel",
          "model_module_version": "1.0.0",
          "state": {
            "_dom_classes": [],
            "_model_module": "@jupyter-widgets/output",
            "_model_module_version": "1.0.0",
            "_model_name": "OutputModel",
            "_view_count": null,
            "_view_module": "@jupyter-widgets/output",
            "_view_module_version": "1.0.0",
            "_view_name": "OutputView",
            "layout": "IPY_MODEL_476f0d53ca634f169005169dcd03a150",
            "msg_id": "",
            "outputs": [
              {
                "output_type": "display_data",
                "data": {
                  "text/plain": "GraphWidget(layout=Layout(height='720px', width='100%'))",
                  "application/vnd.jupyter.widget-view+json": {
                    "version_major": 2,
                    "version_minor": 0,
                    "model_id": "2999c619c66d458da6a68176bd1f3b42"
                  }
                },
                "metadata": {
                  "application/vnd.jupyter.widget-view+json": {
                    "colab": {
                      "custom_widget_manager": {
                        "url": "https://ssl.gstatic.com/colaboratory-static/widgets/colab-cdn-widget-manager/2b70e893a8ba7c0f/manager.min.js"
                      }
                    }
                  }
                }
              }
            ]
          }
        },
        "476f0d53ca634f169005169dcd03a150": {
          "model_module": "@jupyter-widgets/base",
          "model_name": "LayoutModel",
          "model_module_version": "1.2.0",
          "state": {
            "_model_module": "@jupyter-widgets/base",
            "_model_module_version": "1.2.0",
            "_model_name": "LayoutModel",
            "_view_count": null,
            "_view_module": "@jupyter-widgets/base",
            "_view_module_version": "1.2.0",
            "_view_name": "LayoutView",
            "align_content": null,
            "align_items": null,
            "align_self": null,
            "border": null,
            "bottom": null,
            "display": null,
            "flex": null,
            "flex_flow": null,
            "grid_area": null,
            "grid_auto_columns": null,
            "grid_auto_flow": null,
            "grid_auto_rows": null,
            "grid_column": null,
            "grid_gap": null,
            "grid_row": null,
            "grid_template_areas": null,
            "grid_template_columns": null,
            "grid_template_rows": null,
            "height": null,
            "justify_content": null,
            "justify_items": null,
            "left": null,
            "margin": null,
            "max_height": null,
            "max_width": null,
            "min_height": null,
            "min_width": null,
            "object_fit": null,
            "object_position": null,
            "order": null,
            "overflow": null,
            "overflow_x": null,
            "overflow_y": null,
            "padding": null,
            "right": null,
            "top": null,
            "visibility": null,
            "width": null
          }
        },
        "2999c619c66d458da6a68176bd1f3b42": {
          "model_module": "yfiles-jupyter-graphs",
          "model_name": "GraphModel",
          "model_module_version": "^1.6.2",
          "state": {
            "_context_pane_mapping": [
              {
                "id": "Neighborhood",
                "title": "Neighborhood"
              },
              {
                "id": "Data",
                "title": "Data"
              },
              {
                "id": "Search",
                "title": "Search"
              },
              {
                "id": "About",
                "title": "About"
              }
            ],
            "_data_importer": "neo4j",
            "_directed": true,
            "_dom_classes": [],
            "_edges": [
              {
                "id": 0,
                "start": 0,
                "end": 1,
                "properties": {
                  "label": "HAS_FACTORY"
                },
                "label": "HAS_FACTORY",
                "color": "#CDDC39",
                "thickness_factor": 1,
                "directed": true
              },
              {
                "id": 1,
                "start": 0,
                "end": 2,
                "properties": {
                  "label": "HAS_FACTORY"
                },
                "label": "HAS_FACTORY",
                "color": "#CDDC39",
                "thickness_factor": 1,
                "directed": true
              },
              {
                "id": 2,
                "start": 0,
                "end": 3,
                "properties": {
                  "label": "HAS_FACTORY"
                },
                "label": "HAS_FACTORY",
                "color": "#CDDC39",
                "thickness_factor": 1,
                "directed": true
              },
              {
                "id": 3,
                "start": 1,
                "end": 4,
                "properties": {
                  "label": "PRODUCES"
                },
                "label": "PRODUCES",
                "color": "#9E9E9E",
                "thickness_factor": 1,
                "directed": true
              },
              {
                "id": 4,
                "start": 1,
                "end": 5,
                "properties": {
                  "label": "PRODUCES"
                },
                "label": "PRODUCES",
                "color": "#9E9E9E",
                "thickness_factor": 1,
                "directed": true
              },
              {
                "id": 5,
                "start": 2,
                "end": 5,
                "properties": {
                  "label": "PRODUCES"
                },
                "label": "PRODUCES",
                "color": "#9E9E9E",
                "thickness_factor": 1,
                "directed": true
              },
              {
                "id": 6,
                "start": 2,
                "end": 6,
                "properties": {
                  "label": "PRODUCES"
                },
                "label": "PRODUCES",
                "color": "#9E9E9E",
                "thickness_factor": 1,
                "directed": true
              },
              {
                "id": 7,
                "start": 3,
                "end": 4,
                "properties": {
                  "label": "PRODUCES"
                },
                "label": "PRODUCES",
                "color": "#9E9E9E",
                "thickness_factor": 1,
                "directed": true
              },
              {
                "id": 8,
                "start": 3,
                "end": 6,
                "properties": {
                  "label": "PRODUCES"
                },
                "label": "PRODUCES",
                "color": "#9E9E9E",
                "thickness_factor": 1,
                "directed": true
              },
              {
                "id": 9,
                "start": 7,
                "end": 15,
                "properties": {
                  "label": "ORDERED"
                },
                "label": "ORDERED",
                "color": "#9C27B0",
                "thickness_factor": 1,
                "directed": true
              },
              {
                "id": 10,
                "start": 7,
                "end": 23,
                "properties": {
                  "label": "ORDERED"
                },
                "label": "ORDERED",
                "color": "#9C27B0",
                "thickness_factor": 1,
                "directed": true
              },
              {
                "id": 11,
                "start": 7,
                "end": 27,
                "properties": {
                  "label": "ORDERED"
                },
                "label": "ORDERED",
                "color": "#9C27B0",
                "thickness_factor": 1,
                "directed": true
              },
              {
                "id": 12,
                "start": 8,
                "end": 16,
                "properties": {
                  "label": "ORDERED"
                },
                "label": "ORDERED",
                "color": "#9C27B0",
                "thickness_factor": 1,
                "directed": true
              },
              {
                "id": 13,
                "start": 8,
                "end": 24,
                "properties": {
                  "label": "ORDERED"
                },
                "label": "ORDERED",
                "color": "#9C27B0",
                "thickness_factor": 1,
                "directed": true
              },
              {
                "id": 14,
                "start": 8,
                "end": 31,
                "properties": {
                  "label": "ORDERED"
                },
                "label": "ORDERED",
                "color": "#9C27B0",
                "thickness_factor": 1,
                "directed": true
              },
              {
                "id": 15,
                "start": 8,
                "end": 37,
                "properties": {
                  "label": "ORDERED"
                },
                "label": "ORDERED",
                "color": "#9C27B0",
                "thickness_factor": 1,
                "directed": true
              },
              {
                "id": 16,
                "start": 9,
                "end": 17,
                "properties": {
                  "label": "ORDERED"
                },
                "label": "ORDERED",
                "color": "#9C27B0",
                "thickness_factor": 1,
                "directed": true
              },
              {
                "id": 17,
                "start": 9,
                "end": 25,
                "properties": {
                  "label": "ORDERED"
                },
                "label": "ORDERED",
                "color": "#9C27B0",
                "thickness_factor": 1,
                "directed": true
              },
              {
                "id": 18,
                "start": 9,
                "end": 33,
                "properties": {
                  "label": "ORDERED"
                },
                "label": "ORDERED",
                "color": "#9C27B0",
                "thickness_factor": 1,
                "directed": true
              },
              {
                "id": 19,
                "start": 10,
                "end": 18,
                "properties": {
                  "label": "ORDERED"
                },
                "label": "ORDERED",
                "color": "#9C27B0",
                "thickness_factor": 1,
                "directed": true
              }
            ],
            "_graph_layout": {
              "algorithm": "organic",
              "options": {}
            },
            "_highlight": [],
            "_license": {},
            "_model_module": "yfiles-jupyter-graphs",
            "_model_module_version": "^1.6.2",
            "_model_name": "GraphModel",
            "_neighborhood": {},
            "_nodes": [
              {
                "id": 0,
                "properties": {
                  "address": "Centralvej 1, 1550 Copenhagen, Denmark",
                  "latitude": 55.6761,
                  "name": "Rovo Rordisk",
                  "industry": "Pharmaceutical",
                  "point": {
                    "x": 12.5683,
                    "y": 55.6761,
                    "z": 0
                  },
                  "longitude": 12.5683,
                  "capacity": "High",
                  "label": "Headquarter"
                },
                "color": "#2196F3",
                "styles": {},
                "label": "Rovo Rordisk",
                "scale_factor": 1,
                "type": "#2196F3",
                "size": [
                  55,
                  55
                ],
                "position": [
                  0,
                  0
                ]
              },
              {
                "id": 1,
                "properties": {
                  "address": "Narvikvej 15, 4900 Nakskov, Denmark",
                  "totalEvents": 11,
                  "latitude": 54.826717,
                  "name": "Nakskov Factory",
                  "point": {
                    "x": 11.170571,
                    "y": 54.826717,
                    "z": 0
                  },
                  "capacity": "5000 units/day",
                  "longitude": 11.170571,
                  "label": "Factory"
                },
                "color": "#4CAF50",
                "styles": {},
                "label": "Nakskov Factory",
                "scale_factor": 1,
                "type": "#4CAF50",
                "size": [
                  55,
                  55
                ],
                "position": [
                  0,
                  0
                ]
              },
              {
                "id": 2,
                "properties": {
                  "address": "Østvej 15, 2100 Copenhagen Ø, Denmark",
                  "totalEvents": 5,
                  "latitude": 55.703,
                  "name": "Rordisk Factory East",
                  "point": {
                    "x": 12.578,
                    "y": 55.703,
                    "z": 0
                  },
                  "capacity": "4000 units/day",
                  "longitude": 12.578,
                  "label": "Factory"
                },
                "color": "#4CAF50",
                "styles": {},
                "label": "Rordisk Factory East",
                "scale_factor": 1,
                "type": "#4CAF50",
                "size": [
                  55,
                  55
                ],
                "position": [
                  0,
                  0
                ]
              },
              {
                "id": 3,
                "properties": {
                  "address": "Vestvej 20, 1550 Copenhagen V, Denmark",
                  "totalEvents": 9,
                  "latitude": 55.67,
                  "name": "Rordisk Factory West",
                  "point": {
                    "x": 12.54,
                    "y": 55.67,
                    "z": 0
                  },
                  "capacity": "3500 units/day",
                  "longitude": 12.54,
                  "label": "Factory"
                },
                "color": "#4CAF50",
                "styles": {},
                "label": "Rordisk Factory West",
                "scale_factor": 1,
                "type": "#4CAF50",
                "size": [
                  55,
                  55
                ],
                "position": [
                  0,
                  0
                ]
              },
              {
                "id": 4,
                "properties": {
                  "duration": "3-5 hours",
                  "name": "Steadisul",
                  "storageTemperature": "2-8°C",
                  "packageSize": "10 mL",
                  "type": "Fast-acting",
                  "label": "Product"
                },
                "color": "#F44336",
                "styles": {},
                "label": "Steadisul",
                "scale_factor": 1,
                "type": "#F44336",
                "size": [
                  55,
                  55
                ],
                "position": [
                  0,
                  0
                ]
              },
              {
                "id": 5,
                "properties": {
                  "duration": "12-18 hours",
                  "name": "OzemBlast",
                  "storageTemperature": "2-8°C",
                  "packageSize": "10 mL",
                  "type": "Intermediate-acting",
                  "label": "Product"
                },
                "color": "#F44336",
                "styles": {},
                "label": "OzemBlast",
                "scale_factor": 1,
                "type": "#F44336",
                "size": [
                  55,
                  55
                ],
                "position": [
                  0,
                  0
                ]
              },
              {
                "id": 6,
                "properties": {
                  "duration": "24 hours",
                  "name": "Insuguard",
                  "storageTemperature": "2-8°C",
                  "packageSize": "10 mL",
                  "type": "Long-acting",
                  "label": "Product"
                },
                "color": "#F44336",
                "styles": {},
                "label": "Insuguard",
                "scale_factor": 1,
                "type": "#F44336",
                "size": [
                  55,
                  55
                ],
                "position": [
                  0,
                  0
                ]
              },
              {
                "id": 7,
                "properties": {
                  "storeType": "Retail",
                  "address": "Store Torv 5, 8000 Aarhus, Denmark",
                  "totalEvents": 3,
                  "customerSize": "Large",
                  "latitude": 56.182631,
                  "name": "City Pharma Aarhus",
                  "point": {
                    "x": 10.377837,
                    "y": 56.182631,
                    "z": 0
                  },
                  "longitude": 10.377837,
                  "label": "Customer"
                },
                "color": "#607D8B",
                "styles": {},
                "label": "City Pharma Aarhus",
                "scale_factor": 1,
                "type": "#607D8B",
                "size": [
                  55,
                  55
                ],
                "position": [
                  0,
                  0
                ]
              },
              {
                "id": 15,
                "properties": {
                  "date": "2024-04-01",
                  "quantity": 50,
                  "id": "ORD001",
                  "label": "Order"
                },
                "color": "#673AB7",
                "styles": {},
                "label": "ORD001",
                "scale_factor": 1,
                "type": "#673AB7",
                "size": [
                  55,
                  55
                ],
                "position": [
                  0,
                  0
                ]
              },
              {
                "id": 23,
                "properties": {
                  "date": "2024-04-12",
                  "quantity": 45,
                  "id": "ORD009",
                  "label": "Order"
                },
                "color": "#673AB7",
                "styles": {},
                "label": "ORD009",
                "scale_factor": 1,
                "type": "#673AB7",
                "size": [
                  55,
                  55
                ],
                "position": [
                  0,
                  0
                ]
              },
              {
                "id": 27,
                "properties": {
                  "date": "2024-04-16",
                  "quantity": 65,
                  "id": "ORD013",
                  "label": "Order"
                },
                "color": "#673AB7",
                "styles": {},
                "label": "ORD013",
                "scale_factor": 1,
                "type": "#673AB7",
                "size": [
                  55,
                  55
                ],
                "position": [
                  0,
                  0
                ]
              },
              {
                "id": 8,
                "properties": {
                  "storeType": "Retail",
                  "address": "Kongensgade 66, 5000 Odense, Denmark",
                  "totalEvents": 4,
                  "customerSize": "Medium",
                  "latitude": 55.4038,
                  "name": "HealthPlus Odense",
                  "point": {
                    "x": 10.4024,
                    "y": 55.4038,
                    "z": 0
                  },
                  "longitude": 10.4024,
                  "label": "Customer"
                },
                "color": "#607D8B",
                "styles": {},
                "label": "HealthPlus Odense",
                "scale_factor": 1,
                "type": "#607D8B",
                "size": [
                  55,
                  55
                ],
                "position": [
                  0,
                  0
                ]
              },
              {
                "id": 16,
                "properties": {
                  "date": "2024-04-03",
                  "quantity": 30,
                  "id": "ORD002",
                  "label": "Order"
                },
                "color": "#673AB7",
                "styles": {},
                "label": "ORD002",
                "scale_factor": 1,
                "type": "#673AB7",
                "size": [
                  55,
                  55
                ],
                "position": [
                  0,
                  0
                ]
              },
              {
                "id": 24,
                "properties": {
                  "date": "2024-04-08",
                  "quantity": 30,
                  "id": "ORD010",
                  "label": "Order"
                },
                "color": "#673AB7",
                "styles": {},
                "label": "ORD010",
                "scale_factor": 1,
                "type": "#673AB7",
                "size": [
                  55,
                  55
                ],
                "position": [
                  0,
                  0
                ]
              },
              {
                "id": 31,
                "properties": {
                  "date": "2024-04-20",
                  "quantity": 65,
                  "id": "ORD017",
                  "label": "Order"
                },
                "color": "#673AB7",
                "styles": {},
                "label": "ORD017",
                "scale_factor": 1,
                "type": "#673AB7",
                "size": [
                  55,
                  55
                ],
                "position": [
                  0,
                  0
                ]
              },
              {
                "id": 37,
                "properties": {
                  "date": "2024-04-27",
                  "quantity": 35,
                  "id": "ORD023",
                  "label": "Order"
                },
                "color": "#673AB7",
                "styles": {},
                "label": "ORD023",
                "scale_factor": 1,
                "type": "#673AB7",
                "size": [
                  55,
                  55
                ],
                "position": [
                  0,
                  0
                ]
              },
              {
                "id": 9,
                "properties": {
                  "storeType": "Retail",
                  "address": "Algade 55, 9000 Aalborg, Denmark",
                  "totalEvents": 3,
                  "customerSize": "Medium",
                  "latitude": 57.006733,
                  "name": "MediCare Aalborg",
                  "point": {
                    "x": 10.115147,
                    "y": 57.006733,
                    "z": 0
                  },
                  "longitude": 10.115147,
                  "label": "Customer"
                },
                "color": "#607D8B",
                "styles": {},
                "label": "MediCare Aalborg",
                "scale_factor": 1,
                "type": "#607D8B",
                "size": [
                  55,
                  55
                ],
                "position": [
                  0,
                  0
                ]
              },
              {
                "id": 17,
                "properties": {
                  "date": "2024-04-02",
                  "quantity": 25,
                  "id": "ORD003",
                  "label": "Order"
                },
                "color": "#673AB7",
                "styles": {},
                "label": "ORD003",
                "scale_factor": 1,
                "type": "#673AB7",
                "size": [
                  55,
                  55
                ],
                "position": [
                  0,
                  0
                ]
              },
              {
                "id": 25,
                "properties": {
                  "date": "2024-04-15",
                  "quantity": 25,
                  "id": "ORD011",
                  "label": "Order"
                },
                "color": "#673AB7",
                "styles": {},
                "label": "ORD011",
                "scale_factor": 1,
                "type": "#673AB7",
                "size": [
                  55,
                  55
                ],
                "position": [
                  0,
                  0
                ]
              },
              {
                "id": 33,
                "properties": {
                  "date": "2024-04-22",
                  "quantity": 75,
                  "id": "ORD019",
                  "label": "Order"
                },
                "color": "#673AB7",
                "styles": {},
                "label": "ORD019",
                "scale_factor": 1,
                "type": "#673AB7",
                "size": [
                  55,
                  55
                ],
                "position": [
                  0,
                  0
                ]
              },
              {
                "id": 10,
                "properties": {
                  "storeType": "Retail",
                  "address": "Kongensgade 30, 6700 Esbjerg, Denmark",
                  "totalEvents": 4,
                  "customerSize": "Small",
                  "latitude": 55.476474,
                  "name": "Wellness Pharmacy Esbjerg",
                  "point": {
                    "x": 8.43177,
                    "y": 55.476474,
                    "z": 0
                  },
                  "longitude": 8.43177,
                  "label": "Customer"
                },
                "color": "#607D8B",
                "styles": {},
                "label": "Wellness Pharmacy Esbjerg",
                "scale_factor": 1,
                "type": "#607D8B",
                "size": [
                  55,
                  55
                ],
                "position": [
                  0,
                  0
                ]
              },
              {
                "id": 18,
                "properties": {
                  "date": "2024-04-04",
                  "quantity": 40,
                  "id": "ORD004",
                  "label": "Order"
                },
                "color": "#673AB7",
                "styles": {},
                "label": "ORD004",
                "scale_factor": 1,
                "type": "#673AB7",
                "size": [
                  55,
                  55
                ],
                "position": [
                  0,
                  0
                ]
              }
            ],
            "_overview": {
              "enabled": null,
              "overview_set": false
            },
            "_selected_graph": [
              [],
              []
            ],
            "_sidebar": {
              "enabled": false,
              "start_with": ""
            },
            "_view_count": null,
            "_view_module": "yfiles-jupyter-graphs",
            "_view_module_version": "^1.6.2",
            "_view_name": "GraphView",
            "layout": "IPY_MODEL_413258f3662540ec94f4ebbb609ba749"
          }
        },
        "7b8031a16606453a9a509e0d8cac61c9": {
          "model_module": "@jupyter-widgets/base",
          "model_name": "LayoutModel",
          "model_module_version": "1.2.0",
          "state": {
            "_model_module": "@jupyter-widgets/base",
            "_model_module_version": "1.2.0",
            "_model_name": "LayoutModel",
            "_view_count": null,
            "_view_module": "@jupyter-widgets/base",
            "_view_module_version": "1.2.0",
            "_view_name": "LayoutView",
            "align_content": null,
            "align_items": null,
            "align_self": null,
            "border": null,
            "bottom": null,
            "display": null,
            "flex": null,
            "flex_flow": null,
            "grid_area": null,
            "grid_auto_columns": null,
            "grid_auto_flow": null,
            "grid_auto_rows": null,
            "grid_column": null,
            "grid_gap": null,
            "grid_row": null,
            "grid_template_areas": null,
            "grid_template_columns": null,
            "grid_template_rows": null,
            "height": "500px",
            "justify_content": null,
            "justify_items": null,
            "left": null,
            "margin": null,
            "max_height": null,
            "max_width": null,
            "min_height": null,
            "min_width": null,
            "object_fit": null,
            "object_position": null,
            "order": null,
            "overflow": null,
            "overflow_x": null,
            "overflow_y": null,
            "padding": null,
            "right": null,
            "top": null,
            "visibility": null,
            "width": "100%"
          }
        },
        "413258f3662540ec94f4ebbb609ba749": {
          "model_module": "@jupyter-widgets/base",
          "model_name": "LayoutModel",
          "model_module_version": "1.2.0",
          "state": {
            "_model_module": "@jupyter-widgets/base",
            "_model_module_version": "1.2.0",
            "_model_name": "LayoutModel",
            "_view_count": null,
            "_view_module": "@jupyter-widgets/base",
            "_view_module_version": "1.2.0",
            "_view_name": "LayoutView",
            "align_content": null,
            "align_items": null,
            "align_self": null,
            "border": null,
            "bottom": null,
            "display": null,
            "flex": null,
            "flex_flow": null,
            "grid_area": null,
            "grid_auto_columns": null,
            "grid_auto_flow": null,
            "grid_auto_rows": null,
            "grid_column": null,
            "grid_gap": null,
            "grid_row": null,
            "grid_template_areas": null,
            "grid_template_columns": null,
            "grid_template_rows": null,
            "height": "720px",
            "justify_content": null,
            "justify_items": null,
            "left": null,
            "margin": null,
            "max_height": null,
            "max_width": null,
            "min_height": null,
            "min_width": null,
            "object_fit": null,
            "object_position": null,
            "order": null,
            "overflow": null,
            "overflow_x": null,
            "overflow_y": null,
            "padding": null,
            "right": null,
            "top": null,
            "visibility": null,
            "width": "100%"
          }
        },
        "1206c8fd1cbe430083e5de38b2d0afd4": {
          "model_module": "@jupyter-widgets/output",
          "model_name": "OutputModel",
          "model_module_version": "1.0.0",
          "state": {
            "_dom_classes": [],
            "_model_module": "@jupyter-widgets/output",
            "_model_module_version": "1.0.0",
            "_model_name": "OutputModel",
            "_view_count": null,
            "_view_module": "@jupyter-widgets/output",
            "_view_module_version": "1.0.0",
            "_view_name": "OutputView",
            "layout": "IPY_MODEL_6693d6a5d9f34575b9a2a4380e04ede2",
            "msg_id": "",
            "outputs": [
              {
                "output_type": "display_data",
                "data": {
                  "text/plain": "GraphWidget(layout=Layout(height='720px', width='100%'))",
                  "application/vnd.jupyter.widget-view+json": {
                    "version_major": 2,
                    "version_minor": 0,
                    "model_id": "f20e34deee7d457ebe375df2ac336def"
                  }
                },
                "metadata": {
                  "application/vnd.jupyter.widget-view+json": {
                    "colab": {
                      "custom_widget_manager": {
                        "url": "https://ssl.gstatic.com/colaboratory-static/widgets/colab-cdn-widget-manager/2b70e893a8ba7c0f/manager.min.js"
                      }
                    }
                  }
                }
              }
            ]
          }
        },
        "6693d6a5d9f34575b9a2a4380e04ede2": {
          "model_module": "@jupyter-widgets/base",
          "model_name": "LayoutModel",
          "model_module_version": "1.2.0",
          "state": {
            "_model_module": "@jupyter-widgets/base",
            "_model_module_version": "1.2.0",
            "_model_name": "LayoutModel",
            "_view_count": null,
            "_view_module": "@jupyter-widgets/base",
            "_view_module_version": "1.2.0",
            "_view_name": "LayoutView",
            "align_content": null,
            "align_items": null,
            "align_self": null,
            "border": null,
            "bottom": null,
            "display": null,
            "flex": null,
            "flex_flow": null,
            "grid_area": null,
            "grid_auto_columns": null,
            "grid_auto_flow": null,
            "grid_auto_rows": null,
            "grid_column": null,
            "grid_gap": null,
            "grid_row": null,
            "grid_template_areas": null,
            "grid_template_columns": null,
            "grid_template_rows": null,
            "height": null,
            "justify_content": null,
            "justify_items": null,
            "left": null,
            "margin": null,
            "max_height": null,
            "max_width": null,
            "min_height": null,
            "min_width": null,
            "object_fit": null,
            "object_position": null,
            "order": null,
            "overflow": null,
            "overflow_x": null,
            "overflow_y": null,
            "padding": null,
            "right": null,
            "top": null,
            "visibility": null,
            "width": null
          }
        },
        "f20e34deee7d457ebe375df2ac336def": {
          "model_module": "yfiles-jupyter-graphs",
          "model_name": "GraphModel",
          "model_module_version": "^1.6.2",
          "state": {
            "_context_pane_mapping": [
              {
                "id": "Neighborhood",
                "title": "Neighborhood"
              },
              {
                "id": "Data",
                "title": "Data"
              },
              {
                "id": "Search",
                "title": "Search"
              },
              {
                "id": "About",
                "title": "About"
              }
            ],
            "_data_importer": "neo4j",
            "_directed": true,
            "_dom_classes": [],
            "_edges": [
              {
                "id": 0,
                "start": 0,
                "end": 1,
                "properties": {
                  "label": "HAS_FACTORY"
                },
                "label": "HAS_FACTORY",
                "color": "#CDDC39",
                "thickness_factor": 1,
                "directed": true
              },
              {
                "id": 1,
                "start": 0,
                "end": 2,
                "properties": {
                  "label": "HAS_FACTORY"
                },
                "label": "HAS_FACTORY",
                "color": "#CDDC39",
                "thickness_factor": 1,
                "directed": true
              },
              {
                "id": 2,
                "start": 0,
                "end": 3,
                "properties": {
                  "label": "HAS_FACTORY"
                },
                "label": "HAS_FACTORY",
                "color": "#CDDC39",
                "thickness_factor": 1,
                "directed": true
              },
              {
                "id": 3,
                "start": 1,
                "end": 4,
                "properties": {
                  "label": "PRODUCES"
                },
                "label": "PRODUCES",
                "color": "#9E9E9E",
                "thickness_factor": 1,
                "directed": true
              },
              {
                "id": 4,
                "start": 1,
                "end": 5,
                "properties": {
                  "label": "PRODUCES"
                },
                "label": "PRODUCES",
                "color": "#9E9E9E",
                "thickness_factor": 1,
                "directed": true
              },
              {
                "id": 5,
                "start": 2,
                "end": 5,
                "properties": {
                  "label": "PRODUCES"
                },
                "label": "PRODUCES",
                "color": "#9E9E9E",
                "thickness_factor": 1,
                "directed": true
              },
              {
                "id": 6,
                "start": 2,
                "end": 6,
                "properties": {
                  "label": "PRODUCES"
                },
                "label": "PRODUCES",
                "color": "#9E9E9E",
                "thickness_factor": 1,
                "directed": true
              },
              {
                "id": 7,
                "start": 3,
                "end": 4,
                "properties": {
                  "label": "PRODUCES"
                },
                "label": "PRODUCES",
                "color": "#9E9E9E",
                "thickness_factor": 1,
                "directed": true
              },
              {
                "id": 8,
                "start": 3,
                "end": 6,
                "properties": {
                  "label": "PRODUCES"
                },
                "label": "PRODUCES",
                "color": "#9E9E9E",
                "thickness_factor": 1,
                "directed": true
              },
              {
                "id": 9,
                "start": 7,
                "end": 15,
                "properties": {
                  "label": "ORDERED"
                },
                "label": "ORDERED",
                "color": "#9C27B0",
                "thickness_factor": 1,
                "directed": true
              },
              {
                "id": 10,
                "start": 7,
                "end": 23,
                "properties": {
                  "label": "ORDERED"
                },
                "label": "ORDERED",
                "color": "#9C27B0",
                "thickness_factor": 1,
                "directed": true
              },
              {
                "id": 11,
                "start": 7,
                "end": 27,
                "properties": {
                  "label": "ORDERED"
                },
                "label": "ORDERED",
                "color": "#9C27B0",
                "thickness_factor": 1,
                "directed": true
              },
              {
                "id": 12,
                "start": 8,
                "end": 16,
                "properties": {
                  "label": "ORDERED"
                },
                "label": "ORDERED",
                "color": "#9C27B0",
                "thickness_factor": 1,
                "directed": true
              },
              {
                "id": 13,
                "start": 8,
                "end": 24,
                "properties": {
                  "label": "ORDERED"
                },
                "label": "ORDERED",
                "color": "#9C27B0",
                "thickness_factor": 1,
                "directed": true
              },
              {
                "id": 14,
                "start": 8,
                "end": 31,
                "properties": {
                  "label": "ORDERED"
                },
                "label": "ORDERED",
                "color": "#9C27B0",
                "thickness_factor": 1,
                "directed": true
              },
              {
                "id": 15,
                "start": 8,
                "end": 37,
                "properties": {
                  "label": "ORDERED"
                },
                "label": "ORDERED",
                "color": "#9C27B0",
                "thickness_factor": 1,
                "directed": true
              },
              {
                "id": 16,
                "start": 9,
                "end": 17,
                "properties": {
                  "label": "ORDERED"
                },
                "label": "ORDERED",
                "color": "#9C27B0",
                "thickness_factor": 1,
                "directed": true
              },
              {
                "id": 17,
                "start": 9,
                "end": 25,
                "properties": {
                  "label": "ORDERED"
                },
                "label": "ORDERED",
                "color": "#9C27B0",
                "thickness_factor": 1,
                "directed": true
              },
              {
                "id": 18,
                "start": 9,
                "end": 33,
                "properties": {
                  "label": "ORDERED"
                },
                "label": "ORDERED",
                "color": "#9C27B0",
                "thickness_factor": 1,
                "directed": true
              },
              {
                "id": 19,
                "start": 10,
                "end": 18,
                "properties": {
                  "label": "ORDERED"
                },
                "label": "ORDERED",
                "color": "#9C27B0",
                "thickness_factor": 1,
                "directed": true
              }
            ],
            "_graph_layout": {
              "algorithm": "organic",
              "options": {}
            },
            "_highlight": [],
            "_license": {},
            "_model_module": "yfiles-jupyter-graphs",
            "_model_module_version": "^1.6.2",
            "_model_name": "GraphModel",
            "_neighborhood": {},
            "_nodes": [
              {
                "id": 0,
                "properties": {
                  "address": "Centralvej 1, 1550 Copenhagen, Denmark",
                  "latitude": 55.6761,
                  "name": "Rovo Rordisk",
                  "industry": "Pharmaceutical",
                  "point": {
                    "x": 12.5683,
                    "y": 55.6761,
                    "z": 0
                  },
                  "longitude": 12.5683,
                  "capacity": "High",
                  "label": "Headquarter"
                },
                "color": "#2196F3",
                "styles": {
                  "image": "https://em-content.zobj.net/source/apple/391/office-building_1f3e2.png"
                },
                "label": "Rovo Rordisk",
                "scale_factor": 1,
                "type": "#2196F3",
                "size": [
                  55,
                  55
                ],
                "position": [
                  0,
                  0
                ]
              },
              {
                "id": 1,
                "properties": {
                  "address": "Narvikvej 15, 4900 Nakskov, Denmark",
                  "totalEvents": 11,
                  "latitude": 54.826717,
                  "name": "Nakskov Factory",
                  "point": {
                    "x": 11.170571,
                    "y": 54.826717,
                    "z": 0
                  },
                  "capacity": "5000 units/day",
                  "longitude": 11.170571,
                  "label": "Factory"
                },
                "color": "#4CAF50",
                "styles": {
                  "image": "https://em-content.zobj.net/source/apple/391/factory_1f3ed.png"
                },
                "label": "Nakskov Factory",
                "scale_factor": 1,
                "type": "#4CAF50",
                "size": [
                  55,
                  55
                ],
                "position": [
                  0,
                  0
                ]
              },
              {
                "id": 2,
                "properties": {
                  "address": "Østvej 15, 2100 Copenhagen Ø, Denmark",
                  "totalEvents": 5,
                  "latitude": 55.703,
                  "name": "Rordisk Factory East",
                  "point": {
                    "x": 12.578,
                    "y": 55.703,
                    "z": 0
                  },
                  "capacity": "4000 units/day",
                  "longitude": 12.578,
                  "label": "Factory"
                },
                "color": "#4CAF50",
                "styles": {
                  "image": "https://em-content.zobj.net/source/apple/391/factory_1f3ed.png"
                },
                "label": "Rordisk Factory East",
                "scale_factor": 1,
                "type": "#4CAF50",
                "size": [
                  55,
                  55
                ],
                "position": [
                  0,
                  0
                ]
              },
              {
                "id": 3,
                "properties": {
                  "address": "Vestvej 20, 1550 Copenhagen V, Denmark",
                  "totalEvents": 9,
                  "latitude": 55.67,
                  "name": "Rordisk Factory West",
                  "point": {
                    "x": 12.54,
                    "y": 55.67,
                    "z": 0
                  },
                  "capacity": "3500 units/day",
                  "longitude": 12.54,
                  "label": "Factory"
                },
                "color": "#4CAF50",
                "styles": {
                  "image": "https://em-content.zobj.net/source/apple/391/factory_1f3ed.png"
                },
                "label": "Rordisk Factory West",
                "scale_factor": 1,
                "type": "#4CAF50",
                "size": [
                  55,
                  55
                ],
                "position": [
                  0,
                  0
                ]
              },
              {
                "id": 4,
                "properties": {
                  "duration": "3-5 hours",
                  "name": "Steadisul",
                  "storageTemperature": "2-8°C",
                  "packageSize": "10 mL",
                  "type": "Fast-acting",
                  "label": "Product"
                },
                "color": "#F44336",
                "styles": {
                  "image": "https://em-content.zobj.net/source/apple/391/package_1f4e6.png"
                },
                "label": "Steadisul",
                "scale_factor": 1,
                "type": "#F44336",
                "size": [
                  55,
                  55
                ],
                "position": [
                  0,
                  0
                ]
              },
              {
                "id": 5,
                "properties": {
                  "duration": "12-18 hours",
                  "name": "OzemBlast",
                  "storageTemperature": "2-8°C",
                  "packageSize": "10 mL",
                  "type": "Intermediate-acting",
                  "label": "Product"
                },
                "color": "#F44336",
                "styles": {
                  "image": "https://em-content.zobj.net/source/apple/391/package_1f4e6.png"
                },
                "label": "OzemBlast",
                "scale_factor": 1,
                "type": "#F44336",
                "size": [
                  55,
                  55
                ],
                "position": [
                  0,
                  0
                ]
              },
              {
                "id": 6,
                "properties": {
                  "duration": "24 hours",
                  "name": "Insuguard",
                  "storageTemperature": "2-8°C",
                  "packageSize": "10 mL",
                  "type": "Long-acting",
                  "label": "Product"
                },
                "color": "#F44336",
                "styles": {
                  "image": "https://em-content.zobj.net/source/apple/391/package_1f4e6.png"
                },
                "label": "Insuguard",
                "scale_factor": 1,
                "type": "#F44336",
                "size": [
                  55,
                  55
                ],
                "position": [
                  0,
                  0
                ]
              },
              {
                "id": 7,
                "properties": {
                  "storeType": "Retail",
                  "address": "Store Torv 5, 8000 Aarhus, Denmark",
                  "totalEvents": 3,
                  "customerSize": "Large",
                  "latitude": 56.182631,
                  "name": "City Pharma Aarhus",
                  "point": {
                    "x": 10.377837,
                    "y": 56.182631,
                    "z": 0
                  },
                  "longitude": 10.377837,
                  "label": "Customer"
                },
                "color": "#607D8B",
                "styles": {
                  "image": "https://em-content.zobj.net/source/apple/391/hospital_1f3e5.png"
                },
                "label": "City Pharma Aarhus",
                "scale_factor": 1,
                "type": "#607D8B",
                "size": [
                  55,
                  55
                ],
                "position": [
                  0,
                  0
                ]
              },
              {
                "id": 15,
                "properties": {
                  "date": "2024-04-01",
                  "quantity": 50,
                  "id": "ORD001",
                  "label": "Order"
                },
                "color": "#673AB7",
                "styles": {
                  "image": "https://em-content.zobj.net/source/apple/391/basket_1f9fa.png"
                },
                "label": "ORD001",
                "scale_factor": 1,
                "type": "#673AB7",
                "size": [
                  55,
                  55
                ],
                "position": [
                  0,
                  0
                ]
              },
              {
                "id": 23,
                "properties": {
                  "date": "2024-04-12",
                  "quantity": 45,
                  "id": "ORD009",
                  "label": "Order"
                },
                "color": "#673AB7",
                "styles": {
                  "image": "https://em-content.zobj.net/source/apple/391/basket_1f9fa.png"
                },
                "label": "ORD009",
                "scale_factor": 1,
                "type": "#673AB7",
                "size": [
                  55,
                  55
                ],
                "position": [
                  0,
                  0
                ]
              },
              {
                "id": 27,
                "properties": {
                  "date": "2024-04-16",
                  "quantity": 65,
                  "id": "ORD013",
                  "label": "Order"
                },
                "color": "#673AB7",
                "styles": {
                  "image": "https://em-content.zobj.net/source/apple/391/basket_1f9fa.png"
                },
                "label": "ORD013",
                "scale_factor": 1,
                "type": "#673AB7",
                "size": [
                  55,
                  55
                ],
                "position": [
                  0,
                  0
                ]
              },
              {
                "id": 8,
                "properties": {
                  "storeType": "Retail",
                  "address": "Kongensgade 66, 5000 Odense, Denmark",
                  "totalEvents": 4,
                  "customerSize": "Medium",
                  "latitude": 55.4038,
                  "name": "HealthPlus Odense",
                  "point": {
                    "x": 10.4024,
                    "y": 55.4038,
                    "z": 0
                  },
                  "longitude": 10.4024,
                  "label": "Customer"
                },
                "color": "#607D8B",
                "styles": {
                  "image": "https://em-content.zobj.net/source/apple/391/hospital_1f3e5.png"
                },
                "label": "HealthPlus Odense",
                "scale_factor": 1,
                "type": "#607D8B",
                "size": [
                  55,
                  55
                ],
                "position": [
                  0,
                  0
                ]
              },
              {
                "id": 16,
                "properties": {
                  "date": "2024-04-03",
                  "quantity": 30,
                  "id": "ORD002",
                  "label": "Order"
                },
                "color": "#673AB7",
                "styles": {
                  "image": "https://em-content.zobj.net/source/apple/391/basket_1f9fa.png"
                },
                "label": "ORD002",
                "scale_factor": 1,
                "type": "#673AB7",
                "size": [
                  55,
                  55
                ],
                "position": [
                  0,
                  0
                ]
              },
              {
                "id": 24,
                "properties": {
                  "date": "2024-04-08",
                  "quantity": 30,
                  "id": "ORD010",
                  "label": "Order"
                },
                "color": "#673AB7",
                "styles": {
                  "image": "https://em-content.zobj.net/source/apple/391/basket_1f9fa.png"
                },
                "label": "ORD010",
                "scale_factor": 1,
                "type": "#673AB7",
                "size": [
                  55,
                  55
                ],
                "position": [
                  0,
                  0
                ]
              },
              {
                "id": 31,
                "properties": {
                  "date": "2024-04-20",
                  "quantity": 65,
                  "id": "ORD017",
                  "label": "Order"
                },
                "color": "#673AB7",
                "styles": {
                  "image": "https://em-content.zobj.net/source/apple/391/basket_1f9fa.png"
                },
                "label": "ORD017",
                "scale_factor": 1,
                "type": "#673AB7",
                "size": [
                  55,
                  55
                ],
                "position": [
                  0,
                  0
                ]
              },
              {
                "id": 37,
                "properties": {
                  "date": "2024-04-27",
                  "quantity": 35,
                  "id": "ORD023",
                  "label": "Order"
                },
                "color": "#673AB7",
                "styles": {
                  "image": "https://em-content.zobj.net/source/apple/391/basket_1f9fa.png"
                },
                "label": "ORD023",
                "scale_factor": 1,
                "type": "#673AB7",
                "size": [
                  55,
                  55
                ],
                "position": [
                  0,
                  0
                ]
              },
              {
                "id": 9,
                "properties": {
                  "storeType": "Retail",
                  "address": "Algade 55, 9000 Aalborg, Denmark",
                  "totalEvents": 3,
                  "customerSize": "Medium",
                  "latitude": 57.006733,
                  "name": "MediCare Aalborg",
                  "point": {
                    "x": 10.115147,
                    "y": 57.006733,
                    "z": 0
                  },
                  "longitude": 10.115147,
                  "label": "Customer"
                },
                "color": "#607D8B",
                "styles": {
                  "image": "https://em-content.zobj.net/source/apple/391/hospital_1f3e5.png"
                },
                "label": "MediCare Aalborg",
                "scale_factor": 1,
                "type": "#607D8B",
                "size": [
                  55,
                  55
                ],
                "position": [
                  0,
                  0
                ]
              },
              {
                "id": 17,
                "properties": {
                  "date": "2024-04-02",
                  "quantity": 25,
                  "id": "ORD003",
                  "label": "Order"
                },
                "color": "#673AB7",
                "styles": {
                  "image": "https://em-content.zobj.net/source/apple/391/basket_1f9fa.png"
                },
                "label": "ORD003",
                "scale_factor": 1,
                "type": "#673AB7",
                "size": [
                  55,
                  55
                ],
                "position": [
                  0,
                  0
                ]
              },
              {
                "id": 25,
                "properties": {
                  "date": "2024-04-15",
                  "quantity": 25,
                  "id": "ORD011",
                  "label": "Order"
                },
                "color": "#673AB7",
                "styles": {
                  "image": "https://em-content.zobj.net/source/apple/391/basket_1f9fa.png"
                },
                "label": "ORD011",
                "scale_factor": 1,
                "type": "#673AB7",
                "size": [
                  55,
                  55
                ],
                "position": [
                  0,
                  0
                ]
              },
              {
                "id": 33,
                "properties": {
                  "date": "2024-04-22",
                  "quantity": 75,
                  "id": "ORD019",
                  "label": "Order"
                },
                "color": "#673AB7",
                "styles": {
                  "image": "https://em-content.zobj.net/source/apple/391/basket_1f9fa.png"
                },
                "label": "ORD019",
                "scale_factor": 1,
                "type": "#673AB7",
                "size": [
                  55,
                  55
                ],
                "position": [
                  0,
                  0
                ]
              },
              {
                "id": 10,
                "properties": {
                  "storeType": "Retail",
                  "address": "Kongensgade 30, 6700 Esbjerg, Denmark",
                  "totalEvents": 4,
                  "customerSize": "Small",
                  "latitude": 55.476474,
                  "name": "Wellness Pharmacy Esbjerg",
                  "point": {
                    "x": 8.43177,
                    "y": 55.476474,
                    "z": 0
                  },
                  "longitude": 8.43177,
                  "label": "Customer"
                },
                "color": "#607D8B",
                "styles": {
                  "image": "https://em-content.zobj.net/source/apple/391/hospital_1f3e5.png"
                },
                "label": "Wellness Pharmacy Esbjerg",
                "scale_factor": 1,
                "type": "#607D8B",
                "size": [
                  55,
                  55
                ],
                "position": [
                  0,
                  0
                ]
              },
              {
                "id": 18,
                "properties": {
                  "date": "2024-04-04",
                  "quantity": 40,
                  "id": "ORD004",
                  "label": "Order"
                },
                "color": "#673AB7",
                "styles": {
                  "image": "https://em-content.zobj.net/source/apple/391/basket_1f9fa.png"
                },
                "label": "ORD004",
                "scale_factor": 1,
                "type": "#673AB7",
                "size": [
                  55,
                  55
                ],
                "position": [
                  0,
                  0
                ]
              }
            ],
            "_overview": {
              "enabled": null,
              "overview_set": false
            },
            "_selected_graph": [
              [],
              []
            ],
            "_sidebar": {
              "enabled": false,
              "start_with": ""
            },
            "_view_count": null,
            "_view_module": "yfiles-jupyter-graphs",
            "_view_module_version": "^1.6.2",
            "_view_name": "GraphView",
            "layout": "IPY_MODEL_4710c34fe79641b7a508cd570a2347b9"
          }
        },
        "583a8f7c598b4576955f07fbff167cbd": {
          "model_module": "@jupyter-widgets/base",
          "model_name": "LayoutModel",
          "model_module_version": "1.2.0",
          "state": {
            "_model_module": "@jupyter-widgets/base",
            "_model_module_version": "1.2.0",
            "_model_name": "LayoutModel",
            "_view_count": null,
            "_view_module": "@jupyter-widgets/base",
            "_view_module_version": "1.2.0",
            "_view_name": "LayoutView",
            "align_content": null,
            "align_items": null,
            "align_self": null,
            "border": null,
            "bottom": null,
            "display": null,
            "flex": null,
            "flex_flow": null,
            "grid_area": null,
            "grid_auto_columns": null,
            "grid_auto_flow": null,
            "grid_auto_rows": null,
            "grid_column": null,
            "grid_gap": null,
            "grid_row": null,
            "grid_template_areas": null,
            "grid_template_columns": null,
            "grid_template_rows": null,
            "height": "500px",
            "justify_content": null,
            "justify_items": null,
            "left": null,
            "margin": null,
            "max_height": null,
            "max_width": null,
            "min_height": null,
            "min_width": null,
            "object_fit": null,
            "object_position": null,
            "order": null,
            "overflow": null,
            "overflow_x": null,
            "overflow_y": null,
            "padding": null,
            "right": null,
            "top": null,
            "visibility": null,
            "width": "100%"
          }
        },
        "4710c34fe79641b7a508cd570a2347b9": {
          "model_module": "@jupyter-widgets/base",
          "model_name": "LayoutModel",
          "model_module_version": "1.2.0",
          "state": {
            "_model_module": "@jupyter-widgets/base",
            "_model_module_version": "1.2.0",
            "_model_name": "LayoutModel",
            "_view_count": null,
            "_view_module": "@jupyter-widgets/base",
            "_view_module_version": "1.2.0",
            "_view_name": "LayoutView",
            "align_content": null,
            "align_items": null,
            "align_self": null,
            "border": null,
            "bottom": null,
            "display": null,
            "flex": null,
            "flex_flow": null,
            "grid_area": null,
            "grid_auto_columns": null,
            "grid_auto_flow": null,
            "grid_auto_rows": null,
            "grid_column": null,
            "grid_gap": null,
            "grid_row": null,
            "grid_template_areas": null,
            "grid_template_columns": null,
            "grid_template_rows": null,
            "height": "720px",
            "justify_content": null,
            "justify_items": null,
            "left": null,
            "margin": null,
            "max_height": null,
            "max_width": null,
            "min_height": null,
            "min_width": null,
            "object_fit": null,
            "object_position": null,
            "order": null,
            "overflow": null,
            "overflow_x": null,
            "overflow_y": null,
            "padding": null,
            "right": null,
            "top": null,
            "visibility": null,
            "width": "100%"
          }
        },
        "dde45def74584609861810698e078b5d": {
          "model_module": "@jupyter-widgets/output",
          "model_name": "OutputModel",
          "model_module_version": "1.0.0",
          "state": {
            "_dom_classes": [],
            "_model_module": "@jupyter-widgets/output",
            "_model_module_version": "1.0.0",
            "_model_name": "OutputModel",
            "_view_count": null,
            "_view_module": "@jupyter-widgets/output",
            "_view_module_version": "1.0.0",
            "_view_name": "OutputView",
            "layout": "IPY_MODEL_69587a88c909410e8970ded7a0955e4b",
            "msg_id": "",
            "outputs": [
              {
                "output_type": "display_data",
                "data": {
                  "text/plain": "GraphWidget(layout=Layout(height='800px', width='100%'))",
                  "application/vnd.jupyter.widget-view+json": {
                    "version_major": 2,
                    "version_minor": 0,
                    "model_id": "c34a35b62568477cb17304e58e4073fa"
                  }
                },
                "metadata": {
                  "application/vnd.jupyter.widget-view+json": {
                    "colab": {
                      "custom_widget_manager": {
                        "url": "https://ssl.gstatic.com/colaboratory-static/widgets/colab-cdn-widget-manager/2b70e893a8ba7c0f/manager.min.js"
                      }
                    }
                  }
                }
              }
            ]
          }
        },
        "69587a88c909410e8970ded7a0955e4b": {
          "model_module": "@jupyter-widgets/base",
          "model_name": "LayoutModel",
          "model_module_version": "1.2.0",
          "state": {
            "_model_module": "@jupyter-widgets/base",
            "_model_module_version": "1.2.0",
            "_model_name": "LayoutModel",
            "_view_count": null,
            "_view_module": "@jupyter-widgets/base",
            "_view_module_version": "1.2.0",
            "_view_name": "LayoutView",
            "align_content": null,
            "align_items": null,
            "align_self": null,
            "border": null,
            "bottom": null,
            "display": null,
            "flex": null,
            "flex_flow": null,
            "grid_area": null,
            "grid_auto_columns": null,
            "grid_auto_flow": null,
            "grid_auto_rows": null,
            "grid_column": null,
            "grid_gap": null,
            "grid_row": null,
            "grid_template_areas": null,
            "grid_template_columns": null,
            "grid_template_rows": null,
            "height": null,
            "justify_content": null,
            "justify_items": null,
            "left": null,
            "margin": null,
            "max_height": null,
            "max_width": null,
            "min_height": null,
            "min_width": null,
            "object_fit": null,
            "object_position": null,
            "order": null,
            "overflow": null,
            "overflow_x": null,
            "overflow_y": null,
            "padding": null,
            "right": null,
            "top": null,
            "visibility": null,
            "width": null
          }
        },
        "2e06c6e1bf304e6d8583dafbbfdd5611": {
          "model_module": "@jupyter-widgets/base",
          "model_name": "LayoutModel",
          "model_module_version": "1.2.0",
          "state": {
            "_model_module": "@jupyter-widgets/base",
            "_model_module_version": "1.2.0",
            "_model_name": "LayoutModel",
            "_view_count": null,
            "_view_module": "@jupyter-widgets/base",
            "_view_module_version": "1.2.0",
            "_view_name": "LayoutView",
            "align_content": null,
            "align_items": null,
            "align_self": null,
            "border": null,
            "bottom": null,
            "display": null,
            "flex": null,
            "flex_flow": null,
            "grid_area": null,
            "grid_auto_columns": null,
            "grid_auto_flow": null,
            "grid_auto_rows": null,
            "grid_column": null,
            "grid_gap": null,
            "grid_row": null,
            "grid_template_areas": null,
            "grid_template_columns": null,
            "grid_template_rows": null,
            "height": "500px",
            "justify_content": null,
            "justify_items": null,
            "left": null,
            "margin": null,
            "max_height": null,
            "max_width": null,
            "min_height": null,
            "min_width": null,
            "object_fit": null,
            "object_position": null,
            "order": null,
            "overflow": null,
            "overflow_x": null,
            "overflow_y": null,
            "padding": null,
            "right": null,
            "top": null,
            "visibility": null,
            "width": "100%"
          }
        },
        "edcf3d73141e4087a10a4ab11858a9ec": {
          "model_module": "@jupyter-widgets/base",
          "model_name": "LayoutModel",
          "model_module_version": "1.2.0",
          "state": {
            "_model_module": "@jupyter-widgets/base",
            "_model_module_version": "1.2.0",
            "_model_name": "LayoutModel",
            "_view_count": null,
            "_view_module": "@jupyter-widgets/base",
            "_view_module_version": "1.2.0",
            "_view_name": "LayoutView",
            "align_content": null,
            "align_items": null,
            "align_self": null,
            "border": null,
            "bottom": null,
            "display": null,
            "flex": null,
            "flex_flow": null,
            "grid_area": null,
            "grid_auto_columns": null,
            "grid_auto_flow": null,
            "grid_auto_rows": null,
            "grid_column": null,
            "grid_gap": null,
            "grid_row": null,
            "grid_template_areas": null,
            "grid_template_columns": null,
            "grid_template_rows": null,
            "height": "800px",
            "justify_content": null,
            "justify_items": null,
            "left": null,
            "margin": null,
            "max_height": null,
            "max_width": null,
            "min_height": null,
            "min_width": null,
            "object_fit": null,
            "object_position": null,
            "order": null,
            "overflow": null,
            "overflow_x": null,
            "overflow_y": null,
            "padding": null,
            "right": null,
            "top": null,
            "visibility": null,
            "width": "100%"
          }
        },
        "c34a35b62568477cb17304e58e4073fa": {
          "model_module": "yfiles-jupyter-graphs",
          "model_name": "GraphModel",
          "model_module_version": "^1.6.2",
          "state": {
            "_context_pane_mapping": [
              {
                "id": "Neighborhood",
                "title": "Neighborhood"
              },
              {
                "id": "Data",
                "title": "Data"
              },
              {
                "id": "Search",
                "title": "Search"
              },
              {
                "id": "About",
                "title": "About"
              }
            ],
            "_data_importer": "neo4j",
            "_directed": true,
            "_dom_classes": [],
            "_edges": [
              {
                "id": 504,
                "start": 122,
                "end": 123,
                "properties": {
                  "label": "NEXT"
                },
                "label": "NEXT",
                "color": "#4CAF50",
                "thickness_factor": 1,
                "directed": true
              },
              {
                "id": 687,
                "start": 15,
                "end": 122,
                "properties": {
                  "label": "HAS_EVENT"
                },
                "label": "HAS_EVENT",
                "color": "#F44336",
                "thickness_factor": 1,
                "directed": true
              },
              {
                "id": 1052,
                "start": 118,
                "end": 119,
                "properties": {
                  "label": "NEXT"
                },
                "label": "NEXT",
                "color": "#4CAF50",
                "thickness_factor": 1,
                "directed": true
              },
              {
                "id": 679,
                "start": 15,
                "end": 118,
                "properties": {
                  "label": "HAS_EVENT"
                },
                "label": "HAS_EVENT",
                "color": "#F44336",
                "thickness_factor": 1,
                "directed": true
              },
              {
                "id": 506,
                "start": 124,
                "end": 125,
                "properties": {
                  "label": "NEXT"
                },
                "label": "NEXT",
                "color": "#4CAF50",
                "thickness_factor": 1,
                "directed": true
              },
              {
                "id": 691,
                "start": 15,
                "end": 124,
                "properties": {
                  "label": "HAS_EVENT"
                },
                "label": "HAS_EVENT",
                "color": "#F44336",
                "thickness_factor": 1,
                "directed": true
              },
              {
                "id": 502,
                "start": 120,
                "end": 121,
                "properties": {
                  "label": "NEXT"
                },
                "label": "NEXT",
                "color": "#4CAF50",
                "thickness_factor": 1,
                "directed": true
              },
              {
                "id": 683,
                "start": 15,
                "end": 120,
                "properties": {
                  "label": "HAS_EVENT"
                },
                "label": "HAS_EVENT",
                "color": "#F44336",
                "thickness_factor": 1,
                "directed": true
              },
              {
                "id": 507,
                "start": 125,
                "end": 126,
                "properties": {
                  "label": "NEXT"
                },
                "label": "NEXT",
                "color": "#4CAF50",
                "thickness_factor": 1,
                "directed": true
              },
              {
                "id": 693,
                "start": 15,
                "end": 125,
                "properties": {
                  "label": "HAS_EVENT"
                },
                "label": "HAS_EVENT",
                "color": "#F44336",
                "thickness_factor": 1,
                "directed": true
              },
              {
                "id": 1053,
                "start": 119,
                "end": 120,
                "properties": {
                  "label": "NEXT"
                },
                "label": "NEXT",
                "color": "#4CAF50",
                "thickness_factor": 1,
                "directed": true
              },
              {
                "id": 681,
                "start": 15,
                "end": 119,
                "properties": {
                  "label": "HAS_EVENT"
                },
                "label": "HAS_EVENT",
                "color": "#F44336",
                "thickness_factor": 1,
                "directed": true
              },
              {
                "id": 503,
                "start": 121,
                "end": 122,
                "properties": {
                  "label": "NEXT"
                },
                "label": "NEXT",
                "color": "#4CAF50",
                "thickness_factor": 1,
                "directed": true
              },
              {
                "id": 685,
                "start": 15,
                "end": 121,
                "properties": {
                  "label": "HAS_EVENT"
                },
                "label": "HAS_EVENT",
                "color": "#F44336",
                "thickness_factor": 1,
                "directed": true
              },
              {
                "id": 1051,
                "start": 117,
                "end": 118,
                "properties": {
                  "label": "NEXT"
                },
                "label": "NEXT",
                "color": "#4CAF50",
                "thickness_factor": 1,
                "directed": true
              },
              {
                "id": 677,
                "start": 15,
                "end": 117,
                "properties": {
                  "label": "HAS_EVENT"
                },
                "label": "HAS_EVENT",
                "color": "#F44336",
                "thickness_factor": 1,
                "directed": true
              },
              {
                "id": 505,
                "start": 123,
                "end": 124,
                "properties": {
                  "label": "NEXT"
                },
                "label": "NEXT",
                "color": "#4CAF50",
                "thickness_factor": 1,
                "directed": true
              },
              {
                "id": 689,
                "start": 15,
                "end": 123,
                "properties": {
                  "label": "HAS_EVENT"
                },
                "label": "HAS_EVENT",
                "color": "#F44336",
                "thickness_factor": 1,
                "directed": true
              },
              {
                "id": 1049,
                "start": 115,
                "end": 116,
                "properties": {
                  "label": "NEXT"
                },
                "label": "NEXT",
                "color": "#4CAF50",
                "thickness_factor": 1,
                "directed": true
              },
              {
                "id": 673,
                "start": 15,
                "end": 115,
                "properties": {
                  "label": "HAS_EVENT"
                },
                "label": "HAS_EVENT",
                "color": "#F44336",
                "thickness_factor": 1,
                "directed": true
              },
              {
                "id": 1050,
                "start": 116,
                "end": 117,
                "properties": {
                  "label": "NEXT"
                },
                "label": "NEXT",
                "color": "#4CAF50",
                "thickness_factor": 1,
                "directed": true
              },
              {
                "id": 675,
                "start": 15,
                "end": 116,
                "properties": {
                  "label": "HAS_EVENT"
                },
                "label": "HAS_EVENT",
                "color": "#F44336",
                "thickness_factor": 1,
                "directed": true
              },
              {
                "id": 508,
                "start": 154,
                "end": 155,
                "properties": {
                  "label": "NEXT"
                },
                "label": "NEXT",
                "color": "#4CAF50",
                "thickness_factor": 1,
                "directed": true
              },
              {
                "id": 751,
                "start": 16,
                "end": 154,
                "properties": {
                  "label": "HAS_EVENT"
                },
                "label": "HAS_EVENT",
                "color": "#F44336",
                "thickness_factor": 1,
                "directed": true
              },
              {
                "id": 511,
                "start": 157,
                "end": 158,
                "properties": {
                  "label": "NEXT"
                },
                "label": "NEXT",
                "color": "#4CAF50",
                "thickness_factor": 1,
                "directed": true
              },
              {
                "id": 757,
                "start": 16,
                "end": 157,
                "properties": {
                  "label": "HAS_EVENT"
                },
                "label": "HAS_EVENT",
                "color": "#F44336",
                "thickness_factor": 1,
                "directed": true
              },
              {
                "id": 510,
                "start": 156,
                "end": 157,
                "properties": {
                  "label": "NEXT"
                },
                "label": "NEXT",
                "color": "#4CAF50",
                "thickness_factor": 1,
                "directed": true
              },
              {
                "id": 755,
                "start": 16,
                "end": 156,
                "properties": {
                  "label": "HAS_EVENT"
                },
                "label": "HAS_EVENT",
                "color": "#F44336",
                "thickness_factor": 1,
                "directed": true
              },
              {
                "id": 512,
                "start": 158,
                "end": 159,
                "properties": {
                  "label": "NEXT"
                },
                "label": "NEXT",
                "color": "#4CAF50",
                "thickness_factor": 1,
                "directed": true
              },
              {
                "id": 759,
                "start": 16,
                "end": 158,
                "properties": {
                  "label": "HAS_EVENT"
                },
                "label": "HAS_EVENT",
                "color": "#F44336",
                "thickness_factor": 1,
                "directed": true
              },
              {
                "id": 509,
                "start": 155,
                "end": 156,
                "properties": {
                  "label": "NEXT"
                },
                "label": "NEXT",
                "color": "#4CAF50",
                "thickness_factor": 1,
                "directed": true
              },
              {
                "id": 753,
                "start": 16,
                "end": 155,
                "properties": {
                  "label": "HAS_EVENT"
                },
                "label": "HAS_EVENT",
                "color": "#F44336",
                "thickness_factor": 1,
                "directed": true
              },
              {
                "id": 515,
                "start": 239,
                "end": 240,
                "properties": {
                  "label": "NEXT"
                },
                "label": "NEXT",
                "color": "#4CAF50",
                "thickness_factor": 1,
                "directed": true
              },
              {
                "id": 931,
                "start": 17,
                "end": 239,
                "properties": {
                  "label": "HAS_EVENT"
                },
                "label": "HAS_EVENT",
                "color": "#F44336",
                "thickness_factor": 1,
                "directed": true
              },
              {
                "id": 807,
                "start": 248,
                "end": 249,
                "properties": {
                  "label": "NEXT"
                },
                "label": "NEXT",
                "color": "#4CAF50",
                "thickness_factor": 1,
                "directed": true
              },
              {
                "id": 949,
                "start": 17,
                "end": 248,
                "properties": {
                  "label": "HAS_EVENT"
                },
                "label": "HAS_EVENT",
                "color": "#F44336",
                "thickness_factor": 1,
                "directed": true
              },
              {
                "id": 522,
                "start": 244,
                "end": 245,
                "properties": {
                  "label": "NEXT"
                },
                "label": "NEXT",
                "color": "#4CAF50",
                "thickness_factor": 1,
                "directed": true
              },
              {
                "id": 941,
                "start": 17,
                "end": 244,
                "properties": {
                  "label": "HAS_EVENT"
                },
                "label": "HAS_EVENT",
                "color": "#F44336",
                "thickness_factor": 1,
                "directed": true
              },
              {
                "id": 808,
                "start": 249,
                "end": 250,
                "properties": {
                  "label": "NEXT"
                },
                "label": "NEXT",
                "color": "#4CAF50",
                "thickness_factor": 1,
                "directed": true
              },
              {
                "id": 951,
                "start": 17,
                "end": 249,
                "properties": {
                  "label": "HAS_EVENT"
                },
                "label": "HAS_EVENT",
                "color": "#F44336",
                "thickness_factor": 1,
                "directed": true
              },
              {
                "id": 525,
                "start": 247,
                "end": 248,
                "properties": {
                  "label": "NEXT"
                },
                "label": "NEXT",
                "color": "#4CAF50",
                "thickness_factor": 1,
                "directed": true
              },
              {
                "id": 947,
                "start": 17,
                "end": 247,
                "properties": {
                  "label": "HAS_EVENT"
                },
                "label": "HAS_EVENT",
                "color": "#F44336",
                "thickness_factor": 1,
                "directed": true
              },
              {
                "id": 514,
                "start": 238,
                "end": 239,
                "properties": {
                  "label": "NEXT"
                },
                "label": "NEXT",
                "color": "#4CAF50",
                "thickness_factor": 1,
                "directed": true
              },
              {
                "id": 929,
                "start": 17,
                "end": 238,
                "properties": {
                  "label": "HAS_EVENT"
                },
                "label": "HAS_EVENT",
                "color": "#F44336",
                "thickness_factor": 1,
                "directed": true
              },
              {
                "id": 520,
                "start": 242,
                "end": 243,
                "properties": {
                  "label": "NEXT"
                },
                "label": "NEXT",
                "color": "#4CAF50",
                "thickness_factor": 1,
                "directed": true
              },
              {
                "id": 937,
                "start": 17,
                "end": 242,
                "properties": {
                  "label": "HAS_EVENT"
                },
                "label": "HAS_EVENT",
                "color": "#F44336",
                "thickness_factor": 1,
                "directed": true
              },
              {
                "id": 523,
                "start": 245,
                "end": 246,
                "properties": {
                  "label": "NEXT"
                },
                "label": "NEXT",
                "color": "#4CAF50",
                "thickness_factor": 1,
                "directed": true
              },
              {
                "id": 943,
                "start": 17,
                "end": 245,
                "properties": {
                  "label": "HAS_EVENT"
                },
                "label": "HAS_EVENT",
                "color": "#F44336",
                "thickness_factor": 1,
                "directed": true
              },
              {
                "id": 517,
                "start": 240,
                "end": 241,
                "properties": {
                  "label": "NEXT"
                },
                "label": "NEXT",
                "color": "#4CAF50",
                "thickness_factor": 1,
                "directed": true
              },
              {
                "id": 933,
                "start": 17,
                "end": 240,
                "properties": {
                  "label": "HAS_EVENT"
                },
                "label": "HAS_EVENT",
                "color": "#F44336",
                "thickness_factor": 1,
                "directed": true
              },
              {
                "id": 513,
                "start": 237,
                "end": 238,
                "properties": {
                  "label": "NEXT"
                },
                "label": "NEXT",
                "color": "#4CAF50",
                "thickness_factor": 1,
                "directed": true
              },
              {
                "id": 927,
                "start": 17,
                "end": 237,
                "properties": {
                  "label": "HAS_EVENT"
                },
                "label": "HAS_EVENT",
                "color": "#F44336",
                "thickness_factor": 1,
                "directed": true
              },
              {
                "id": 521,
                "start": 243,
                "end": 244,
                "properties": {
                  "label": "NEXT"
                },
                "label": "NEXT",
                "color": "#4CAF50",
                "thickness_factor": 1,
                "directed": true
              },
              {
                "id": 939,
                "start": 17,
                "end": 243,
                "properties": {
                  "label": "HAS_EVENT"
                },
                "label": "HAS_EVENT",
                "color": "#F44336",
                "thickness_factor": 1,
                "directed": true
              },
              {
                "id": 524,
                "start": 246,
                "end": 247,
                "properties": {
                  "label": "NEXT"
                },
                "label": "NEXT",
                "color": "#4CAF50",
                "thickness_factor": 1,
                "directed": true
              },
              {
                "id": 945,
                "start": 17,
                "end": 246,
                "properties": {
                  "label": "HAS_EVENT"
                },
                "label": "HAS_EVENT",
                "color": "#F44336",
                "thickness_factor": 1,
                "directed": true
              },
              {
                "id": 519,
                "start": 241,
                "end": 242,
                "properties": {
                  "label": "NEXT"
                },
                "label": "NEXT",
                "color": "#4CAF50",
                "thickness_factor": 1,
                "directed": true
              },
              {
                "id": 935,
                "start": 17,
                "end": 241,
                "properties": {
                  "label": "HAS_EVENT"
                },
                "label": "HAS_EVENT",
                "color": "#F44336",
                "thickness_factor": 1,
                "directed": true
              },
              {
                "id": 527,
                "start": 88,
                "end": 89,
                "properties": {
                  "label": "NEXT"
                },
                "label": "NEXT",
                "color": "#4CAF50",
                "thickness_factor": 1,
                "directed": true
              },
              {
                "id": 619,
                "start": 18,
                "end": 88,
                "properties": {
                  "label": "HAS_EVENT"
                },
                "label": "HAS_EVENT",
                "color": "#F44336",
                "thickness_factor": 1,
                "directed": true
              },
              {
                "id": 810,
                "start": 85,
                "end": 86,
                "properties": {
                  "label": "NEXT"
                },
                "label": "NEXT",
                "color": "#4CAF50",
                "thickness_factor": 1,
                "directed": true
              },
              {
                "id": 613,
                "start": 18,
                "end": 85,
                "properties": {
                  "label": "HAS_EVENT"
                },
                "label": "HAS_EVENT",
                "color": "#F44336",
                "thickness_factor": 1,
                "directed": true
              },
              {
                "id": 529,
                "start": 90,
                "end": 91,
                "properties": {
                  "label": "NEXT"
                },
                "label": "NEXT",
                "color": "#4CAF50",
                "thickness_factor": 1,
                "directed": true
              },
              {
                "id": 623,
                "start": 18,
                "end": 90,
                "properties": {
                  "label": "HAS_EVENT"
                },
                "label": "HAS_EVENT",
                "color": "#F44336",
                "thickness_factor": 1,
                "directed": true
              },
              {
                "id": 530,
                "start": 91,
                "end": 92,
                "properties": {
                  "label": "NEXT"
                },
                "label": "NEXT",
                "color": "#4CAF50",
                "thickness_factor": 1,
                "directed": true
              },
              {
                "id": 625,
                "start": 18,
                "end": 91,
                "properties": {
                  "label": "HAS_EVENT"
                },
                "label": "HAS_EVENT",
                "color": "#F44336",
                "thickness_factor": 1,
                "directed": true
              },
              {
                "id": 528,
                "start": 89,
                "end": 90,
                "properties": {
                  "label": "NEXT"
                },
                "label": "NEXT",
                "color": "#4CAF50",
                "thickness_factor": 1,
                "directed": true
              },
              {
                "id": 621,
                "start": 18,
                "end": 89,
                "properties": {
                  "label": "HAS_EVENT"
                },
                "label": "HAS_EVENT",
                "color": "#F44336",
                "thickness_factor": 1,
                "directed": true
              },
              {
                "id": 811,
                "start": 86,
                "end": 87,
                "properties": {
                  "label": "NEXT"
                },
                "label": "NEXT",
                "color": "#4CAF50",
                "thickness_factor": 1,
                "directed": true
              },
              {
                "id": 615,
                "start": 18,
                "end": 86,
                "properties": {
                  "label": "HAS_EVENT"
                },
                "label": "HAS_EVENT",
                "color": "#F44336",
                "thickness_factor": 1,
                "directed": true
              },
              {
                "id": 809,
                "start": 84,
                "end": 85,
                "properties": {
                  "label": "NEXT"
                },
                "label": "NEXT",
                "color": "#4CAF50",
                "thickness_factor": 1,
                "directed": true
              },
              {
                "id": 611,
                "start": 18,
                "end": 84,
                "properties": {
                  "label": "HAS_EVENT"
                },
                "label": "HAS_EVENT",
                "color": "#F44336",
                "thickness_factor": 1,
                "directed": true
              },
              {
                "id": 1549,
                "start": 87,
                "end": 88,
                "properties": {
                  "label": "NEXT"
                },
                "label": "NEXT",
                "color": "#4CAF50",
                "thickness_factor": 1,
                "directed": true
              },
              {
                "id": 617,
                "start": 18,
                "end": 87,
                "properties": {
                  "label": "HAS_EVENT"
                },
                "label": "HAS_EVENT",
                "color": "#F44336",
                "thickness_factor": 1,
                "directed": true
              },
              {
                "id": 813,
                "start": 218,
                "end": 219,
                "properties": {
                  "label": "NEXT"
                },
                "label": "NEXT",
                "color": "#4CAF50",
                "thickness_factor": 1,
                "directed": true
              },
              {
                "id": 889,
                "start": 19,
                "end": 218,
                "properties": {
                  "label": "HAS_EVENT"
                },
                "label": "HAS_EVENT",
                "color": "#F44336",
                "thickness_factor": 1,
                "directed": true
              },
              {
                "id": 814,
                "start": 219,
                "end": 220,
                "properties": {
                  "label": "NEXT"
                },
                "label": "NEXT",
                "color": "#4CAF50",
                "thickness_factor": 1,
                "directed": true
              },
              {
                "id": 891,
                "start": 19,
                "end": 219,
                "properties": {
                  "label": "HAS_EVENT"
                },
                "label": "HAS_EVENT",
                "color": "#F44336",
                "thickness_factor": 1,
                "directed": true
              },
              {
                "id": 812,
                "start": 217,
                "end": 218,
                "properties": {
                  "label": "NEXT"
                },
                "label": "NEXT",
                "color": "#4CAF50",
                "thickness_factor": 1,
                "directed": true
              },
              {
                "id": 887,
                "start": 19,
                "end": 217,
                "properties": {
                  "label": "HAS_EVENT"
                },
                "label": "HAS_EVENT",
                "color": "#F44336",
                "thickness_factor": 1,
                "directed": true
              },
              {
                "id": 531,
                "start": 216,
                "end": 217,
                "properties": {
                  "label": "NEXT"
                },
                "label": "NEXT",
                "color": "#4CAF50",
                "thickness_factor": 1,
                "directed": true
              },
              {
                "id": 885,
                "start": 19,
                "end": 216,
                "properties": {
                  "label": "HAS_EVENT"
                },
                "label": "HAS_EVENT",
                "color": "#F44336",
                "thickness_factor": 1,
                "directed": true
              },
              {
                "id": 815,
                "start": 251,
                "end": 252,
                "properties": {
                  "label": "NEXT"
                },
                "label": "NEXT",
                "color": "#4CAF50",
                "thickness_factor": 1,
                "directed": true
              },
              {
                "id": 955,
                "start": 20,
                "end": 251,
                "properties": {
                  "label": "HAS_EVENT"
                },
                "label": "HAS_EVENT",
                "color": "#F44336",
                "thickness_factor": 1,
                "directed": true
              },
              {
                "id": 820,
                "start": 256,
                "end": 257,
                "properties": {
                  "label": "NEXT"
                },
                "label": "NEXT",
                "color": "#4CAF50",
                "thickness_factor": 1,
                "directed": true
              },
              {
                "id": 965,
                "start": 20,
                "end": 256,
                "properties": {
                  "label": "HAS_EVENT"
                },
                "label": "HAS_EVENT",
                "color": "#F44336",
                "thickness_factor": 1,
                "directed": true
              },
              {
                "id": 818,
                "start": 254,
                "end": 255,
                "properties": {
                  "label": "NEXT"
                },
                "label": "NEXT",
                "color": "#4CAF50",
                "thickness_factor": 1,
                "directed": true
              },
              {
                "id": 961,
                "start": 20,
                "end": 254,
                "properties": {
                  "label": "HAS_EVENT"
                },
                "label": "HAS_EVENT",
                "color": "#F44336",
                "thickness_factor": 1,
                "directed": true
              },
              {
                "id": 817,
                "start": 253,
                "end": 254,
                "properties": {
                  "label": "NEXT"
                },
                "label": "NEXT",
                "color": "#4CAF50",
                "thickness_factor": 1,
                "directed": true
              },
              {
                "id": 959,
                "start": 20,
                "end": 253,
                "properties": {
                  "label": "HAS_EVENT"
                },
                "label": "HAS_EVENT",
                "color": "#F44336",
                "thickness_factor": 1,
                "directed": true
              },
              {
                "id": 1057,
                "start": 260,
                "end": 261,
                "properties": {
                  "label": "NEXT"
                },
                "label": "NEXT",
                "color": "#4CAF50",
                "thickness_factor": 1,
                "directed": true
              },
              {
                "id": 973,
                "start": 20,
                "end": 260,
                "properties": {
                  "label": "HAS_EVENT"
                },
                "label": "HAS_EVENT",
                "color": "#F44336",
                "thickness_factor": 1,
                "directed": true
              },
              {
                "id": 1059,
                "start": 262,
                "end": 263,
                "properties": {
                  "label": "NEXT"
                },
                "label": "NEXT",
                "color": "#4CAF50",
                "thickness_factor": 1,
                "directed": true
              },
              {
                "id": 977,
                "start": 20,
                "end": 262,
                "properties": {
                  "label": "HAS_EVENT"
                },
                "label": "HAS_EVENT",
                "color": "#F44336",
                "thickness_factor": 1,
                "directed": true
              },
              {
                "id": 819,
                "start": 255,
                "end": 256,
                "properties": {
                  "label": "NEXT"
                },
                "label": "NEXT",
                "color": "#4CAF50",
                "thickness_factor": 1,
                "directed": true
              },
              {
                "id": 963,
                "start": 20,
                "end": 255,
                "properties": {
                  "label": "HAS_EVENT"
                },
                "label": "HAS_EVENT",
                "color": "#F44336",
                "thickness_factor": 1,
                "directed": true
              },
              {
                "id": 1056,
                "start": 259,
                "end": 260,
                "properties": {
                  "label": "NEXT"
                },
                "label": "NEXT",
                "color": "#4CAF50",
                "thickness_factor": 1,
                "directed": true
              },
              {
                "id": 971,
                "start": 20,
                "end": 259,
                "properties": {
                  "label": "HAS_EVENT"
                },
                "label": "HAS_EVENT",
                "color": "#F44336",
                "thickness_factor": 1,
                "directed": true
              },
              {
                "id": 1054,
                "start": 257,
                "end": 258,
                "properties": {
                  "label": "NEXT"
                },
                "label": "NEXT",
                "color": "#4CAF50",
                "thickness_factor": 1,
                "directed": true
              },
              {
                "id": 967,
                "start": 20,
                "end": 257,
                "properties": {
                  "label": "HAS_EVENT"
                },
                "label": "HAS_EVENT",
                "color": "#F44336",
                "thickness_factor": 1,
                "directed": true
              },
              {
                "id": 1058,
                "start": 261,
                "end": 262,
                "properties": {
                  "label": "NEXT"
                },
                "label": "NEXT",
                "color": "#4CAF50",
                "thickness_factor": 1,
                "directed": true
              },
              {
                "id": 975,
                "start": 20,
                "end": 261,
                "properties": {
                  "label": "HAS_EVENT"
                },
                "label": "HAS_EVENT",
                "color": "#F44336",
                "thickness_factor": 1,
                "directed": true
              },
              {
                "id": 816,
                "start": 252,
                "end": 253,
                "properties": {
                  "label": "NEXT"
                },
                "label": "NEXT",
                "color": "#4CAF50",
                "thickness_factor": 1,
                "directed": true
              },
              {
                "id": 957,
                "start": 20,
                "end": 252,
                "properties": {
                  "label": "HAS_EVENT"
                },
                "label": "HAS_EVENT",
                "color": "#F44336",
                "thickness_factor": 1,
                "directed": true
              },
              {
                "id": 1055,
                "start": 258,
                "end": 259,
                "properties": {
                  "label": "NEXT"
                },
                "label": "NEXT",
                "color": "#4CAF50",
                "thickness_factor": 1,
                "directed": true
              },
              {
                "id": 969,
                "start": 20,
                "end": 258,
                "properties": {
                  "label": "HAS_EVENT"
                },
                "label": "HAS_EVENT",
                "color": "#F44336",
                "thickness_factor": 1,
                "directed": true
              },
              {
                "id": 1060,
                "start": 140,
                "end": 141,
                "properties": {
                  "label": "NEXT"
                },
                "label": "NEXT",
                "color": "#4CAF50",
                "thickness_factor": 1,
                "directed": true
              },
              {
                "id": 723,
                "start": 21,
                "end": 140,
                "properties": {
                  "label": "HAS_EVENT"
                },
                "label": "HAS_EVENT",
                "color": "#F44336",
                "thickness_factor": 1,
                "directed": true
              },
              {
                "id": 1064,
                "start": 144,
                "end": 145,
                "properties": {
                  "label": "NEXT"
                },
                "label": "NEXT",
                "color": "#4CAF50",
                "thickness_factor": 1,
                "directed": true
              },
              {
                "id": 731,
                "start": 21,
                "end": 144,
                "properties": {
                  "label": "HAS_EVENT"
                },
                "label": "HAS_EVENT",
                "color": "#F44336",
                "thickness_factor": 1,
                "directed": true
              },
              {
                "id": 1066,
                "start": 146,
                "end": 147,
                "properties": {
                  "label": "NEXT"
                },
                "label": "NEXT",
                "color": "#4CAF50",
                "thickness_factor": 1,
                "directed": true
              },
              {
                "id": 735,
                "start": 21,
                "end": 146,
                "properties": {
                  "label": "HAS_EVENT"
                },
                "label": "HAS_EVENT",
                "color": "#F44336",
                "thickness_factor": 1,
                "directed": true
              },
              {
                "id": 1061,
                "start": 141,
                "end": 142,
                "properties": {
                  "label": "NEXT"
                },
                "label": "NEXT",
                "color": "#4CAF50",
                "thickness_factor": 1,
                "directed": true
              },
              {
                "id": 725,
                "start": 21,
                "end": 141,
                "properties": {
                  "label": "HAS_EVENT"
                },
                "label": "HAS_EVENT",
                "color": "#F44336",
                "thickness_factor": 1,
                "directed": true
              },
              {
                "id": 1065,
                "start": 145,
                "end": 146,
                "properties": {
                  "label": "NEXT"
                },
                "label": "NEXT",
                "color": "#4CAF50",
                "thickness_factor": 1,
                "directed": true
              },
              {
                "id": 733,
                "start": 21,
                "end": 145,
                "properties": {
                  "label": "HAS_EVENT"
                },
                "label": "HAS_EVENT",
                "color": "#F44336",
                "thickness_factor": 1,
                "directed": true
              },
              {
                "id": 1062,
                "start": 142,
                "end": 143,
                "properties": {
                  "label": "NEXT"
                },
                "label": "NEXT",
                "color": "#4CAF50",
                "thickness_factor": 1,
                "directed": true
              },
              {
                "id": 727,
                "start": 21,
                "end": 142,
                "properties": {
                  "label": "HAS_EVENT"
                },
                "label": "HAS_EVENT",
                "color": "#F44336",
                "thickness_factor": 1,
                "directed": true
              },
              {
                "id": 1063,
                "start": 143,
                "end": 144,
                "properties": {
                  "label": "NEXT"
                },
                "label": "NEXT",
                "color": "#4CAF50",
                "thickness_factor": 1,
                "directed": true
              },
              {
                "id": 729,
                "start": 21,
                "end": 143,
                "properties": {
                  "label": "HAS_EVENT"
                },
                "label": "HAS_EVENT",
                "color": "#F44336",
                "thickness_factor": 1,
                "directed": true
              },
              {
                "id": 1070,
                "start": 185,
                "end": 186,
                "properties": {
                  "label": "NEXT"
                },
                "label": "NEXT",
                "color": "#4CAF50",
                "thickness_factor": 1,
                "directed": true
              },
              {
                "id": 825,
                "start": 22,
                "end": 185,
                "properties": {
                  "label": "HAS_EVENT"
                },
                "label": "HAS_EVENT",
                "color": "#F44336",
                "thickness_factor": 1,
                "directed": true
              },
              {
                "id": 1072,
                "start": 187,
                "end": 188,
                "properties": {
                  "label": "NEXT"
                },
                "label": "NEXT",
                "color": "#4CAF50",
                "thickness_factor": 1,
                "directed": true
              },
              {
                "id": 829,
                "start": 22,
                "end": 187,
                "properties": {
                  "label": "HAS_EVENT"
                },
                "label": "HAS_EVENT",
                "color": "#F44336",
                "thickness_factor": 1,
                "directed": true
              },
              {
                "id": 1071,
                "start": 186,
                "end": 187,
                "properties": {
                  "label": "NEXT"
                },
                "label": "NEXT",
                "color": "#4CAF50",
                "thickness_factor": 1,
                "directed": true
              },
              {
                "id": 827,
                "start": 22,
                "end": 186,
                "properties": {
                  "label": "HAS_EVENT"
                },
                "label": "HAS_EVENT",
                "color": "#F44336",
                "thickness_factor": 1,
                "directed": true
              },
              {
                "id": 1074,
                "start": 189,
                "end": 190,
                "properties": {
                  "label": "NEXT"
                },
                "label": "NEXT",
                "color": "#4CAF50",
                "thickness_factor": 1,
                "directed": true
              },
              {
                "id": 833,
                "start": 22,
                "end": 189,
                "properties": {
                  "label": "HAS_EVENT"
                },
                "label": "HAS_EVENT",
                "color": "#F44336",
                "thickness_factor": 1,
                "directed": true
              },
              {
                "id": 1073,
                "start": 188,
                "end": 189,
                "properties": {
                  "label": "NEXT"
                },
                "label": "NEXT",
                "color": "#4CAF50",
                "thickness_factor": 1,
                "directed": true
              },
              {
                "id": 831,
                "start": 22,
                "end": 188,
                "properties": {
                  "label": "HAS_EVENT"
                },
                "label": "HAS_EVENT",
                "color": "#F44336",
                "thickness_factor": 1,
                "directed": true
              },
              {
                "id": 1067,
                "start": 181,
                "end": 182,
                "properties": {
                  "label": "NEXT"
                },
                "label": "NEXT",
                "color": "#4CAF50",
                "thickness_factor": 1,
                "directed": true
              },
              {
                "id": 805,
                "start": 22,
                "end": 181,
                "properties": {
                  "label": "HAS_EVENT"
                },
                "label": "HAS_EVENT",
                "color": "#F44336",
                "thickness_factor": 1,
                "directed": true
              },
              {
                "id": 1068,
                "start": 182,
                "end": 184,
                "properties": {
                  "label": "NEXT"
                },
                "label": "NEXT",
                "color": "#4CAF50",
                "thickness_factor": 1,
                "directed": true
              },
              {
                "id": 821,
                "start": 22,
                "end": 182,
                "properties": {
                  "label": "HAS_EVENT"
                },
                "label": "HAS_EVENT",
                "color": "#F44336",
                "thickness_factor": 1,
                "directed": true
              },
              {
                "id": 1069,
                "start": 184,
                "end": 185,
                "properties": {
                  "label": "NEXT"
                },
                "label": "NEXT",
                "color": "#4CAF50",
                "thickness_factor": 1,
                "directed": true
              },
              {
                "id": 823,
                "start": 22,
                "end": 184,
                "properties": {
                  "label": "HAS_EVENT"
                },
                "label": "HAS_EVENT",
                "color": "#F44336",
                "thickness_factor": 1,
                "directed": true
              },
              {
                "id": 1075,
                "start": 190,
                "end": 192,
                "properties": {
                  "label": "NEXT"
                },
                "label": "NEXT",
                "color": "#4CAF50",
                "thickness_factor": 1,
                "directed": true
              },
              {
                "id": 835,
                "start": 22,
                "end": 190,
                "properties": {
                  "label": "HAS_EVENT"
                },
                "label": "HAS_EVENT",
                "color": "#F44336",
                "thickness_factor": 1,
                "directed": true
              },
              {
                "id": 1077,
                "start": 287,
                "end": 288,
                "properties": {
                  "label": "NEXT"
                },
                "label": "NEXT",
                "color": "#4CAF50",
                "thickness_factor": 1,
                "directed": true
              },
              {
                "id": 1027,
                "start": 23,
                "end": 287,
                "properties": {
                  "label": "HAS_EVENT"
                },
                "label": "HAS_EVENT",
                "color": "#F44336",
                "thickness_factor": 1,
                "directed": true
              },
              {
                "id": 1079,
                "start": 289,
                "end": 290,
                "properties": {
                  "label": "NEXT"
                },
                "label": "NEXT",
                "color": "#4CAF50",
                "thickness_factor": 1,
                "directed": true
              },
              {
                "id": 1031,
                "start": 23,
                "end": 289,
                "properties": {
                  "label": "HAS_EVENT"
                },
                "label": "HAS_EVENT",
                "color": "#F44336",
                "thickness_factor": 1,
                "directed": true
              },
              {
                "id": 1081,
                "start": 291,
                "end": 292,
                "properties": {
                  "label": "NEXT"
                },
                "label": "NEXT",
                "color": "#4CAF50",
                "thickness_factor": 1,
                "directed": true
              },
              {
                "id": 1035,
                "start": 23,
                "end": 291,
                "properties": {
                  "label": "HAS_EVENT"
                },
                "label": "HAS_EVENT",
                "color": "#F44336",
                "thickness_factor": 1,
                "directed": true
              },
              {
                "id": 1080,
                "start": 290,
                "end": 291,
                "properties": {
                  "label": "NEXT"
                },
                "label": "NEXT",
                "color": "#4CAF50",
                "thickness_factor": 1,
                "directed": true
              },
              {
                "id": 1033,
                "start": 23,
                "end": 290,
                "properties": {
                  "label": "HAS_EVENT"
                },
                "label": "HAS_EVENT",
                "color": "#F44336",
                "thickness_factor": 1,
                "directed": true
              },
              {
                "id": 1085,
                "start": 295,
                "end": 296,
                "properties": {
                  "label": "NEXT"
                },
                "label": "NEXT",
                "color": "#4CAF50",
                "thickness_factor": 1,
                "directed": true
              },
              {
                "id": 1043,
                "start": 23,
                "end": 295,
                "properties": {
                  "label": "HAS_EVENT"
                },
                "label": "HAS_EVENT",
                "color": "#F44336",
                "thickness_factor": 1,
                "directed": true
              },
              {
                "id": 1084,
                "start": 294,
                "end": 295,
                "properties": {
                  "label": "NEXT"
                },
                "label": "NEXT",
                "color": "#4CAF50",
                "thickness_factor": 1,
                "directed": true
              },
              {
                "id": 1041,
                "start": 23,
                "end": 294,
                "properties": {
                  "label": "HAS_EVENT"
                },
                "label": "HAS_EVENT",
                "color": "#F44336",
                "thickness_factor": 1,
                "directed": true
              },
              {
                "id": 1083,
                "start": 293,
                "end": 294,
                "properties": {
                  "label": "NEXT"
                },
                "label": "NEXT",
                "color": "#4CAF50",
                "thickness_factor": 1,
                "directed": true
              },
              {
                "id": 1039,
                "start": 23,
                "end": 293,
                "properties": {
                  "label": "HAS_EVENT"
                },
                "label": "HAS_EVENT",
                "color": "#F44336",
                "thickness_factor": 1,
                "directed": true
              },
              {
                "id": 1082,
                "start": 292,
                "end": 293,
                "properties": {
                  "label": "NEXT"
                },
                "label": "NEXT",
                "color": "#4CAF50",
                "thickness_factor": 1,
                "directed": true
              },
              {
                "id": 1037,
                "start": 23,
                "end": 292,
                "properties": {
                  "label": "HAS_EVENT"
                },
                "label": "HAS_EVENT",
                "color": "#F44336",
                "thickness_factor": 1,
                "directed": true
              },
              {
                "id": 1076,
                "start": 286,
                "end": 287,
                "properties": {
                  "label": "NEXT"
                },
                "label": "NEXT",
                "color": "#4CAF50",
                "thickness_factor": 1,
                "directed": true
              },
              {
                "id": 1025,
                "start": 23,
                "end": 286,
                "properties": {
                  "label": "HAS_EVENT"
                },
                "label": "HAS_EVENT",
                "color": "#F44336",
                "thickness_factor": 1,
                "directed": true
              },
              {
                "id": 1078,
                "start": 288,
                "end": 289,
                "properties": {
                  "label": "NEXT"
                },
                "label": "NEXT",
                "color": "#4CAF50",
                "thickness_factor": 1,
                "directed": true
              },
              {
                "id": 1029,
                "start": 23,
                "end": 288,
                "properties": {
                  "label": "HAS_EVENT"
                },
                "label": "HAS_EVENT",
                "color": "#F44336",
                "thickness_factor": 1,
                "directed": true
              },
              {
                "id": 1086,
                "start": 296,
                "end": 297,
                "properties": {
                  "label": "NEXT"
                },
                "label": "NEXT",
                "color": "#4CAF50",
                "thickness_factor": 1,
                "directed": true
              },
              {
                "id": 1045,
                "start": 23,
                "end": 296,
                "properties": {
                  "label": "HAS_EVENT"
                },
                "label": "HAS_EVENT",
                "color": "#F44336",
                "thickness_factor": 1,
                "directed": true
              },
              {
                "id": 1090,
                "start": 151,
                "end": 152,
                "properties": {
                  "label": "NEXT"
                },
                "label": "NEXT",
                "color": "#4CAF50",
                "thickness_factor": 1,
                "directed": true
              },
              {
                "id": 745,
                "start": 24,
                "end": 151,
                "properties": {
                  "label": "HAS_EVENT"
                },
                "label": "HAS_EVENT",
                "color": "#F44336",
                "thickness_factor": 1,
                "directed": true
              },
              {
                "id": 1091,
                "start": 152,
                "end": 153,
                "properties": {
                  "label": "NEXT"
                },
                "label": "NEXT",
                "color": "#4CAF50",
                "thickness_factor": 1,
                "directed": true
              },
              {
                "id": 747,
                "start": 24,
                "end": 152,
                "properties": {
                  "label": "HAS_EVENT"
                },
                "label": "HAS_EVENT",
                "color": "#F44336",
                "thickness_factor": 1,
                "directed": true
              },
              {
                "id": 1087,
                "start": 148,
                "end": 149,
                "properties": {
                  "label": "NEXT"
                },
                "label": "NEXT",
                "color": "#4CAF50",
                "thickness_factor": 1,
                "directed": true
              },
              {
                "id": 739,
                "start": 24,
                "end": 148,
                "properties": {
                  "label": "HAS_EVENT"
                },
                "label": "HAS_EVENT",
                "color": "#F44336",
                "thickness_factor": 1,
                "directed": true
              },
              {
                "id": 1089,
                "start": 150,
                "end": 151,
                "properties": {
                  "label": "NEXT"
                },
                "label": "NEXT",
                "color": "#4CAF50",
                "thickness_factor": 1,
                "directed": true
              },
              {
                "id": 743,
                "start": 24,
                "end": 150,
                "properties": {
                  "label": "HAS_EVENT"
                },
                "label": "HAS_EVENT",
                "color": "#F44336",
                "thickness_factor": 1,
                "directed": true
              },
              {
                "id": 1088,
                "start": 149,
                "end": 150,
                "properties": {
                  "label": "NEXT"
                },
                "label": "NEXT",
                "color": "#4CAF50",
                "thickness_factor": 1,
                "directed": true
              },
              {
                "id": 741,
                "start": 24,
                "end": 149,
                "properties": {
                  "label": "HAS_EVENT"
                },
                "label": "HAS_EVENT",
                "color": "#F44336",
                "thickness_factor": 1,
                "directed": true
              },
              {
                "id": 1096,
                "start": 206,
                "end": 207,
                "properties": {
                  "label": "NEXT"
                },
                "label": "NEXT",
                "color": "#4CAF50",
                "thickness_factor": 1,
                "directed": true
              },
              {
                "id": 865,
                "start": 25,
                "end": 206,
                "properties": {
                  "label": "HAS_EVENT"
                },
                "label": "HAS_EVENT",
                "color": "#F44336",
                "thickness_factor": 1,
                "directed": true
              },
              {
                "id": 1104,
                "start": 214,
                "end": 215,
                "properties": {
                  "label": "NEXT"
                },
                "label": "NEXT",
                "color": "#4CAF50",
                "thickness_factor": 1,
                "directed": true
              },
              {
                "id": 881,
                "start": 25,
                "end": 214,
                "properties": {
                  "label": "HAS_EVENT"
                },
                "label": "HAS_EVENT",
                "color": "#F44336",
                "thickness_factor": 1,
                "directed": true
              },
              {
                "id": 1092,
                "start": 202,
                "end": 203,
                "properties": {
                  "label": "NEXT"
                },
                "label": "NEXT",
                "color": "#4CAF50",
                "thickness_factor": 1,
                "directed": true
              },
              {
                "id": 857,
                "start": 25,
                "end": 202,
                "properties": {
                  "label": "HAS_EVENT"
                },
                "label": "HAS_EVENT",
                "color": "#F44336",
                "thickness_factor": 1,
                "directed": true
              },
              {
                "id": 1101,
                "start": 211,
                "end": 212,
                "properties": {
                  "label": "NEXT"
                },
                "label": "NEXT",
                "color": "#4CAF50",
                "thickness_factor": 1,
                "directed": true
              },
              {
                "id": 875,
                "start": 25,
                "end": 211,
                "properties": {
                  "label": "HAS_EVENT"
                },
                "label": "HAS_EVENT",
                "color": "#F44336",
                "thickness_factor": 1,
                "directed": true
              },
              {
                "id": 1102,
                "start": 212,
                "end": 213,
                "properties": {
                  "label": "NEXT"
                },
                "label": "NEXT",
                "color": "#4CAF50",
                "thickness_factor": 1,
                "directed": true
              },
              {
                "id": 877,
                "start": 25,
                "end": 212,
                "properties": {
                  "label": "HAS_EVENT"
                },
                "label": "HAS_EVENT",
                "color": "#F44336",
                "thickness_factor": 1,
                "directed": true
              },
              {
                "id": 1097,
                "start": 207,
                "end": 208,
                "properties": {
                  "label": "NEXT"
                },
                "label": "NEXT",
                "color": "#4CAF50",
                "thickness_factor": 1,
                "directed": true
              },
              {
                "id": 867,
                "start": 25,
                "end": 207,
                "properties": {
                  "label": "HAS_EVENT"
                },
                "label": "HAS_EVENT",
                "color": "#F44336",
                "thickness_factor": 1,
                "directed": true
              },
              {
                "id": 1100,
                "start": 210,
                "end": 211,
                "properties": {
                  "label": "NEXT"
                },
                "label": "NEXT",
                "color": "#4CAF50",
                "thickness_factor": 1,
                "directed": true
              },
              {
                "id": 873,
                "start": 25,
                "end": 210,
                "properties": {
                  "label": "HAS_EVENT"
                },
                "label": "HAS_EVENT",
                "color": "#F44336",
                "thickness_factor": 1,
                "directed": true
              },
              {
                "id": 1099,
                "start": 209,
                "end": 210,
                "properties": {
                  "label": "NEXT"
                },
                "label": "NEXT",
                "color": "#4CAF50",
                "thickness_factor": 1,
                "directed": true
              },
              {
                "id": 871,
                "start": 25,
                "end": 209,
                "properties": {
                  "label": "HAS_EVENT"
                },
                "label": "HAS_EVENT",
                "color": "#F44336",
                "thickness_factor": 1,
                "directed": true
              },
              {
                "id": 1098,
                "start": 208,
                "end": 209,
                "properties": {
                  "label": "NEXT"
                },
                "label": "NEXT",
                "color": "#4CAF50",
                "thickness_factor": 1,
                "directed": true
              },
              {
                "id": 869,
                "start": 25,
                "end": 208,
                "properties": {
                  "label": "HAS_EVENT"
                },
                "label": "HAS_EVENT",
                "color": "#F44336",
                "thickness_factor": 1,
                "directed": true
              },
              {
                "id": 1093,
                "start": 203,
                "end": 204,
                "properties": {
                  "label": "NEXT"
                },
                "label": "NEXT",
                "color": "#4CAF50",
                "thickness_factor": 1,
                "directed": true
              },
              {
                "id": 859,
                "start": 25,
                "end": 203,
                "properties": {
                  "label": "HAS_EVENT"
                },
                "label": "HAS_EVENT",
                "color": "#F44336",
                "thickness_factor": 1,
                "directed": true
              },
              {
                "id": 1094,
                "start": 204,
                "end": 205,
                "properties": {
                  "label": "NEXT"
                },
                "label": "NEXT",
                "color": "#4CAF50",
                "thickness_factor": 1,
                "directed": true
              },
              {
                "id": 861,
                "start": 25,
                "end": 204,
                "properties": {
                  "label": "HAS_EVENT"
                },
                "label": "HAS_EVENT",
                "color": "#F44336",
                "thickness_factor": 1,
                "directed": true
              },
              {
                "id": 1103,
                "start": 213,
                "end": 214,
                "properties": {
                  "label": "NEXT"
                },
                "label": "NEXT",
                "color": "#4CAF50",
                "thickness_factor": 1,
                "directed": true
              },
              {
                "id": 879,
                "start": 25,
                "end": 213,
                "properties": {
                  "label": "HAS_EVENT"
                },
                "label": "HAS_EVENT",
                "color": "#F44336",
                "thickness_factor": 1,
                "directed": true
              },
              {
                "id": 1095,
                "start": 205,
                "end": 206,
                "properties": {
                  "label": "NEXT"
                },
                "label": "NEXT",
                "color": "#4CAF50",
                "thickness_factor": 1,
                "directed": true
              },
              {
                "id": 863,
                "start": 25,
                "end": 205,
                "properties": {
                  "label": "HAS_EVENT"
                },
                "label": "HAS_EVENT",
                "color": "#F44336",
                "thickness_factor": 1,
                "directed": true
              },
              {
                "id": 1106,
                "start": 225,
                "end": 226,
                "properties": {
                  "label": "NEXT"
                },
                "label": "NEXT",
                "color": "#4CAF50",
                "thickness_factor": 1,
                "directed": true
              },
              {
                "id": 903,
                "start": 26,
                "end": 225,
                "properties": {
                  "label": "HAS_EVENT"
                },
                "label": "HAS_EVENT",
                "color": "#F44336",
                "thickness_factor": 1,
                "directed": true
              },
              {
                "id": 1105,
                "start": 224,
                "end": 225,
                "properties": {
                  "label": "NEXT"
                },
                "label": "NEXT",
                "color": "#4CAF50",
                "thickness_factor": 1,
                "directed": true
              },
              {
                "id": 901,
                "start": 26,
                "end": 224,
                "properties": {
                  "label": "HAS_EVENT"
                },
                "label": "HAS_EVENT",
                "color": "#F44336",
                "thickness_factor": 1,
                "directed": true
              },
              {
                "id": 1116,
                "start": 81,
                "end": 82,
                "properties": {
                  "label": "NEXT"
                },
                "label": "NEXT",
                "color": "#4CAF50",
                "thickness_factor": 1,
                "directed": true
              },
              {
                "id": 605,
                "start": 27,
                "end": 81,
                "properties": {
                  "label": "HAS_EVENT"
                },
                "label": "HAS_EVENT",
                "color": "#F44336",
                "thickness_factor": 1,
                "directed": true
              },
              {
                "id": 1109,
                "start": 74,
                "end": 75,
                "properties": {
                  "label": "NEXT"
                },
                "label": "NEXT",
                "color": "#4CAF50",
                "thickness_factor": 1,
                "directed": true
              },
              {
                "id": 591,
                "start": 27,
                "end": 74,
                "properties": {
                  "label": "HAS_EVENT"
                },
                "label": "HAS_EVENT",
                "color": "#F44336",
                "thickness_factor": 1,
                "directed": true
              },
              {
                "id": 1113,
                "start": 78,
                "end": 79,
                "properties": {
                  "label": "NEXT"
                },
                "label": "NEXT",
                "color": "#4CAF50",
                "thickness_factor": 1,
                "directed": true
              },
              {
                "id": 599,
                "start": 27,
                "end": 78,
                "properties": {
                  "label": "HAS_EVENT"
                },
                "label": "HAS_EVENT",
                "color": "#F44336",
                "thickness_factor": 1,
                "directed": true
              },
              {
                "id": 1107,
                "start": 72,
                "end": 73,
                "properties": {
                  "label": "NEXT"
                },
                "label": "NEXT",
                "color": "#4CAF50",
                "thickness_factor": 1,
                "directed": true
              },
              {
                "id": 587,
                "start": 27,
                "end": 72,
                "properties": {
                  "label": "HAS_EVENT"
                },
                "label": "HAS_EVENT",
                "color": "#F44336",
                "thickness_factor": 1,
                "directed": true
              },
              {
                "id": 1112,
                "start": 77,
                "end": 78,
                "properties": {
                  "label": "NEXT"
                },
                "label": "NEXT",
                "color": "#4CAF50",
                "thickness_factor": 1,
                "directed": true
              },
              {
                "id": 597,
                "start": 27,
                "end": 77,
                "properties": {
                  "label": "HAS_EVENT"
                },
                "label": "HAS_EVENT",
                "color": "#F44336",
                "thickness_factor": 1,
                "directed": true
              },
              {
                "id": 1115,
                "start": 80,
                "end": 81,
                "properties": {
                  "label": "NEXT"
                },
                "label": "NEXT",
                "color": "#4CAF50",
                "thickness_factor": 1,
                "directed": true
              },
              {
                "id": 603,
                "start": 27,
                "end": 80,
                "properties": {
                  "label": "HAS_EVENT"
                },
                "label": "HAS_EVENT",
                "color": "#F44336",
                "thickness_factor": 1,
                "directed": true
              },
              {
                "id": 1108,
                "start": 73,
                "end": 74,
                "properties": {
                  "label": "NEXT"
                },
                "label": "NEXT",
                "color": "#4CAF50",
                "thickness_factor": 1,
                "directed": true
              },
              {
                "id": 589,
                "start": 27,
                "end": 73,
                "properties": {
                  "label": "HAS_EVENT"
                },
                "label": "HAS_EVENT",
                "color": "#F44336",
                "thickness_factor": 1,
                "directed": true
              },
              {
                "id": 1117,
                "start": 82,
                "end": 83,
                "properties": {
                  "label": "NEXT"
                },
                "label": "NEXT",
                "color": "#4CAF50",
                "thickness_factor": 1,
                "directed": true
              },
              {
                "id": 607,
                "start": 27,
                "end": 82,
                "properties": {
                  "label": "HAS_EVENT"
                },
                "label": "HAS_EVENT",
                "color": "#F44336",
                "thickness_factor": 1,
                "directed": true
              },
              {
                "id": 1110,
                "start": 75,
                "end": 76,
                "properties": {
                  "label": "NEXT"
                },
                "label": "NEXT",
                "color": "#4CAF50",
                "thickness_factor": 1,
                "directed": true
              },
              {
                "id": 593,
                "start": 27,
                "end": 75,
                "properties": {
                  "label": "HAS_EVENT"
                },
                "label": "HAS_EVENT",
                "color": "#F44336",
                "thickness_factor": 1,
                "directed": true
              },
              {
                "id": 1114,
                "start": 79,
                "end": 80,
                "properties": {
                  "label": "NEXT"
                },
                "label": "NEXT",
                "color": "#4CAF50",
                "thickness_factor": 1,
                "directed": true
              },
              {
                "id": 601,
                "start": 27,
                "end": 79,
                "properties": {
                  "label": "HAS_EVENT"
                },
                "label": "HAS_EVENT",
                "color": "#F44336",
                "thickness_factor": 1,
                "directed": true
              },
              {
                "id": 1111,
                "start": 76,
                "end": 77,
                "properties": {
                  "label": "NEXT"
                },
                "label": "NEXT",
                "color": "#4CAF50",
                "thickness_factor": 1,
                "directed": true
              },
              {
                "id": 595,
                "start": 27,
                "end": 76,
                "properties": {
                  "label": "HAS_EVENT"
                },
                "label": "HAS_EVENT",
                "color": "#F44336",
                "thickness_factor": 1,
                "directed": true
              },
              {
                "id": 1122,
                "start": 197,
                "end": 198,
                "properties": {
                  "label": "NEXT"
                },
                "label": "NEXT",
                "color": "#4CAF50",
                "thickness_factor": 1,
                "directed": true
              },
              {
                "id": 847,
                "start": 28,
                "end": 197,
                "properties": {
                  "label": "HAS_EVENT"
                },
                "label": "HAS_EVENT",
                "color": "#F44336",
                "thickness_factor": 1,
                "directed": true
              },
              {
                "id": 1125,
                "start": 200,
                "end": 201,
                "properties": {
                  "label": "NEXT"
                },
                "label": "NEXT",
                "color": "#4CAF50",
                "thickness_factor": 1,
                "directed": true
              },
              {
                "id": 853,
                "start": 28,
                "end": 200,
                "properties": {
                  "label": "HAS_EVENT"
                },
                "label": "HAS_EVENT",
                "color": "#F44336",
                "thickness_factor": 1,
                "directed": true
              },
              {
                "id": 1124,
                "start": 199,
                "end": 200,
                "properties": {
                  "label": "NEXT"
                },
                "label": "NEXT",
                "color": "#4CAF50",
                "thickness_factor": 1,
                "directed": true
              },
              {
                "id": 851,
                "start": 28,
                "end": 199,
                "properties": {
                  "label": "HAS_EVENT"
                },
                "label": "HAS_EVENT",
                "color": "#F44336",
                "thickness_factor": 1,
                "directed": true
              },
              {
                "id": 1118,
                "start": 193,
                "end": 194,
                "properties": {
                  "label": "NEXT"
                },
                "label": "NEXT",
                "color": "#4CAF50",
                "thickness_factor": 1,
                "directed": true
              },
              {
                "id": 839,
                "start": 28,
                "end": 193,
                "properties": {
                  "label": "HAS_EVENT"
                },
                "label": "HAS_EVENT",
                "color": "#F44336",
                "thickness_factor": 1,
                "directed": true
              },
              {
                "id": 1120,
                "start": 195,
                "end": 196,
                "properties": {
                  "label": "NEXT"
                },
                "label": "NEXT",
                "color": "#4CAF50",
                "thickness_factor": 1,
                "directed": true
              },
              {
                "id": 843,
                "start": 28,
                "end": 195,
                "properties": {
                  "label": "HAS_EVENT"
                },
                "label": "HAS_EVENT",
                "color": "#F44336",
                "thickness_factor": 1,
                "directed": true
              },
              {
                "id": 1119,
                "start": 194,
                "end": 195,
                "properties": {
                  "label": "NEXT"
                },
                "label": "NEXT",
                "color": "#4CAF50",
                "thickness_factor": 1,
                "directed": true
              },
              {
                "id": 841,
                "start": 28,
                "end": 194,
                "properties": {
                  "label": "HAS_EVENT"
                },
                "label": "HAS_EVENT",
                "color": "#F44336",
                "thickness_factor": 1,
                "directed": true
              },
              {
                "id": 1123,
                "start": 198,
                "end": 199,
                "properties": {
                  "label": "NEXT"
                },
                "label": "NEXT",
                "color": "#4CAF50",
                "thickness_factor": 1,
                "directed": true
              },
              {
                "id": 849,
                "start": 28,
                "end": 198,
                "properties": {
                  "label": "HAS_EVENT"
                },
                "label": "HAS_EVENT",
                "color": "#F44336",
                "thickness_factor": 1,
                "directed": true
              },
              {
                "id": 1121,
                "start": 196,
                "end": 197,
                "properties": {
                  "label": "NEXT"
                },
                "label": "NEXT",
                "color": "#4CAF50",
                "thickness_factor": 1,
                "directed": true
              },
              {
                "id": 845,
                "start": 28,
                "end": 196,
                "properties": {
                  "label": "HAS_EVENT"
                },
                "label": "HAS_EVENT",
                "color": "#F44336",
                "thickness_factor": 1,
                "directed": true
              },
              {
                "id": 1126,
                "start": 264,
                "end": 265,
                "properties": {
                  "label": "NEXT"
                },
                "label": "NEXT",
                "color": "#4CAF50",
                "thickness_factor": 1,
                "directed": true
              },
              {
                "id": 981,
                "start": 29,
                "end": 264,
                "properties": {
                  "label": "HAS_EVENT"
                },
                "label": "HAS_EVENT",
                "color": "#F44336",
                "thickness_factor": 1,
                "directed": true
              },
              {
                "id": 1136,
                "start": 274,
                "end": 275,
                "properties": {
                  "label": "NEXT"
                },
                "label": "NEXT",
                "color": "#4CAF50",
                "thickness_factor": 1,
                "directed": true
              },
              {
                "id": 1001,
                "start": 29,
                "end": 274,
                "properties": {
                  "label": "HAS_EVENT"
                },
                "label": "HAS_EVENT",
                "color": "#F44336",
                "thickness_factor": 1,
                "directed": true
              },
              {
                "id": 1127,
                "start": 265,
                "end": 266,
                "properties": {
                  "label": "NEXT"
                },
                "label": "NEXT",
                "color": "#4CAF50",
                "thickness_factor": 1,
                "directed": true
              },
              {
                "id": 983,
                "start": 29,
                "end": 265,
                "properties": {
                  "label": "HAS_EVENT"
                },
                "label": "HAS_EVENT",
                "color": "#F44336",
                "thickness_factor": 1,
                "directed": true
              },
              {
                "id": 1132,
                "start": 270,
                "end": 271,
                "properties": {
                  "label": "NEXT"
                },
                "label": "NEXT",
                "color": "#4CAF50",
                "thickness_factor": 1,
                "directed": true
              },
              {
                "id": 993,
                "start": 29,
                "end": 270,
                "properties": {
                  "label": "HAS_EVENT"
                },
                "label": "HAS_EVENT",
                "color": "#F44336",
                "thickness_factor": 1,
                "directed": true
              },
              {
                "id": 1128,
                "start": 266,
                "end": 267,
                "properties": {
                  "label": "NEXT"
                },
                "label": "NEXT",
                "color": "#4CAF50",
                "thickness_factor": 1,
                "directed": true
              },
              {
                "id": 985,
                "start": 29,
                "end": 266,
                "properties": {
                  "label": "HAS_EVENT"
                },
                "label": "HAS_EVENT",
                "color": "#F44336",
                "thickness_factor": 1,
                "directed": true
              },
              {
                "id": 1129,
                "start": 267,
                "end": 268,
                "properties": {
                  "label": "NEXT"
                },
                "label": "NEXT",
                "color": "#4CAF50",
                "thickness_factor": 1,
                "directed": true
              },
              {
                "id": 987,
                "start": 29,
                "end": 267,
                "properties": {
                  "label": "HAS_EVENT"
                },
                "label": "HAS_EVENT",
                "color": "#F44336",
                "thickness_factor": 1,
                "directed": true
              },
              {
                "id": 1133,
                "start": 271,
                "end": 272,
                "properties": {
                  "label": "NEXT"
                },
                "label": "NEXT",
                "color": "#4CAF50",
                "thickness_factor": 1,
                "directed": true
              },
              {
                "id": 995,
                "start": 29,
                "end": 271,
                "properties": {
                  "label": "HAS_EVENT"
                },
                "label": "HAS_EVENT",
                "color": "#F44336",
                "thickness_factor": 1,
                "directed": true
              },
              {
                "id": 1135,
                "start": 273,
                "end": 274,
                "properties": {
                  "label": "NEXT"
                },
                "label": "NEXT",
                "color": "#4CAF50",
                "thickness_factor": 1,
                "directed": true
              },
              {
                "id": 999,
                "start": 29,
                "end": 273,
                "properties": {
                  "label": "HAS_EVENT"
                },
                "label": "HAS_EVENT",
                "color": "#F44336",
                "thickness_factor": 1,
                "directed": true
              },
              {
                "id": 1130,
                "start": 268,
                "end": 269,
                "properties": {
                  "label": "NEXT"
                },
                "label": "NEXT",
                "color": "#4CAF50",
                "thickness_factor": 1,
                "directed": true
              },
              {
                "id": 989,
                "start": 29,
                "end": 268,
                "properties": {
                  "label": "HAS_EVENT"
                },
                "label": "HAS_EVENT",
                "color": "#F44336",
                "thickness_factor": 1,
                "directed": true
              },
              {
                "id": 1134,
                "start": 272,
                "end": 273,
                "properties": {
                  "label": "NEXT"
                },
                "label": "NEXT",
                "color": "#4CAF50",
                "thickness_factor": 1,
                "directed": true
              },
              {
                "id": 997,
                "start": 29,
                "end": 272,
                "properties": {
                  "label": "HAS_EVENT"
                },
                "label": "HAS_EVENT",
                "color": "#F44336",
                "thickness_factor": 1,
                "directed": true
              },
              {
                "id": 1131,
                "start": 269,
                "end": 270,
                "properties": {
                  "label": "NEXT"
                },
                "label": "NEXT",
                "color": "#4CAF50",
                "thickness_factor": 1,
                "directed": true
              },
              {
                "id": 991,
                "start": 29,
                "end": 269,
                "properties": {
                  "label": "HAS_EVENT"
                },
                "label": "HAS_EVENT",
                "color": "#F44336",
                "thickness_factor": 1,
                "directed": true
              },
              {
                "id": 1137,
                "start": 275,
                "end": 276,
                "properties": {
                  "label": "NEXT"
                },
                "label": "NEXT",
                "color": "#4CAF50",
                "thickness_factor": 1,
                "directed": true
              },
              {
                "id": 1003,
                "start": 29,
                "end": 275,
                "properties": {
                  "label": "HAS_EVENT"
                },
                "label": "HAS_EVENT",
                "color": "#F44336",
                "thickness_factor": 1,
                "directed": true
              },
              {
                "id": 1140,
                "start": 109,
                "end": 110,
                "properties": {
                  "label": "NEXT"
                },
                "label": "NEXT",
                "color": "#4CAF50",
                "thickness_factor": 1,
                "directed": true
              },
              {
                "id": 661,
                "start": 30,
                "end": 109,
                "properties": {
                  "label": "HAS_EVENT"
                },
                "label": "HAS_EVENT",
                "color": "#F44336",
                "thickness_factor": 1,
                "directed": true
              },
              {
                "id": 1138,
                "start": 107,
                "end": 108,
                "properties": {
                  "label": "NEXT"
                },
                "label": "NEXT",
                "color": "#4CAF50",
                "thickness_factor": 1,
                "directed": true
              },
              {
                "id": 657,
                "start": 30,
                "end": 107,
                "properties": {
                  "label": "HAS_EVENT"
                },
                "label": "HAS_EVENT",
                "color": "#F44336",
                "thickness_factor": 1,
                "directed": true
              },
              {
                "id": 1141,
                "start": 110,
                "end": 111,
                "properties": {
                  "label": "NEXT"
                },
                "label": "NEXT",
                "color": "#4CAF50",
                "thickness_factor": 1,
                "directed": true
              },
              {
                "id": 663,
                "start": 30,
                "end": 110,
                "properties": {
                  "label": "HAS_EVENT"
                },
                "label": "HAS_EVENT",
                "color": "#F44336",
                "thickness_factor": 1,
                "directed": true
              },
              {
                "id": 1142,
                "start": 111,
                "end": 112,
                "properties": {
                  "label": "NEXT"
                },
                "label": "NEXT",
                "color": "#4CAF50",
                "thickness_factor": 1,
                "directed": true
              },
              {
                "id": 665,
                "start": 30,
                "end": 111,
                "properties": {
                  "label": "HAS_EVENT"
                },
                "label": "HAS_EVENT",
                "color": "#F44336",
                "thickness_factor": 1,
                "directed": true
              },
              {
                "id": 1144,
                "start": 113,
                "end": 114,
                "properties": {
                  "label": "NEXT"
                },
                "label": "NEXT",
                "color": "#4CAF50",
                "thickness_factor": 1,
                "directed": true
              },
              {
                "id": 669,
                "start": 30,
                "end": 113,
                "properties": {
                  "label": "HAS_EVENT"
                },
                "label": "HAS_EVENT",
                "color": "#F44336",
                "thickness_factor": 1,
                "directed": true
              },
              {
                "id": 1139,
                "start": 108,
                "end": 109,
                "properties": {
                  "label": "NEXT"
                },
                "label": "NEXT",
                "color": "#4CAF50",
                "thickness_factor": 1,
                "directed": true
              },
              {
                "id": 659,
                "start": 30,
                "end": 108,
                "properties": {
                  "label": "HAS_EVENT"
                },
                "label": "HAS_EVENT",
                "color": "#F44336",
                "thickness_factor": 1,
                "directed": true
              },
              {
                "id": 1143,
                "start": 112,
                "end": 113,
                "properties": {
                  "label": "NEXT"
                },
                "label": "NEXT",
                "color": "#4CAF50",
                "thickness_factor": 1,
                "directed": true
              },
              {
                "id": 667,
                "start": 30,
                "end": 112,
                "properties": {
                  "label": "HAS_EVENT"
                },
                "label": "HAS_EVENT",
                "color": "#F44336",
                "thickness_factor": 1,
                "directed": true
              },
              {
                "id": 1145,
                "start": 175,
                "end": 176,
                "properties": {
                  "label": "NEXT"
                },
                "label": "NEXT",
                "color": "#4CAF50",
                "thickness_factor": 1,
                "directed": true
              },
              {
                "id": 793,
                "start": 31,
                "end": 175,
                "properties": {
                  "label": "HAS_EVENT"
                },
                "label": "HAS_EVENT",
                "color": "#F44336",
                "thickness_factor": 1,
                "directed": true
              },
              {
                "id": 1147,
                "start": 177,
                "end": 178,
                "properties": {
                  "label": "NEXT"
                },
                "label": "NEXT",
                "color": "#4CAF50",
                "thickness_factor": 1,
                "directed": true
              },
              {
                "id": 797,
                "start": 31,
                "end": 177,
                "properties": {
                  "label": "HAS_EVENT"
                },
                "label": "HAS_EVENT",
                "color": "#F44336",
                "thickness_factor": 1,
                "directed": true
              },
              {
                "id": 1148,
                "start": 178,
                "end": 179,
                "properties": {
                  "label": "NEXT"
                },
                "label": "NEXT",
                "color": "#4CAF50",
                "thickness_factor": 1,
                "directed": true
              },
              {
                "id": 799,
                "start": 31,
                "end": 178,
                "properties": {
                  "label": "HAS_EVENT"
                },
                "label": "HAS_EVENT",
                "color": "#F44336",
                "thickness_factor": 1,
                "directed": true
              },
              {
                "id": 1146,
                "start": 176,
                "end": 177,
                "properties": {
                  "label": "NEXT"
                },
                "label": "NEXT",
                "color": "#4CAF50",
                "thickness_factor": 1,
                "directed": true
              },
              {
                "id": 795,
                "start": 31,
                "end": 176,
                "properties": {
                  "label": "HAS_EVENT"
                },
                "label": "HAS_EVENT",
                "color": "#F44336",
                "thickness_factor": 1,
                "directed": true
              },
              {
                "id": 1149,
                "start": 179,
                "end": 180,
                "properties": {
                  "label": "NEXT"
                },
                "label": "NEXT",
                "color": "#4CAF50",
                "thickness_factor": 1,
                "directed": true
              },
              {
                "id": 801,
                "start": 31,
                "end": 179,
                "properties": {
                  "label": "HAS_EVENT"
                },
                "label": "HAS_EVENT",
                "color": "#F44336",
                "thickness_factor": 1,
                "directed": true
              },
              {
                "id": 1156,
                "start": 233,
                "end": 234,
                "properties": {
                  "label": "NEXT"
                },
                "label": "NEXT",
                "color": "#4CAF50",
                "thickness_factor": 1,
                "directed": true
              },
              {
                "id": 919,
                "start": 32,
                "end": 233,
                "properties": {
                  "label": "HAS_EVENT"
                },
                "label": "HAS_EVENT",
                "color": "#F44336",
                "thickness_factor": 1,
                "directed": true
              },
              {
                "id": 1152,
                "start": 229,
                "end": 230,
                "properties": {
                  "label": "NEXT"
                },
                "label": "NEXT",
                "color": "#4CAF50",
                "thickness_factor": 1,
                "directed": true
              },
              {
                "id": 911,
                "start": 32,
                "end": 229,
                "properties": {
                  "label": "HAS_EVENT"
                },
                "label": "HAS_EVENT",
                "color": "#F44336",
                "thickness_factor": 1,
                "directed": true
              },
              {
                "id": 1151,
                "start": 228,
                "end": 229,
                "properties": {
                  "label": "NEXT"
                },
                "label": "NEXT",
                "color": "#4CAF50",
                "thickness_factor": 1,
                "directed": true
              },
              {
                "id": 909,
                "start": 32,
                "end": 228,
                "properties": {
                  "label": "HAS_EVENT"
                },
                "label": "HAS_EVENT",
                "color": "#F44336",
                "thickness_factor": 1,
                "directed": true
              },
              {
                "id": 1153,
                "start": 230,
                "end": 231,
                "properties": {
                  "label": "NEXT"
                },
                "label": "NEXT",
                "color": "#4CAF50",
                "thickness_factor": 1,
                "directed": true
              },
              {
                "id": 913,
                "start": 32,
                "end": 230,
                "properties": {
                  "label": "HAS_EVENT"
                },
                "label": "HAS_EVENT",
                "color": "#F44336",
                "thickness_factor": 1,
                "directed": true
              },
              {
                "id": 1157,
                "start": 234,
                "end": 235,
                "properties": {
                  "label": "NEXT"
                },
                "label": "NEXT",
                "color": "#4CAF50",
                "thickness_factor": 1,
                "directed": true
              },
              {
                "id": 921,
                "start": 32,
                "end": 234,
                "properties": {
                  "label": "HAS_EVENT"
                },
                "label": "HAS_EVENT",
                "color": "#F44336",
                "thickness_factor": 1,
                "directed": true
              },
              {
                "id": 1155,
                "start": 232,
                "end": 233,
                "properties": {
                  "label": "NEXT"
                },
                "label": "NEXT",
                "color": "#4CAF50",
                "thickness_factor": 1,
                "directed": true
              },
              {
                "id": 917,
                "start": 32,
                "end": 232,
                "properties": {
                  "label": "HAS_EVENT"
                },
                "label": "HAS_EVENT",
                "color": "#F44336",
                "thickness_factor": 1,
                "directed": true
              },
              {
                "id": 1154,
                "start": 231,
                "end": 232,
                "properties": {
                  "label": "NEXT"
                },
                "label": "NEXT",
                "color": "#4CAF50",
                "thickness_factor": 1,
                "directed": true
              },
              {
                "id": 915,
                "start": 32,
                "end": 231,
                "properties": {
                  "label": "HAS_EVENT"
                },
                "label": "HAS_EVENT",
                "color": "#F44336",
                "thickness_factor": 1,
                "directed": true
              },
              {
                "id": 1158,
                "start": 235,
                "end": 236,
                "properties": {
                  "label": "NEXT"
                },
                "label": "NEXT",
                "color": "#4CAF50",
                "thickness_factor": 1,
                "directed": true
              },
              {
                "id": 923,
                "start": 32,
                "end": 235,
                "properties": {
                  "label": "HAS_EVENT"
                },
                "label": "HAS_EVENT",
                "color": "#F44336",
                "thickness_factor": 1,
                "directed": true
              },
              {
                "id": 1150,
                "start": 227,
                "end": 228,
                "properties": {
                  "label": "NEXT"
                },
                "label": "NEXT",
                "color": "#4CAF50",
                "thickness_factor": 1,
                "directed": true
              },
              {
                "id": 907,
                "start": 32,
                "end": 227,
                "properties": {
                  "label": "HAS_EVENT"
                },
                "label": "HAS_EVENT",
                "color": "#F44336",
                "thickness_factor": 1,
                "directed": true
              },
              {
                "id": 1168,
                "start": 102,
                "end": 103,
                "properties": {
                  "label": "NEXT"
                },
                "label": "NEXT",
                "color": "#4CAF50",
                "thickness_factor": 1,
                "directed": true
              },
              {
                "id": 647,
                "start": 33,
                "end": 102,
                "properties": {
                  "label": "HAS_EVENT"
                },
                "label": "HAS_EVENT",
                "color": "#F44336",
                "thickness_factor": 1,
                "directed": true
              },
              {
                "id": 1169,
                "start": 103,
                "end": 104,
                "properties": {
                  "label": "NEXT"
                },
                "label": "NEXT",
                "color": "#4CAF50",
                "thickness_factor": 1,
                "directed": true
              },
              {
                "id": 649,
                "start": 33,
                "end": 103,
                "properties": {
                  "label": "HAS_EVENT"
                },
                "label": "HAS_EVENT",
                "color": "#F44336",
                "thickness_factor": 1,
                "directed": true
              },
              {
                "id": 1163,
                "start": 97,
                "end": 98,
                "properties": {
                  "label": "NEXT"
                },
                "label": "NEXT",
                "color": "#4CAF50",
                "thickness_factor": 1,
                "directed": true
              },
              {
                "id": 637,
                "start": 33,
                "end": 97,
                "properties": {
                  "label": "HAS_EVENT"
                },
                "label": "HAS_EVENT",
                "color": "#F44336",
                "thickness_factor": 1,
                "directed": true
              },
              {
                "id": 1171,
                "start": 105,
                "end": 106,
                "properties": {
                  "label": "NEXT"
                },
                "label": "NEXT",
                "color": "#4CAF50",
                "thickness_factor": 1,
                "directed": true
              },
              {
                "id": 653,
                "start": 33,
                "end": 105,
                "properties": {
                  "label": "HAS_EVENT"
                },
                "label": "HAS_EVENT",
                "color": "#F44336",
                "thickness_factor": 1,
                "directed": true
              },
              {
                "id": 1159,
                "start": 93,
                "end": 94,
                "properties": {
                  "label": "NEXT"
                },
                "label": "NEXT",
                "color": "#4CAF50",
                "thickness_factor": 1,
                "directed": true
              },
              {
                "id": 629,
                "start": 33,
                "end": 93,
                "properties": {
                  "label": "HAS_EVENT"
                },
                "label": "HAS_EVENT",
                "color": "#F44336",
                "thickness_factor": 1,
                "directed": true
              },
              {
                "id": 1166,
                "start": 100,
                "end": 101,
                "properties": {
                  "label": "NEXT"
                },
                "label": "NEXT",
                "color": "#4CAF50",
                "thickness_factor": 1,
                "directed": true
              },
              {
                "id": 643,
                "start": 33,
                "end": 100,
                "properties": {
                  "label": "HAS_EVENT"
                },
                "label": "HAS_EVENT",
                "color": "#F44336",
                "thickness_factor": 1,
                "directed": true
              },
              {
                "id": 1167,
                "start": 101,
                "end": 102,
                "properties": {
                  "label": "NEXT"
                },
                "label": "NEXT",
                "color": "#4CAF50",
                "thickness_factor": 1,
                "directed": true
              },
              {
                "id": 645,
                "start": 33,
                "end": 101,
                "properties": {
                  "label": "HAS_EVENT"
                },
                "label": "HAS_EVENT",
                "color": "#F44336",
                "thickness_factor": 1,
                "directed": true
              },
              {
                "id": 1170,
                "start": 104,
                "end": 105,
                "properties": {
                  "label": "NEXT"
                },
                "label": "NEXT",
                "color": "#4CAF50",
                "thickness_factor": 1,
                "directed": true
              },
              {
                "id": 651,
                "start": 33,
                "end": 104,
                "properties": {
                  "label": "HAS_EVENT"
                },
                "label": "HAS_EVENT",
                "color": "#F44336",
                "thickness_factor": 1,
                "directed": true
              },
              {
                "id": 1160,
                "start": 94,
                "end": 95,
                "properties": {
                  "label": "NEXT"
                },
                "label": "NEXT",
                "color": "#4CAF50",
                "thickness_factor": 1,
                "directed": true
              },
              {
                "id": 631,
                "start": 33,
                "end": 94,
                "properties": {
                  "label": "HAS_EVENT"
                },
                "label": "HAS_EVENT",
                "color": "#F44336",
                "thickness_factor": 1,
                "directed": true
              },
              {
                "id": 1161,
                "start": 95,
                "end": 96,
                "properties": {
                  "label": "NEXT"
                },
                "label": "NEXT",
                "color": "#4CAF50",
                "thickness_factor": 1,
                "directed": true
              },
              {
                "id": 633,
                "start": 33,
                "end": 95,
                "properties": {
                  "label": "HAS_EVENT"
                },
                "label": "HAS_EVENT",
                "color": "#F44336",
                "thickness_factor": 1,
                "directed": true
              },
              {
                "id": 1165,
                "start": 99,
                "end": 100,
                "properties": {
                  "label": "NEXT"
                },
                "label": "NEXT",
                "color": "#4CAF50",
                "thickness_factor": 1,
                "directed": true
              },
              {
                "id": 641,
                "start": 33,
                "end": 99,
                "properties": {
                  "label": "HAS_EVENT"
                },
                "label": "HAS_EVENT",
                "color": "#F44336",
                "thickness_factor": 1,
                "directed": true
              },
              {
                "id": 1162,
                "start": 96,
                "end": 97,
                "properties": {
                  "label": "NEXT"
                },
                "label": "NEXT",
                "color": "#4CAF50",
                "thickness_factor": 1,
                "directed": true
              },
              {
                "id": 635,
                "start": 33,
                "end": 96,
                "properties": {
                  "label": "HAS_EVENT"
                },
                "label": "HAS_EVENT",
                "color": "#F44336",
                "thickness_factor": 1,
                "directed": true
              },
              {
                "id": 1164,
                "start": 98,
                "end": 99,
                "properties": {
                  "label": "NEXT"
                },
                "label": "NEXT",
                "color": "#4CAF50",
                "thickness_factor": 1,
                "directed": true
              },
              {
                "id": 639,
                "start": 33,
                "end": 98,
                "properties": {
                  "label": "HAS_EVENT"
                },
                "label": "HAS_EVENT",
                "color": "#F44336",
                "thickness_factor": 1,
                "directed": true
              },
              {
                "id": 1177,
                "start": 165,
                "end": 166,
                "properties": {
                  "label": "NEXT"
                },
                "label": "NEXT",
                "color": "#4CAF50",
                "thickness_factor": 1,
                "directed": true
              },
              {
                "id": 773,
                "start": 34,
                "end": 165,
                "properties": {
                  "label": "HAS_EVENT"
                },
                "label": "HAS_EVENT",
                "color": "#F44336",
                "thickness_factor": 1,
                "directed": true
              },
              {
                "id": 1175,
                "start": 163,
                "end": 164,
                "properties": {
                  "label": "NEXT"
                },
                "label": "NEXT",
                "color": "#4CAF50",
                "thickness_factor": 1,
                "directed": true
              },
              {
                "id": 769,
                "start": 34,
                "end": 163,
                "properties": {
                  "label": "HAS_EVENT"
                },
                "label": "HAS_EVENT",
                "color": "#F44336",
                "thickness_factor": 1,
                "directed": true
              },
              {
                "id": 1178,
                "start": 166,
                "end": 167,
                "properties": {
                  "label": "NEXT"
                },
                "label": "NEXT",
                "color": "#4CAF50",
                "thickness_factor": 1,
                "directed": true
              },
              {
                "id": 775,
                "start": 34,
                "end": 166,
                "properties": {
                  "label": "HAS_EVENT"
                },
                "label": "HAS_EVENT",
                "color": "#F44336",
                "thickness_factor": 1,
                "directed": true
              },
              {
                "id": 1174,
                "start": 162,
                "end": 163,
                "properties": {
                  "label": "NEXT"
                },
                "label": "NEXT",
                "color": "#4CAF50",
                "thickness_factor": 1,
                "directed": true
              },
              {
                "id": 767,
                "start": 34,
                "end": 162,
                "properties": {
                  "label": "HAS_EVENT"
                },
                "label": "HAS_EVENT",
                "color": "#F44336",
                "thickness_factor": 1,
                "directed": true
              },
              {
                "id": 1176,
                "start": 164,
                "end": 165,
                "properties": {
                  "label": "NEXT"
                },
                "label": "NEXT",
                "color": "#4CAF50",
                "thickness_factor": 1,
                "directed": true
              },
              {
                "id": 771,
                "start": 34,
                "end": 164,
                "properties": {
                  "label": "HAS_EVENT"
                },
                "label": "HAS_EVENT",
                "color": "#F44336",
                "thickness_factor": 1,
                "directed": true
              },
              {
                "id": 1173,
                "start": 161,
                "end": 162,
                "properties": {
                  "label": "NEXT"
                },
                "label": "NEXT",
                "color": "#4CAF50",
                "thickness_factor": 1,
                "directed": true
              },
              {
                "id": 765,
                "start": 34,
                "end": 161,
                "properties": {
                  "label": "HAS_EVENT"
                },
                "label": "HAS_EVENT",
                "color": "#F44336",
                "thickness_factor": 1,
                "directed": true
              },
              {
                "id": 1172,
                "start": 160,
                "end": 161,
                "properties": {
                  "label": "NEXT"
                },
                "label": "NEXT",
                "color": "#4CAF50",
                "thickness_factor": 1,
                "directed": true
              },
              {
                "id": 763,
                "start": 34,
                "end": 160,
                "properties": {
                  "label": "HAS_EVENT"
                },
                "label": "HAS_EVENT",
                "color": "#F44336",
                "thickness_factor": 1,
                "directed": true
              },
              {
                "id": 1179,
                "start": 167,
                "end": 168,
                "properties": {
                  "label": "NEXT"
                },
                "label": "NEXT",
                "color": "#4CAF50",
                "thickness_factor": 1,
                "directed": true
              },
              {
                "id": 777,
                "start": 34,
                "end": 167,
                "properties": {
                  "label": "HAS_EVENT"
                },
                "label": "HAS_EVENT",
                "color": "#F44336",
                "thickness_factor": 1,
                "directed": true
              },
              {
                "id": 1180,
                "start": 221,
                "end": 222,
                "properties": {
                  "label": "NEXT"
                },
                "label": "NEXT",
                "color": "#4CAF50",
                "thickness_factor": 1,
                "directed": true
              },
              {
                "id": 895,
                "start": 35,
                "end": 221,
                "properties": {
                  "label": "HAS_EVENT"
                },
                "label": "HAS_EVENT",
                "color": "#F44336",
                "thickness_factor": 1,
                "directed": true
              },
              {
                "id": 1181,
                "start": 222,
                "end": 223,
                "properties": {
                  "label": "NEXT"
                },
                "label": "NEXT",
                "color": "#4CAF50",
                "thickness_factor": 1,
                "directed": true
              },
              {
                "id": 897,
                "start": 35,
                "end": 222,
                "properties": {
                  "label": "HAS_EVENT"
                },
                "label": "HAS_EVENT",
                "color": "#F44336",
                "thickness_factor": 1,
                "directed": true
              },
              {
                "id": 1183,
                "start": 128,
                "end": 129,
                "properties": {
                  "label": "NEXT"
                },
                "label": "NEXT",
                "color": "#4CAF50",
                "thickness_factor": 1,
                "directed": true
              },
              {
                "id": 699,
                "start": 36,
                "end": 128,
                "properties": {
                  "label": "HAS_EVENT"
                },
                "label": "HAS_EVENT",
                "color": "#F44336",
                "thickness_factor": 1,
                "directed": true
              },
              {
                "id": 1182,
                "start": 127,
                "end": 128,
                "properties": {
                  "label": "NEXT"
                },
                "label": "NEXT",
                "color": "#4CAF50",
                "thickness_factor": 1,
                "directed": true
              },
              {
                "id": 697,
                "start": 36,
                "end": 127,
                "properties": {
                  "label": "HAS_EVENT"
                },
                "label": "HAS_EVENT",
                "color": "#F44336",
                "thickness_factor": 1,
                "directed": true
              },
              {
                "id": 1190,
                "start": 135,
                "end": 136,
                "properties": {
                  "label": "NEXT"
                },
                "label": "NEXT",
                "color": "#4CAF50",
                "thickness_factor": 1,
                "directed": true
              },
              {
                "id": 713,
                "start": 36,
                "end": 135,
                "properties": {
                  "label": "HAS_EVENT"
                },
                "label": "HAS_EVENT",
                "color": "#F44336",
                "thickness_factor": 1,
                "directed": true
              },
              {
                "id": 1191,
                "start": 136,
                "end": 137,
                "properties": {
                  "label": "NEXT"
                },
                "label": "NEXT",
                "color": "#4CAF50",
                "thickness_factor": 1,
                "directed": true
              },
              {
                "id": 715,
                "start": 36,
                "end": 136,
                "properties": {
                  "label": "HAS_EVENT"
                },
                "label": "HAS_EVENT",
                "color": "#F44336",
                "thickness_factor": 1,
                "directed": true
              },
              {
                "id": 1193,
                "start": 138,
                "end": 139,
                "properties": {
                  "label": "NEXT"
                },
                "label": "NEXT",
                "color": "#4CAF50",
                "thickness_factor": 1,
                "directed": true
              },
              {
                "id": 719,
                "start": 36,
                "end": 138,
                "properties": {
                  "label": "HAS_EVENT"
                },
                "label": "HAS_EVENT",
                "color": "#F44336",
                "thickness_factor": 1,
                "directed": true
              },
              {
                "id": 1186,
                "start": 131,
                "end": 132,
                "properties": {
                  "label": "NEXT"
                },
                "label": "NEXT",
                "color": "#4CAF50",
                "thickness_factor": 1,
                "directed": true
              },
              {
                "id": 705,
                "start": 36,
                "end": 131,
                "properties": {
                  "label": "HAS_EVENT"
                },
                "label": "HAS_EVENT",
                "color": "#F44336",
                "thickness_factor": 1,
                "directed": true
              },
              {
                "id": 1188,
                "start": 133,
                "end": 134,
                "properties": {
                  "label": "NEXT"
                },
                "label": "NEXT",
                "color": "#4CAF50",
                "thickness_factor": 1,
                "directed": true
              },
              {
                "id": 709,
                "start": 36,
                "end": 133,
                "properties": {
                  "label": "HAS_EVENT"
                },
                "label": "HAS_EVENT",
                "color": "#F44336",
                "thickness_factor": 1,
                "directed": true
              },
              {
                "id": 1185,
                "start": 130,
                "end": 131,
                "properties": {
                  "label": "NEXT"
                },
                "label": "NEXT",
                "color": "#4CAF50",
                "thickness_factor": 1,
                "directed": true
              },
              {
                "id": 703,
                "start": 36,
                "end": 130,
                "properties": {
                  "label": "HAS_EVENT"
                },
                "label": "HAS_EVENT",
                "color": "#F44336",
                "thickness_factor": 1,
                "directed": true
              },
              {
                "id": 1187,
                "start": 132,
                "end": 133,
                "properties": {
                  "label": "NEXT"
                },
                "label": "NEXT",
                "color": "#4CAF50",
                "thickness_factor": 1,
                "directed": true
              },
              {
                "id": 707,
                "start": 36,
                "end": 132,
                "properties": {
                  "label": "HAS_EVENT"
                },
                "label": "HAS_EVENT",
                "color": "#F44336",
                "thickness_factor": 1,
                "directed": true
              },
              {
                "id": 1192,
                "start": 137,
                "end": 138,
                "properties": {
                  "label": "NEXT"
                },
                "label": "NEXT",
                "color": "#4CAF50",
                "thickness_factor": 1,
                "directed": true
              },
              {
                "id": 717,
                "start": 36,
                "end": 137,
                "properties": {
                  "label": "HAS_EVENT"
                },
                "label": "HAS_EVENT",
                "color": "#F44336",
                "thickness_factor": 1,
                "directed": true
              },
              {
                "id": 1184,
                "start": 129,
                "end": 130,
                "properties": {
                  "label": "NEXT"
                },
                "label": "NEXT",
                "color": "#4CAF50",
                "thickness_factor": 1,
                "directed": true
              },
              {
                "id": 701,
                "start": 36,
                "end": 129,
                "properties": {
                  "label": "HAS_EVENT"
                },
                "label": "HAS_EVENT",
                "color": "#F44336",
                "thickness_factor": 1,
                "directed": true
              },
              {
                "id": 1189,
                "start": 134,
                "end": 135,
                "properties": {
                  "label": "NEXT"
                },
                "label": "NEXT",
                "color": "#4CAF50",
                "thickness_factor": 1,
                "directed": true
              },
              {
                "id": 711,
                "start": 36,
                "end": 134,
                "properties": {
                  "label": "HAS_EVENT"
                },
                "label": "HAS_EVENT",
                "color": "#F44336",
                "thickness_factor": 1,
                "directed": true
              },
              {
                "id": 1194,
                "start": 169,
                "end": 170,
                "properties": {
                  "label": "NEXT"
                },
                "label": "NEXT",
                "color": "#4CAF50",
                "thickness_factor": 1,
                "directed": true
              },
              {
                "id": 781,
                "start": 37,
                "end": 169,
                "properties": {
                  "label": "HAS_EVENT"
                },
                "label": "HAS_EVENT",
                "color": "#F44336",
                "thickness_factor": 1,
                "directed": true
              },
              {
                "id": 1197,
                "start": 172,
                "end": 173,
                "properties": {
                  "label": "NEXT"
                },
                "label": "NEXT",
                "color": "#4CAF50",
                "thickness_factor": 1,
                "directed": true
              },
              {
                "id": 787,
                "start": 37,
                "end": 172,
                "properties": {
                  "label": "HAS_EVENT"
                },
                "label": "HAS_EVENT",
                "color": "#F44336",
                "thickness_factor": 1,
                "directed": true
              },
              {
                "id": 1198,
                "start": 173,
                "end": 174,
                "properties": {
                  "label": "NEXT"
                },
                "label": "NEXT",
                "color": "#4CAF50",
                "thickness_factor": 1,
                "directed": true
              },
              {
                "id": 789,
                "start": 37,
                "end": 173,
                "properties": {
                  "label": "HAS_EVENT"
                },
                "label": "HAS_EVENT",
                "color": "#F44336",
                "thickness_factor": 1,
                "directed": true
              },
              {
                "id": 1195,
                "start": 170,
                "end": 171,
                "properties": {
                  "label": "NEXT"
                },
                "label": "NEXT",
                "color": "#4CAF50",
                "thickness_factor": 1,
                "directed": true
              },
              {
                "id": 783,
                "start": 37,
                "end": 170,
                "properties": {
                  "label": "HAS_EVENT"
                },
                "label": "HAS_EVENT",
                "color": "#F44336",
                "thickness_factor": 1,
                "directed": true
              },
              {
                "id": 1196,
                "start": 171,
                "end": 172,
                "properties": {
                  "label": "NEXT"
                },
                "label": "NEXT",
                "color": "#4CAF50",
                "thickness_factor": 1,
                "directed": true
              },
              {
                "id": 785,
                "start": 37,
                "end": 171,
                "properties": {
                  "label": "HAS_EVENT"
                },
                "label": "HAS_EVENT",
                "color": "#F44336",
                "thickness_factor": 1,
                "directed": true
              },
              {
                "id": 1206,
                "start": 284,
                "end": 285,
                "properties": {
                  "label": "NEXT"
                },
                "label": "NEXT",
                "color": "#4CAF50",
                "thickness_factor": 1,
                "directed": true
              },
              {
                "id": 1021,
                "start": 38,
                "end": 284,
                "properties": {
                  "label": "HAS_EVENT"
                },
                "label": "HAS_EVENT",
                "color": "#F44336",
                "thickness_factor": 1,
                "directed": true
              },
              {
                "id": 1201,
                "start": 279,
                "end": 280,
                "properties": {
                  "label": "NEXT"
                },
                "label": "NEXT",
                "color": "#4CAF50",
                "thickness_factor": 1,
                "directed": true
              },
              {
                "id": 1011,
                "start": 38,
                "end": 279,
                "properties": {
                  "label": "HAS_EVENT"
                },
                "label": "HAS_EVENT",
                "color": "#F44336",
                "thickness_factor": 1,
                "directed": true
              },
              {
                "id": 1199,
                "start": 277,
                "end": 278,
                "properties": {
                  "label": "NEXT"
                },
                "label": "NEXT",
                "color": "#4CAF50",
                "thickness_factor": 1,
                "directed": true
              },
              {
                "id": 1007,
                "start": 38,
                "end": 277,
                "properties": {
                  "label": "HAS_EVENT"
                },
                "label": "HAS_EVENT",
                "color": "#F44336",
                "thickness_factor": 1,
                "directed": true
              },
              {
                "id": 1200,
                "start": 278,
                "end": 279,
                "properties": {
                  "label": "NEXT"
                },
                "label": "NEXT",
                "color": "#4CAF50",
                "thickness_factor": 1,
                "directed": true
              },
              {
                "id": 1009,
                "start": 38,
                "end": 278,
                "properties": {
                  "label": "HAS_EVENT"
                },
                "label": "HAS_EVENT",
                "color": "#F44336",
                "thickness_factor": 1,
                "directed": true
              },
              {
                "id": 1203,
                "start": 281,
                "end": 282,
                "properties": {
                  "label": "NEXT"
                },
                "label": "NEXT",
                "color": "#4CAF50",
                "thickness_factor": 1,
                "directed": true
              },
              {
                "id": 1015,
                "start": 38,
                "end": 281,
                "properties": {
                  "label": "HAS_EVENT"
                },
                "label": "HAS_EVENT",
                "color": "#F44336",
                "thickness_factor": 1,
                "directed": true
              },
              {
                "id": 1202,
                "start": 280,
                "end": 281,
                "properties": {
                  "label": "NEXT"
                },
                "label": "NEXT",
                "color": "#4CAF50",
                "thickness_factor": 1,
                "directed": true
              },
              {
                "id": 1013,
                "start": 38,
                "end": 280,
                "properties": {
                  "label": "HAS_EVENT"
                },
                "label": "HAS_EVENT",
                "color": "#F44336",
                "thickness_factor": 1,
                "directed": true
              },
              {
                "id": 1204,
                "start": 282,
                "end": 283,
                "properties": {
                  "label": "NEXT"
                },
                "label": "NEXT",
                "color": "#4CAF50",
                "thickness_factor": 1,
                "directed": true
              },
              {
                "id": 1017,
                "start": 38,
                "end": 282,
                "properties": {
                  "label": "HAS_EVENT"
                },
                "label": "HAS_EVENT",
                "color": "#F44336",
                "thickness_factor": 1,
                "directed": true
              },
              {
                "id": 1205,
                "start": 283,
                "end": 284,
                "properties": {
                  "label": "NEXT"
                },
                "label": "NEXT",
                "color": "#4CAF50",
                "thickness_factor": 1,
                "directed": true
              },
              {
                "id": 1019,
                "start": 38,
                "end": 283,
                "properties": {
                  "label": "HAS_EVENT"
                },
                "label": "HAS_EVENT",
                "color": "#F44336",
                "thickness_factor": 1,
                "directed": true
              },
              {
                "id": 1207,
                "start": 40,
                "end": 65,
                "properties": {
                  "label": "NEXT"
                },
                "label": "NEXT",
                "color": "#4CAF50",
                "thickness_factor": 1,
                "directed": true
              },
              {
                "id": 571,
                "start": 39,
                "end": 40,
                "properties": {
                  "label": "HAS_EVENT"
                },
                "label": "HAS_EVENT",
                "color": "#F44336",
                "thickness_factor": 1,
                "directed": true
              },
              {
                "id": 1208,
                "start": 65,
                "end": 66,
                "properties": {
                  "label": "NEXT"
                },
                "label": "NEXT",
                "color": "#4CAF50",
                "thickness_factor": 1,
                "directed": true
              },
              {
                "id": 573,
                "start": 39,
                "end": 65,
                "properties": {
                  "label": "HAS_EVENT"
                },
                "label": "HAS_EVENT",
                "color": "#F44336",
                "thickness_factor": 1,
                "directed": true
              },
              {
                "id": 1210,
                "start": 67,
                "end": 68,
                "properties": {
                  "label": "NEXT"
                },
                "label": "NEXT",
                "color": "#4CAF50",
                "thickness_factor": 1,
                "directed": true
              },
              {
                "id": 577,
                "start": 39,
                "end": 67,
                "properties": {
                  "label": "HAS_EVENT"
                },
                "label": "HAS_EVENT",
                "color": "#F44336",
                "thickness_factor": 1,
                "directed": true
              },
              {
                "id": 1213,
                "start": 70,
                "end": 71,
                "properties": {
                  "label": "NEXT"
                },
                "label": "NEXT",
                "color": "#4CAF50",
                "thickness_factor": 1,
                "directed": true
              },
              {
                "id": 583,
                "start": 39,
                "end": 70,
                "properties": {
                  "label": "HAS_EVENT"
                },
                "label": "HAS_EVENT",
                "color": "#F44336",
                "thickness_factor": 1,
                "directed": true
              },
              {
                "id": 1212,
                "start": 69,
                "end": 70,
                "properties": {
                  "label": "NEXT"
                },
                "label": "NEXT",
                "color": "#4CAF50",
                "thickness_factor": 1,
                "directed": true
              },
              {
                "id": 581,
                "start": 39,
                "end": 69,
                "properties": {
                  "label": "HAS_EVENT"
                },
                "label": "HAS_EVENT",
                "color": "#F44336",
                "thickness_factor": 1,
                "directed": true
              },
              {
                "id": 1211,
                "start": 68,
                "end": 69,
                "properties": {
                  "label": "NEXT"
                },
                "label": "NEXT",
                "color": "#4CAF50",
                "thickness_factor": 1,
                "directed": true
              },
              {
                "id": 579,
                "start": 39,
                "end": 68,
                "properties": {
                  "label": "HAS_EVENT"
                },
                "label": "HAS_EVENT",
                "color": "#F44336",
                "thickness_factor": 1,
                "directed": true
              },
              {
                "id": 1209,
                "start": 66,
                "end": 67,
                "properties": {
                  "label": "NEXT"
                },
                "label": "NEXT",
                "color": "#4CAF50",
                "thickness_factor": 1,
                "directed": true
              },
              {
                "id": 575,
                "start": 39,
                "end": 66,
                "properties": {
                  "label": "HAS_EVENT"
                },
                "label": "HAS_EVENT",
                "color": "#F44336",
                "thickness_factor": 1,
                "directed": true
              }
            ],
            "_graph_layout": {
              "algorithm": "organic",
              "options": {}
            },
            "_highlight": [],
            "_license": {},
            "_model_module": "yfiles-jupyter-graphs",
            "_model_module_version": "^1.6.2",
            "_model_name": "GraphModel",
            "_neighborhood": {},
            "_nodes": [
              {
                "id": 122,
                "properties": {
                  "start": "2024-04-02T03:23:05.000000",
                  "end": "2024-04-02T06:32:14.000000",
                  "type": "Shipped",
                  "label": "Event"
                },
                "color": "#2196F3",
                "styles": {
                  "image": "https://em-content.zobj.net/source/apple/391/radio-button_1f518.png"
                },
                "label": "",
                "scale_factor": 1,
                "type": "#2196F3",
                "size": [
                  55,
                  55
                ],
                "position": [
                  0,
                  0
                ]
              },
              {
                "id": 123,
                "properties": {
                  "start": "2024-04-02T06:39:40.000000",
                  "end": "2024-04-02T09:20:03.000000",
                  "type": "Shipped",
                  "label": "Event"
                },
                "color": "#2196F3",
                "styles": {
                  "image": "https://em-content.zobj.net/source/apple/391/radio-button_1f518.png"
                },
                "label": "",
                "scale_factor": 1,
                "type": "#2196F3",
                "size": [
                  55,
                  55
                ],
                "position": [
                  0,
                  0
                ]
              },
              {
                "id": 15,
                "properties": {
                  "date": "2024-04-01",
                  "quantity": 50,
                  "id": "ORD001",
                  "label": "Order"
                },
                "color": "#673AB7",
                "styles": {
                  "image": "https://em-content.zobj.net/source/apple/391/basket_1f9fa.png"
                },
                "label": "ORD001",
                "scale_factor": 1,
                "type": "#673AB7",
                "size": [
                  55,
                  55
                ],
                "position": [
                  0,
                  0
                ]
              },
              {
                "id": 118,
                "properties": {
                  "start": "2024-04-01T15:03:44.000000",
                  "end": "2024-04-01T18:27:42.000000",
                  "type": "Shipped",
                  "label": "Event"
                },
                "color": "#2196F3",
                "styles": {
                  "image": "https://em-content.zobj.net/source/apple/391/radio-button_1f518.png"
                },
                "label": "",
                "scale_factor": 1,
                "type": "#2196F3",
                "size": [
                  55,
                  55
                ],
                "position": [
                  0,
                  0
                ]
              },
              {
                "id": 119,
                "properties": {
                  "start": "2024-04-01T18:59:25.000000",
                  "end": "2024-04-01T21:47:03.000000",
                  "type": "Shipped",
                  "label": "Event"
                },
                "color": "#2196F3",
                "styles": {
                  "image": "https://em-content.zobj.net/source/apple/391/radio-button_1f518.png"
                },
                "label": "",
                "scale_factor": 1,
                "type": "#2196F3",
                "size": [
                  55,
                  55
                ],
                "position": [
                  0,
                  0
                ]
              },
              {
                "id": 124,
                "properties": {
                  "start": "2024-04-02T09:08:13.000000",
                  "end": "2024-04-02T12:35:56.000000",
                  "type": "Shipped",
                  "label": "Event"
                },
                "color": "#2196F3",
                "styles": {
                  "image": "https://em-content.zobj.net/source/apple/391/radio-button_1f518.png"
                },
                "label": "",
                "scale_factor": 1,
                "type": "#2196F3",
                "size": [
                  55,
                  55
                ],
                "position": [
                  0,
                  0
                ]
              },
              {
                "id": 125,
                "properties": {
                  "start": "2024-04-02T12:04:29.000000",
                  "end": "2024-04-02T15:34:25.000000",
                  "type": "Shipped",
                  "label": "Event"
                },
                "color": "#2196F3",
                "styles": {
                  "image": "https://em-content.zobj.net/source/apple/391/radio-button_1f518.png"
                },
                "label": "",
                "scale_factor": 1,
                "type": "#2196F3",
                "size": [
                  55,
                  55
                ],
                "position": [
                  0,
                  0
                ]
              },
              {
                "id": 120,
                "properties": {
                  "start": "2024-04-01T21:41:07.000000",
                  "end": "2024-04-02T00:40:46.000000",
                  "type": "Shipped",
                  "label": "Event"
                },
                "color": "#2196F3",
                "styles": {
                  "image": "https://em-content.zobj.net/source/apple/391/radio-button_1f518.png"
                },
                "label": "",
                "scale_factor": 1,
                "type": "#2196F3",
                "size": [
                  55,
                  55
                ],
                "position": [
                  0,
                  0
                ]
              },
              {
                "id": 121,
                "properties": {
                  "start": "2024-04-02T00:53:13.000000",
                  "end": "2024-04-02T03:28:04.000000",
                  "type": "Shipped",
                  "label": "Event"
                },
                "color": "#2196F3",
                "styles": {
                  "image": "https://em-content.zobj.net/source/apple/391/radio-button_1f518.png"
                },
                "label": "",
                "scale_factor": 1,
                "type": "#2196F3",
                "size": [
                  55,
                  55
                ],
                "position": [
                  0,
                  0
                ]
              },
              {
                "id": 126,
                "properties": {
                  "start": "2024-04-02T15:19:50.000000",
                  "end": "2024-04-02T18:51:16.000000",
                  "type": "Delivered",
                  "label": "Event"
                },
                "color": "#2196F3",
                "styles": {
                  "image": "https://em-content.zobj.net/source/apple/391/radio-button_1f518.png"
                },
                "label": "",
                "scale_factor": 1,
                "type": "#2196F3",
                "size": [
                  55,
                  55
                ],
                "position": [
                  0,
                  0
                ]
              },
              {
                "id": 117,
                "properties": {
                  "start": "2024-04-01T12:30:52.000000",
                  "end": "2024-04-01T15:19:23.000000",
                  "type": "Shipped",
                  "label": "Event"
                },
                "color": "#2196F3",
                "styles": {
                  "image": "https://em-content.zobj.net/source/apple/391/radio-button_1f518.png"
                },
                "label": "",
                "scale_factor": 1,
                "type": "#2196F3",
                "size": [
                  55,
                  55
                ],
                "position": [
                  0,
                  0
                ]
              },
              {
                "id": 115,
                "properties": {
                  "start": "2024-04-01T06:58:14.000000",
                  "end": "2024-04-01T09:34:14.000000",
                  "type": "Produced",
                  "label": "Event"
                },
                "color": "#2196F3",
                "styles": {
                  "image": "https://em-content.zobj.net/source/apple/391/radio-button_1f518.png"
                },
                "label": "",
                "scale_factor": 1,
                "type": "#2196F3",
                "size": [
                  55,
                  55
                ],
                "position": [
                  0,
                  0
                ]
              },
              {
                "id": 116,
                "properties": {
                  "start": "2024-04-01T09:09:09.000000",
                  "end": "2024-04-01T12:35:57.000000",
                  "type": "Shipped",
                  "label": "Event"
                },
                "color": "#2196F3",
                "styles": {
                  "image": "https://em-content.zobj.net/source/apple/391/radio-button_1f518.png"
                },
                "label": "",
                "scale_factor": 1,
                "type": "#2196F3",
                "size": [
                  55,
                  55
                ],
                "position": [
                  0,
                  0
                ]
              },
              {
                "id": 154,
                "properties": {
                  "start": "2024-04-03T06:02:03.000000",
                  "end": "2024-04-03T09:24:01.000000",
                  "type": "Produced",
                  "label": "Event"
                },
                "color": "#2196F3",
                "styles": {
                  "image": "https://em-content.zobj.net/source/apple/391/radio-button_1f518.png"
                },
                "label": "",
                "scale_factor": 1,
                "type": "#2196F3",
                "size": [
                  55,
                  55
                ],
                "position": [
                  0,
                  0
                ]
              },
              {
                "id": 155,
                "properties": {
                  "start": "2024-04-03T09:24:47.000000",
                  "end": "2024-04-03T12:08:06.000000",
                  "type": "Shipped",
                  "label": "Event"
                },
                "color": "#2196F3",
                "styles": {
                  "image": "https://em-content.zobj.net/source/apple/391/radio-button_1f518.png"
                },
                "label": "",
                "scale_factor": 1,
                "type": "#2196F3",
                "size": [
                  55,
                  55
                ],
                "position": [
                  0,
                  0
                ]
              },
              {
                "id": 16,
                "properties": {
                  "date": "2024-04-03",
                  "quantity": 30,
                  "id": "ORD002",
                  "label": "Order"
                },
                "color": "#673AB7",
                "styles": {
                  "image": "https://em-content.zobj.net/source/apple/391/basket_1f9fa.png"
                },
                "label": "ORD002",
                "scale_factor": 1,
                "type": "#673AB7",
                "size": [
                  55,
                  55
                ],
                "position": [
                  0,
                  0
                ]
              },
              {
                "id": 157,
                "properties": {
                  "start": "2024-04-03T15:17:11.000000",
                  "end": "2024-04-03T18:18:31.000000",
                  "type": "Shipped",
                  "label": "Event"
                },
                "color": "#2196F3",
                "styles": {
                  "image": "https://em-content.zobj.net/source/apple/391/radio-button_1f518.png"
                },
                "label": "",
                "scale_factor": 1,
                "type": "#2196F3",
                "size": [
                  55,
                  55
                ],
                "position": [
                  0,
                  0
                ]
              },
              {
                "id": 158,
                "properties": {
                  "start": "2024-04-03T18:45:56.000000",
                  "end": "2024-04-03T21:50:11.000000",
                  "type": "Shipped",
                  "label": "Event"
                },
                "color": "#2196F3",
                "styles": {
                  "image": "https://em-content.zobj.net/source/apple/391/radio-button_1f518.png"
                },
                "label": "",
                "scale_factor": 1,
                "type": "#2196F3",
                "size": [
                  55,
                  55
                ],
                "position": [
                  0,
                  0
                ]
              },
              {
                "id": 156,
                "properties": {
                  "start": "2024-04-03T12:27:13.000000",
                  "end": "2024-04-03T15:09:04.000000",
                  "type": "Shipped",
                  "label": "Event"
                },
                "color": "#2196F3",
                "styles": {
                  "image": "https://em-content.zobj.net/source/apple/391/radio-button_1f518.png"
                },
                "label": "",
                "scale_factor": 1,
                "type": "#2196F3",
                "size": [
                  55,
                  55
                ],
                "position": [
                  0,
                  0
                ]
              },
              {
                "id": 159,
                "properties": {
                  "start": "2024-04-03T21:04:50.000000",
                  "end": "2024-04-04T00:13:42.000000",
                  "type": "Delivered",
                  "label": "Event"
                },
                "color": "#2196F3",
                "styles": {
                  "image": "https://em-content.zobj.net/source/apple/391/radio-button_1f518.png"
                },
                "label": "",
                "scale_factor": 1,
                "type": "#2196F3",
                "size": [
                  55,
                  55
                ],
                "position": [
                  0,
                  0
                ]
              },
              {
                "id": 239,
                "properties": {
                  "start": "2024-04-02T12:25:37.000000",
                  "end": "2024-04-02T15:25:09.000000",
                  "type": "Shipped",
                  "label": "Event"
                },
                "color": "#2196F3",
                "styles": {
                  "image": "https://em-content.zobj.net/source/apple/391/radio-button_1f518.png"
                },
                "label": "",
                "scale_factor": 1,
                "type": "#2196F3",
                "size": [
                  55,
                  55
                ],
                "position": [
                  0,
                  0
                ]
              },
              {
                "id": 240,
                "properties": {
                  "start": "2024-04-02T15:43:55.000000",
                  "end": "2024-04-02T18:32:54.000000",
                  "type": "Shipped",
                  "label": "Event"
                },
                "color": "#2196F3",
                "styles": {
                  "image": "https://em-content.zobj.net/source/apple/391/radio-button_1f518.png"
                },
                "label": "",
                "scale_factor": 1,
                "type": "#2196F3",
                "size": [
                  55,
                  55
                ],
                "position": [
                  0,
                  0
                ]
              },
              {
                "id": 17,
                "properties": {
                  "date": "2024-04-02",
                  "quantity": 25,
                  "id": "ORD003",
                  "label": "Order"
                },
                "color": "#673AB7",
                "styles": {
                  "image": "https://em-content.zobj.net/source/apple/391/basket_1f9fa.png"
                },
                "label": "ORD003",
                "scale_factor": 1,
                "type": "#673AB7",
                "size": [
                  55,
                  55
                ],
                "position": [
                  0,
                  0
                ]
              },
              {
                "id": 248,
                "properties": {
                  "start": "2024-04-03T15:33:55.000000",
                  "end": "2024-04-03T18:32:51.000000",
                  "type": "Shipped",
                  "label": "Event"
                },
                "color": "#2196F3",
                "styles": {
                  "image": "https://em-content.zobj.net/source/apple/391/radio-button_1f518.png"
                },
                "label": "",
                "scale_factor": 1,
                "type": "#2196F3",
                "size": [
                  55,
                  55
                ],
                "position": [
                  0,
                  0
                ]
              },
              {
                "id": 249,
                "properties": {
                  "start": "2024-04-03T18:39:07.000000",
                  "end": "2024-04-03T21:45:30.000000",
                  "type": "Shipped",
                  "label": "Event"
                },
                "color": "#2196F3",
                "styles": {
                  "image": "https://em-content.zobj.net/source/apple/391/radio-button_1f518.png"
                },
                "label": "",
                "scale_factor": 1,
                "type": "#2196F3",
                "size": [
                  55,
                  55
                ],
                "position": [
                  0,
                  0
                ]
              },
              {
                "id": 244,
                "properties": {
                  "start": "2024-04-03T03:12:49.000000",
                  "end": "2024-04-03T06:06:35.000000",
                  "type": "Shipped",
                  "label": "Event"
                },
                "color": "#2196F3",
                "styles": {
                  "image": "https://em-content.zobj.net/source/apple/391/radio-button_1f518.png"
                },
                "label": "",
                "scale_factor": 1,
                "type": "#2196F3",
                "size": [
                  55,
                  55
                ],
                "position": [
                  0,
                  0
                ]
              },
              {
                "id": 245,
                "properties": {
                  "start": "2024-04-03T06:39:23.000000",
                  "end": "2024-04-03T09:59:32.000000",
                  "type": "Shipped",
                  "label": "Event"
                },
                "color": "#2196F3",
                "styles": {
                  "image": "https://em-content.zobj.net/source/apple/391/radio-button_1f518.png"
                },
                "label": "",
                "scale_factor": 1,
                "type": "#2196F3",
                "size": [
                  55,
                  55
                ],
                "position": [
                  0,
                  0
                ]
              },
              {
                "id": 250,
                "properties": {
                  "start": "2024-04-03T21:50:29.000000",
                  "end": "2024-04-04T00:42:50.000000",
                  "type": "Delivered",
                  "label": "Event"
                },
                "color": "#2196F3",
                "styles": {
                  "image": "https://em-content.zobj.net/source/apple/391/radio-button_1f518.png"
                },
                "label": "",
                "scale_factor": 1,
                "type": "#2196F3",
                "size": [
                  55,
                  55
                ],
                "position": [
                  0,
                  0
                ]
              },
              {
                "id": 247,
                "properties": {
                  "start": "2024-04-03T12:05:06.000000",
                  "end": "2024-04-03T15:20:55.000000",
                  "type": "Shipped",
                  "label": "Event"
                },
                "color": "#2196F3",
                "styles": {
                  "image": "https://em-content.zobj.net/source/apple/391/radio-button_1f518.png"
                },
                "label": "",
                "scale_factor": 1,
                "type": "#2196F3",
                "size": [
                  55,
                  55
                ],
                "position": [
                  0,
                  0
                ]
              },
              {
                "id": 238,
                "properties": {
                  "start": "2024-04-02T09:28:49.000000",
                  "end": "2024-04-02T12:09:28.000000",
                  "type": "Shipped",
                  "label": "Event"
                },
                "color": "#2196F3",
                "styles": {
                  "image": "https://em-content.zobj.net/source/apple/391/radio-button_1f518.png"
                },
                "label": "",
                "scale_factor": 1,
                "type": "#2196F3",
                "size": [
                  55,
                  55
                ],
                "position": [
                  0,
                  0
                ]
              },
              {
                "id": 242,
                "properties": {
                  "start": "2024-04-02T21:15:35.000000",
                  "end": "2024-04-03T00:00:04.000000",
                  "type": "Shipped",
                  "label": "Event"
                },
                "color": "#2196F3",
                "styles": {
                  "image": "https://em-content.zobj.net/source/apple/391/radio-button_1f518.png"
                },
                "label": "",
                "scale_factor": 1,
                "type": "#2196F3",
                "size": [
                  55,
                  55
                ],
                "position": [
                  0,
                  0
                ]
              },
              {
                "id": 243,
                "properties": {
                  "start": "2024-04-03T00:37:39.000000",
                  "end": "2024-04-03T03:06:08.000000",
                  "type": "Shipped",
                  "label": "Event"
                },
                "color": "#2196F3",
                "styles": {
                  "image": "https://em-content.zobj.net/source/apple/391/radio-button_1f518.png"
                },
                "label": "",
                "scale_factor": 1,
                "type": "#2196F3",
                "size": [
                  55,
                  55
                ],
                "position": [
                  0,
                  0
                ]
              },
              {
                "id": 246,
                "properties": {
                  "start": "2024-04-03T09:40:36.000000",
                  "end": "2024-04-03T12:28:53.000000",
                  "type": "Shipped",
                  "label": "Event"
                },
                "color": "#2196F3",
                "styles": {
                  "image": "https://em-content.zobj.net/source/apple/391/radio-button_1f518.png"
                },
                "label": "",
                "scale_factor": 1,
                "type": "#2196F3",
                "size": [
                  55,
                  55
                ],
                "position": [
                  0,
                  0
                ]
              },
              {
                "id": 241,
                "properties": {
                  "start": "2024-04-02T18:13:28.000000",
                  "end": "2024-04-02T21:59:34.000000",
                  "type": "Shipped",
                  "label": "Event"
                },
                "color": "#2196F3",
                "styles": {
                  "image": "https://em-content.zobj.net/source/apple/391/radio-button_1f518.png"
                },
                "label": "",
                "scale_factor": 1,
                "type": "#2196F3",
                "size": [
                  55,
                  55
                ],
                "position": [
                  0,
                  0
                ]
              },
              {
                "id": 237,
                "properties": {
                  "start": "2024-04-02T06:43:26.000000",
                  "end": "2024-04-02T09:07:30.000000",
                  "type": "Produced",
                  "label": "Event"
                },
                "color": "#2196F3",
                "styles": {
                  "image": "https://em-content.zobj.net/source/apple/391/radio-button_1f518.png"
                },
                "label": "",
                "scale_factor": 1,
                "type": "#2196F3",
                "size": [
                  55,
                  55
                ],
                "position": [
                  0,
                  0
                ]
              },
              {
                "id": 88,
                "properties": {
                  "start": "2024-04-04T18:11:07.000000",
                  "end": "2024-04-04T21:25:43.000000",
                  "type": "Shipped",
                  "label": "Event"
                },
                "color": "#2196F3",
                "styles": {
                  "image": "https://em-content.zobj.net/source/apple/391/radio-button_1f518.png"
                },
                "label": "",
                "scale_factor": 1,
                "type": "#2196F3",
                "size": [
                  55,
                  55
                ],
                "position": [
                  0,
                  0
                ]
              },
              {
                "id": 89,
                "properties": {
                  "start": "2024-04-04T21:59:14.000000",
                  "end": "2024-04-05T00:53:01.000000",
                  "type": "Shipped",
                  "label": "Event"
                },
                "color": "#2196F3",
                "styles": {
                  "image": "https://em-content.zobj.net/source/apple/391/radio-button_1f518.png"
                },
                "label": "",
                "scale_factor": 1,
                "type": "#2196F3",
                "size": [
                  55,
                  55
                ],
                "position": [
                  0,
                  0
                ]
              },
              {
                "id": 18,
                "properties": {
                  "date": "2024-04-04",
                  "quantity": 40,
                  "id": "ORD004",
                  "label": "Order"
                },
                "color": "#673AB7",
                "styles": {
                  "image": "https://em-content.zobj.net/source/apple/391/basket_1f9fa.png"
                },
                "label": "ORD004",
                "scale_factor": 1,
                "type": "#673AB7",
                "size": [
                  55,
                  55
                ],
                "position": [
                  0,
                  0
                ]
              },
              {
                "id": 85,
                "properties": {
                  "start": "2024-04-04T09:38:27.000000",
                  "end": "2024-04-04T12:37:00.000000",
                  "type": "Shipped",
                  "label": "Event"
                },
                "color": "#2196F3",
                "styles": {
                  "image": "https://em-content.zobj.net/source/apple/391/radio-button_1f518.png"
                },
                "label": "",
                "scale_factor": 1,
                "type": "#2196F3",
                "size": [
                  55,
                  55
                ],
                "position": [
                  0,
                  0
                ]
              },
              {
                "id": 86,
                "properties": {
                  "start": "2024-04-04T12:03:18.000000",
                  "end": "2024-04-04T15:32:28.000000",
                  "type": "Shipped",
                  "label": "Event"
                },
                "color": "#2196F3",
                "styles": {
                  "image": "https://em-content.zobj.net/source/apple/391/radio-button_1f518.png"
                },
                "label": "",
                "scale_factor": 1,
                "type": "#2196F3",
                "size": [
                  55,
                  55
                ],
                "position": [
                  0,
                  0
                ]
              },
              {
                "id": 90,
                "properties": {
                  "start": "2024-04-05T00:05:53.000000",
                  "end": "2024-04-05T03:14:31.000000",
                  "type": "Shipped",
                  "label": "Event"
                },
                "color": "#2196F3",
                "styles": {
                  "image": "https://em-content.zobj.net/source/apple/391/radio-button_1f518.png"
                },
                "label": "",
                "scale_factor": 1,
                "type": "#2196F3",
                "size": [
                  55,
                  55
                ],
                "position": [
                  0,
                  0
                ]
              },
              {
                "id": 91,
                "properties": {
                  "start": "2024-04-05T03:12:25.000000",
                  "end": "2024-04-05T06:40:31.000000",
                  "type": "Shipped",
                  "label": "Event"
                },
                "color": "#2196F3",
                "styles": {
                  "image": "https://em-content.zobj.net/source/apple/391/radio-button_1f518.png"
                },
                "label": "",
                "scale_factor": 1,
                "type": "#2196F3",
                "size": [
                  55,
                  55
                ],
                "position": [
                  0,
                  0
                ]
              },
              {
                "id": 92,
                "properties": {
                  "start": "2024-04-05T06:13:57.000000",
                  "end": "2024-04-05T09:20:01.000000",
                  "type": "Delivered",
                  "label": "Event"
                },
                "color": "#2196F3",
                "styles": {
                  "image": "https://em-content.zobj.net/source/apple/391/radio-button_1f518.png"
                },
                "label": "",
                "scale_factor": 1,
                "type": "#2196F3",
                "size": [
                  55,
                  55
                ],
                "position": [
                  0,
                  0
                ]
              },
              {
                "id": 87,
                "properties": {
                  "start": "2024-04-04T15:24:46.000000",
                  "end": "2024-04-04T18:09:58.000000",
                  "type": "Shipped",
                  "label": "Event"
                },
                "color": "#2196F3",
                "styles": {
                  "image": "https://em-content.zobj.net/source/apple/391/radio-button_1f518.png"
                },
                "label": "",
                "scale_factor": 1,
                "type": "#2196F3",
                "size": [
                  55,
                  55
                ],
                "position": [
                  0,
                  0
                ]
              },
              {
                "id": 84,
                "properties": {
                  "start": "2024-04-04T06:05:01.000000",
                  "end": "2024-04-04T09:05:23.000000",
                  "type": "Produced",
                  "label": "Event"
                },
                "color": "#2196F3",
                "styles": {
                  "image": "https://em-content.zobj.net/source/apple/391/radio-button_1f518.png"
                },
                "label": "",
                "scale_factor": 1,
                "type": "#2196F3",
                "size": [
                  55,
                  55
                ],
                "position": [
                  0,
                  0
                ]
              },
              {
                "id": 218,
                "properties": {
                  "start": "2024-04-07T12:38:37.000000",
                  "end": "2024-04-07T15:58:31.000000",
                  "type": "Shipped",
                  "label": "Event"
                },
                "color": "#2196F3",
                "styles": {
                  "image": "https://em-content.zobj.net/source/apple/391/radio-button_1f518.png"
                },
                "label": "",
                "scale_factor": 1,
                "type": "#2196F3",
                "size": [
                  55,
                  55
                ],
                "position": [
                  0,
                  0
                ]
              },
              {
                "id": 219,
                "properties": {
                  "start": "2024-04-07T15:30:27.000000",
                  "end": "2024-04-07T18:38:36.000000",
                  "type": "Shipped",
                  "label": "Event"
                },
                "color": "#2196F3",
                "styles": {
                  "image": "https://em-content.zobj.net/source/apple/391/radio-button_1f518.png"
                },
                "label": "",
                "scale_factor": 1,
                "type": "#2196F3",
                "size": [
                  55,
                  55
                ],
                "position": [
                  0,
                  0
                ]
              },
              {
                "id": 19,
                "properties": {
                  "date": "2024-04-07",
                  "quantity": 35,
                  "id": "ORD005",
                  "label": "Order"
                },
                "color": "#673AB7",
                "styles": {
                  "image": "https://em-content.zobj.net/source/apple/391/basket_1f9fa.png"
                },
                "label": "ORD005",
                "scale_factor": 1,
                "type": "#673AB7",
                "size": [
                  55,
                  55
                ],
                "position": [
                  0,
                  0
                ]
              },
              {
                "id": 220,
                "properties": {
                  "start": "2024-04-07T18:22:03.000000",
                  "end": "2024-04-07T21:07:06.000000",
                  "type": "Delivered",
                  "label": "Event"
                },
                "color": "#2196F3",
                "styles": {
                  "image": "https://em-content.zobj.net/source/apple/391/radio-button_1f518.png"
                },
                "label": "",
                "scale_factor": 1,
                "type": "#2196F3",
                "size": [
                  55,
                  55
                ],
                "position": [
                  0,
                  0
                ]
              },
              {
                "id": 217,
                "properties": {
                  "start": "2024-04-07T09:48:33.000000",
                  "end": "2024-04-07T12:17:53.000000",
                  "type": "Shipped",
                  "label": "Event"
                },
                "color": "#2196F3",
                "styles": {
                  "image": "https://em-content.zobj.net/source/apple/391/radio-button_1f518.png"
                },
                "label": "",
                "scale_factor": 1,
                "type": "#2196F3",
                "size": [
                  55,
                  55
                ],
                "position": [
                  0,
                  0
                ]
              },
              {
                "id": 216,
                "properties": {
                  "start": "2024-04-07T06:04:23.000000",
                  "end": "2024-04-07T09:15:47.000000",
                  "type": "Produced",
                  "label": "Event"
                },
                "color": "#2196F3",
                "styles": {
                  "image": "https://em-content.zobj.net/source/apple/391/radio-button_1f518.png"
                },
                "label": "",
                "scale_factor": 1,
                "type": "#2196F3",
                "size": [
                  55,
                  55
                ],
                "position": [
                  0,
                  0
                ]
              },
              {
                "id": 251,
                "properties": {
                  "start": "2024-04-05T06:00:07.000000",
                  "end": "2024-04-05T09:49:52.000000",
                  "type": "Produced",
                  "label": "Event"
                },
                "color": "#2196F3",
                "styles": {
                  "image": "https://em-content.zobj.net/source/apple/391/radio-button_1f518.png"
                },
                "label": "",
                "scale_factor": 1,
                "type": "#2196F3",
                "size": [
                  55,
                  55
                ],
                "position": [
                  0,
                  0
                ]
              },
              {
                "id": 252,
                "properties": {
                  "start": "2024-04-05T09:48:34.000000",
                  "end": "2024-04-05T12:37:12.000000",
                  "type": "Shipped",
                  "label": "Event"
                },
                "color": "#2196F3",
                "styles": {
                  "image": "https://em-content.zobj.net/source/apple/391/radio-button_1f518.png"
                },
                "label": "",
                "scale_factor": 1,
                "type": "#2196F3",
                "size": [
                  55,
                  55
                ],
                "position": [
                  0,
                  0
                ]
              },
              {
                "id": 20,
                "properties": {
                  "date": "2024-04-05",
                  "quantity": 20,
                  "id": "ORD006",
                  "label": "Order"
                },
                "color": "#673AB7",
                "styles": {
                  "image": "https://em-content.zobj.net/source/apple/391/basket_1f9fa.png"
                },
                "label": "ORD006",
                "scale_factor": 1,
                "type": "#673AB7",
                "size": [
                  55,
                  55
                ],
                "position": [
                  0,
                  0
                ]
              },
              {
                "id": 256,
                "properties": {
                  "start": "2024-04-05T21:59:00.000000",
                  "end": "2024-04-06T00:38:40.000000",
                  "type": "Shipped",
                  "label": "Event"
                },
                "color": "#2196F3",
                "styles": {
                  "image": "https://em-content.zobj.net/source/apple/391/radio-button_1f518.png"
                },
                "label": "",
                "scale_factor": 1,
                "type": "#2196F3",
                "size": [
                  55,
                  55
                ],
                "position": [
                  0,
                  0
                ]
              },
              {
                "id": 257,
                "properties": {
                  "start": "2024-04-06T00:28:49.000000",
                  "end": "2024-04-06T03:47:00.000000",
                  "type": "Shipped",
                  "label": "Event"
                },
                "color": "#2196F3",
                "styles": {
                  "image": "https://em-content.zobj.net/source/apple/391/radio-button_1f518.png"
                },
                "label": "",
                "scale_factor": 1,
                "type": "#2196F3",
                "size": [
                  55,
                  55
                ],
                "position": [
                  0,
                  0
                ]
              },
              {
                "id": 254,
                "properties": {
                  "start": "2024-04-05T15:41:38.000000",
                  "end": "2024-04-05T18:13:15.000000",
                  "type": "Shipped",
                  "label": "Event"
                },
                "color": "#2196F3",
                "styles": {
                  "image": "https://em-content.zobj.net/source/apple/391/radio-button_1f518.png"
                },
                "label": "",
                "scale_factor": 1,
                "type": "#2196F3",
                "size": [
                  55,
                  55
                ],
                "position": [
                  0,
                  0
                ]
              },
              {
                "id": 255,
                "properties": {
                  "start": "2024-04-05T18:06:11.000000",
                  "end": "2024-04-05T21:46:56.000000",
                  "type": "Shipped",
                  "label": "Event"
                },
                "color": "#2196F3",
                "styles": {
                  "image": "https://em-content.zobj.net/source/apple/391/radio-button_1f518.png"
                },
                "label": "",
                "scale_factor": 1,
                "type": "#2196F3",
                "size": [
                  55,
                  55
                ],
                "position": [
                  0,
                  0
                ]
              },
              {
                "id": 253,
                "properties": {
                  "start": "2024-04-05T12:38:12.000000",
                  "end": "2024-04-05T15:10:11.000000",
                  "type": "Shipped",
                  "label": "Event"
                },
                "color": "#2196F3",
                "styles": {
                  "image": "https://em-content.zobj.net/source/apple/391/radio-button_1f518.png"
                },
                "label": "",
                "scale_factor": 1,
                "type": "#2196F3",
                "size": [
                  55,
                  55
                ],
                "position": [
                  0,
                  0
                ]
              },
              {
                "id": 260,
                "properties": {
                  "start": "2024-04-06T09:21:40.000000",
                  "end": "2024-04-06T12:53:42.000000",
                  "type": "Shipped",
                  "label": "Event"
                },
                "color": "#2196F3",
                "styles": {
                  "image": "https://em-content.zobj.net/source/apple/391/radio-button_1f518.png"
                },
                "label": "",
                "scale_factor": 1,
                "type": "#2196F3",
                "size": [
                  55,
                  55
                ],
                "position": [
                  0,
                  0
                ]
              },
              {
                "id": 261,
                "properties": {
                  "start": "2024-04-06T12:10:34.000000",
                  "end": "2024-04-06T15:41:23.000000",
                  "type": "Shipped",
                  "label": "Event"
                },
                "color": "#2196F3",
                "styles": {
                  "image": "https://em-content.zobj.net/source/apple/391/radio-button_1f518.png"
                },
                "label": "",
                "scale_factor": 1,
                "type": "#2196F3",
                "size": [
                  55,
                  55
                ],
                "position": [
                  0,
                  0
                ]
              },
              {
                "id": 262,
                "properties": {
                  "start": "2024-04-06T15:13:00.000000",
                  "end": "2024-04-06T18:27:30.000000",
                  "type": "Shipped",
                  "label": "Event"
                },
                "color": "#2196F3",
                "styles": {
                  "image": "https://em-content.zobj.net/source/apple/391/radio-button_1f518.png"
                },
                "label": "",
                "scale_factor": 1,
                "type": "#2196F3",
                "size": [
                  55,
                  55
                ],
                "position": [
                  0,
                  0
                ]
              },
              {
                "id": 263,
                "properties": {
                  "start": "2024-04-06T18:00:35.000000",
                  "end": "2024-04-06T21:02:13.000000",
                  "type": "Delivered",
                  "label": "Event"
                },
                "color": "#2196F3",
                "styles": {
                  "image": "https://em-content.zobj.net/source/apple/391/radio-button_1f518.png"
                },
                "label": "",
                "scale_factor": 1,
                "type": "#2196F3",
                "size": [
                  55,
                  55
                ],
                "position": [
                  0,
                  0
                ]
              },
              {
                "id": 259,
                "properties": {
                  "start": "2024-04-06T06:25:29.000000",
                  "end": "2024-04-06T09:05:34.000000",
                  "type": "Shipped",
                  "label": "Event"
                },
                "color": "#2196F3",
                "styles": {
                  "image": "https://em-content.zobj.net/source/apple/391/radio-button_1f518.png"
                },
                "label": "",
                "scale_factor": 1,
                "type": "#2196F3",
                "size": [
                  55,
                  55
                ],
                "position": [
                  0,
                  0
                ]
              },
              {
                "id": 258,
                "properties": {
                  "start": "2024-04-06T03:37:03.000000",
                  "end": "2024-04-06T06:07:15.000000",
                  "type": "Shipped",
                  "label": "Event"
                },
                "color": "#2196F3",
                "styles": {
                  "image": "https://em-content.zobj.net/source/apple/391/radio-button_1f518.png"
                },
                "label": "",
                "scale_factor": 1,
                "type": "#2196F3",
                "size": [
                  55,
                  55
                ],
                "position": [
                  0,
                  0
                ]
              },
              {
                "id": 140,
                "properties": {
                  "start": "2024-04-10T06:50:54.000000",
                  "end": "2024-04-10T09:54:21.000000",
                  "type": "Produced",
                  "label": "Event"
                },
                "color": "#2196F3",
                "styles": {
                  "image": "https://em-content.zobj.net/source/apple/391/radio-button_1f518.png"
                },
                "label": "",
                "scale_factor": 1,
                "type": "#2196F3",
                "size": [
                  55,
                  55
                ],
                "position": [
                  0,
                  0
                ]
              },
              {
                "id": 141,
                "properties": {
                  "start": "2024-04-10T09:11:59.000000",
                  "end": "2024-04-10T12:14:49.000000",
                  "type": "Shipped",
                  "label": "Event"
                },
                "color": "#2196F3",
                "styles": {
                  "image": "https://em-content.zobj.net/source/apple/391/radio-button_1f518.png"
                },
                "label": "",
                "scale_factor": 1,
                "type": "#2196F3",
                "size": [
                  55,
                  55
                ],
                "position": [
                  0,
                  0
                ]
              },
              {
                "id": 21,
                "properties": {
                  "date": "2024-04-10",
                  "quantity": 55,
                  "id": "ORD007",
                  "label": "Order"
                },
                "color": "#673AB7",
                "styles": {
                  "image": "https://em-content.zobj.net/source/apple/391/basket_1f9fa.png"
                },
                "label": "ORD007",
                "scale_factor": 1,
                "type": "#673AB7",
                "size": [
                  55,
                  55
                ],
                "position": [
                  0,
                  0
                ]
              },
              {
                "id": 144,
                "properties": {
                  "start": "2024-04-10T18:15:20.000000",
                  "end": "2024-04-10T21:50:23.000000",
                  "type": "Shipped",
                  "label": "Event"
                },
                "color": "#2196F3",
                "styles": {
                  "image": "https://em-content.zobj.net/source/apple/391/radio-button_1f518.png"
                },
                "label": "",
                "scale_factor": 1,
                "type": "#2196F3",
                "size": [
                  55,
                  55
                ],
                "position": [
                  0,
                  0
                ]
              },
              {
                "id": 145,
                "properties": {
                  "start": "2024-04-10T21:58:30.000000",
                  "end": "2024-04-11T00:10:09.000000",
                  "type": "Shipped",
                  "label": "Event"
                },
                "color": "#2196F3",
                "styles": {
                  "image": "https://em-content.zobj.net/source/apple/391/radio-button_1f518.png"
                },
                "label": "",
                "scale_factor": 1,
                "type": "#2196F3",
                "size": [
                  55,
                  55
                ],
                "position": [
                  0,
                  0
                ]
              },
              {
                "id": 146,
                "properties": {
                  "start": "2024-04-11T00:28:45.000000",
                  "end": "2024-04-11T03:00:57.000000",
                  "type": "Shipped",
                  "label": "Event"
                },
                "color": "#2196F3",
                "styles": {
                  "image": "https://em-content.zobj.net/source/apple/391/radio-button_1f518.png"
                },
                "label": "",
                "scale_factor": 1,
                "type": "#2196F3",
                "size": [
                  55,
                  55
                ],
                "position": [
                  0,
                  0
                ]
              },
              {
                "id": 147,
                "properties": {
                  "start": "2024-04-11T03:12:24.000000",
                  "end": "2024-04-11T06:41:58.000000",
                  "type": "Delivered",
                  "label": "Event"
                },
                "color": "#2196F3",
                "styles": {
                  "image": "https://em-content.zobj.net/source/apple/391/radio-button_1f518.png"
                },
                "label": "",
                "scale_factor": 1,
                "type": "#2196F3",
                "size": [
                  55,
                  55
                ],
                "position": [
                  0,
                  0
                ]
              },
              {
                "id": 142,
                "properties": {
                  "start": "2024-04-10T12:54:08.000000",
                  "end": "2024-04-10T15:37:32.000000",
                  "type": "Shipped",
                  "label": "Event"
                },
                "color": "#2196F3",
                "styles": {
                  "image": "https://em-content.zobj.net/source/apple/391/radio-button_1f518.png"
                },
                "label": "",
                "scale_factor": 1,
                "type": "#2196F3",
                "size": [
                  55,
                  55
                ],
                "position": [
                  0,
                  0
                ]
              },
              {
                "id": 143,
                "properties": {
                  "start": "2024-04-10T15:13:52.000000",
                  "end": "2024-04-10T18:03:31.000000",
                  "type": "Shipped",
                  "label": "Event"
                },
                "color": "#2196F3",
                "styles": {
                  "image": "https://em-content.zobj.net/source/apple/391/radio-button_1f518.png"
                },
                "label": "",
                "scale_factor": 1,
                "type": "#2196F3",
                "size": [
                  55,
                  55
                ],
                "position": [
                  0,
                  0
                ]
              },
              {
                "id": 185,
                "properties": {
                  "start": "2024-04-09T15:17:13.000000",
                  "end": "2024-04-09T18:41:37.000000",
                  "type": "Shipped",
                  "label": "Event"
                },
                "color": "#2196F3",
                "styles": {
                  "image": "https://em-content.zobj.net/source/apple/391/radio-button_1f518.png"
                },
                "label": "",
                "scale_factor": 1,
                "type": "#2196F3",
                "size": [
                  55,
                  55
                ],
                "position": [
                  0,
                  0
                ]
              },
              {
                "id": 186,
                "properties": {
                  "start": "2024-04-09T18:46:22.000000",
                  "end": "2024-04-09T21:16:27.000000",
                  "type": "Shipped",
                  "label": "Event"
                },
                "color": "#2196F3",
                "styles": {
                  "image": "https://em-content.zobj.net/source/apple/391/radio-button_1f518.png"
                },
                "label": "",
                "scale_factor": 1,
                "type": "#2196F3",
                "size": [
                  55,
                  55
                ],
                "position": [
                  0,
                  0
                ]
              },
              {
                "id": 22,
                "properties": {
                  "date": "2024-04-09",
                  "quantity": 60,
                  "id": "ORD008",
                  "label": "Order"
                },
                "color": "#673AB7",
                "styles": {
                  "image": "https://em-content.zobj.net/source/apple/391/basket_1f9fa.png"
                },
                "label": "ORD008",
                "scale_factor": 1,
                "type": "#673AB7",
                "size": [
                  55,
                  55
                ],
                "position": [
                  0,
                  0
                ]
              },
              {
                "id": 187,
                "properties": {
                  "start": "2024-04-09T21:24:35.000000",
                  "end": "2024-04-10T00:01:46.000000",
                  "type": "Shipped",
                  "label": "Event"
                },
                "color": "#2196F3",
                "styles": {
                  "image": "https://em-content.zobj.net/source/apple/391/radio-button_1f518.png"
                },
                "label": "",
                "scale_factor": 1,
                "type": "#2196F3",
                "size": [
                  55,
                  55
                ],
                "position": [
                  0,
                  0
                ]
              },
              {
                "id": 188,
                "properties": {
                  "start": "2024-04-10T00:08:47.000000",
                  "end": "2024-04-10T03:13:35.000000",
                  "type": "Shipped",
                  "label": "Event"
                },
                "color": "#2196F3",
                "styles": {
                  "image": "https://em-content.zobj.net/source/apple/391/radio-button_1f518.png"
                },
                "label": "",
                "scale_factor": 1,
                "type": "#2196F3",
                "size": [
                  55,
                  55
                ],
                "position": [
                  0,
                  0
                ]
              },
              {
                "id": 189,
                "properties": {
                  "start": "2024-04-10T03:02:12.000000",
                  "end": "2024-04-10T06:28:19.000000",
                  "type": "Shipped",
                  "label": "Event"
                },
                "color": "#2196F3",
                "styles": {
                  "image": "https://em-content.zobj.net/source/apple/391/radio-button_1f518.png"
                },
                "label": "",
                "scale_factor": 1,
                "type": "#2196F3",
                "size": [
                  55,
                  55
                ],
                "position": [
                  0,
                  0
                ]
              },
              {
                "id": 190,
                "properties": {
                  "start": "2024-04-10T06:34:17.000000",
                  "end": "2024-04-10T09:23:20.000000",
                  "type": "Shipped",
                  "label": "Event"
                },
                "color": "#2196F3",
                "styles": {
                  "image": "https://em-content.zobj.net/source/apple/391/radio-button_1f518.png"
                },
                "label": "",
                "scale_factor": 1,
                "type": "#2196F3",
                "size": [
                  55,
                  55
                ],
                "position": [
                  0,
                  0
                ]
              },
              {
                "id": 181,
                "properties": {
                  "start": "2024-04-09T06:14:25.000000",
                  "end": "2024-04-09T09:59:17.000000",
                  "type": "Produced",
                  "label": "Event"
                },
                "color": "#2196F3",
                "styles": {
                  "image": "https://em-content.zobj.net/source/apple/391/radio-button_1f518.png"
                },
                "label": "",
                "scale_factor": 1,
                "type": "#2196F3",
                "size": [
                  55,
                  55
                ],
                "position": [
                  0,
                  0
                ]
              },
              {
                "id": 182,
                "properties": {
                  "start": "2024-04-09T09:14:21.000000",
                  "end": "2024-04-09T12:22:28.000000",
                  "type": "Shipped",
                  "label": "Event"
                },
                "color": "#2196F3",
                "styles": {
                  "image": "https://em-content.zobj.net/source/apple/391/radio-button_1f518.png"
                },
                "label": "",
                "scale_factor": 1,
                "type": "#2196F3",
                "size": [
                  55,
                  55
                ],
                "position": [
                  0,
                  0
                ]
              },
              {
                "id": 184,
                "properties": {
                  "start": "2024-04-09T12:58:56.000000",
                  "end": "2024-04-09T15:02:55.000000",
                  "type": "Shipped",
                  "label": "Event"
                },
                "color": "#2196F3",
                "styles": {
                  "image": "https://em-content.zobj.net/source/apple/391/radio-button_1f518.png"
                },
                "label": "",
                "scale_factor": 1,
                "type": "#2196F3",
                "size": [
                  55,
                  55
                ],
                "position": [
                  0,
                  0
                ]
              },
              {
                "id": 192,
                "properties": {
                  "start": "2024-04-10T09:39:21.000000",
                  "end": "2024-04-10T12:59:58.000000",
                  "type": "Delivered",
                  "label": "Event"
                },
                "color": "#2196F3",
                "styles": {
                  "image": "https://em-content.zobj.net/source/apple/391/radio-button_1f518.png"
                },
                "label": "",
                "scale_factor": 1,
                "type": "#2196F3",
                "size": [
                  55,
                  55
                ],
                "position": [
                  0,
                  0
                ]
              },
              {
                "id": 287,
                "properties": {
                  "start": "2024-04-12T09:07:43.000000",
                  "end": "2024-04-12T12:23:42.000000",
                  "type": "Shipped",
                  "label": "Event"
                },
                "color": "#2196F3",
                "styles": {
                  "image": "https://em-content.zobj.net/source/apple/391/radio-button_1f518.png"
                },
                "label": "",
                "scale_factor": 1,
                "type": "#2196F3",
                "size": [
                  55,
                  55
                ],
                "position": [
                  0,
                  0
                ]
              },
              {
                "id": 288,
                "properties": {
                  "start": "2024-04-12T12:45:30.000000",
                  "end": "2024-04-12T15:27:37.000000",
                  "type": "Shipped",
                  "label": "Event"
                },
                "color": "#2196F3",
                "styles": {
                  "image": "https://em-content.zobj.net/source/apple/391/radio-button_1f518.png"
                },
                "label": "",
                "scale_factor": 1,
                "type": "#2196F3",
                "size": [
                  55,
                  55
                ],
                "position": [
                  0,
                  0
                ]
              },
              {
                "id": 23,
                "properties": {
                  "date": "2024-04-12",
                  "quantity": 45,
                  "id": "ORD009",
                  "label": "Order"
                },
                "color": "#673AB7",
                "styles": {
                  "image": "https://em-content.zobj.net/source/apple/391/basket_1f9fa.png"
                },
                "label": "ORD009",
                "scale_factor": 1,
                "type": "#673AB7",
                "size": [
                  55,
                  55
                ],
                "position": [
                  0,
                  0
                ]
              },
              {
                "id": 289,
                "properties": {
                  "start": "2024-04-12T15:00:42.000000",
                  "end": "2024-04-12T18:05:17.000000",
                  "type": "Shipped",
                  "label": "Event"
                },
                "color": "#2196F3",
                "styles": {
                  "image": "https://em-content.zobj.net/source/apple/391/radio-button_1f518.png"
                },
                "label": "",
                "scale_factor": 1,
                "type": "#2196F3",
                "size": [
                  55,
                  55
                ],
                "position": [
                  0,
                  0
                ]
              },
              {
                "id": 290,
                "properties": {
                  "start": "2024-04-12T18:19:29.000000",
                  "end": "2024-04-12T21:03:31.000000",
                  "type": "Shipped",
                  "label": "Event"
                },
                "color": "#2196F3",
                "styles": {
                  "image": "https://em-content.zobj.net/source/apple/391/radio-button_1f518.png"
                },
                "label": "",
                "scale_factor": 1,
                "type": "#2196F3",
                "size": [
                  55,
                  55
                ],
                "position": [
                  0,
                  0
                ]
              },
              {
                "id": 291,
                "properties": {
                  "start": "2024-04-12T21:50:57.000000",
                  "end": "2024-04-13T00:06:30.000000",
                  "type": "Shipped",
                  "label": "Event"
                },
                "color": "#2196F3",
                "styles": {
                  "image": "https://em-content.zobj.net/source/apple/391/radio-button_1f518.png"
                },
                "label": "",
                "scale_factor": 1,
                "type": "#2196F3",
                "size": [
                  55,
                  55
                ],
                "position": [
                  0,
                  0
                ]
              },
              {
                "id": 292,
                "properties": {
                  "start": "2024-04-13T00:52:07.000000",
                  "end": "2024-04-13T03:54:27.000000",
                  "type": "Shipped",
                  "label": "Event"
                },
                "color": "#2196F3",
                "styles": {
                  "image": "https://em-content.zobj.net/source/apple/391/radio-button_1f518.png"
                },
                "label": "",
                "scale_factor": 1,
                "type": "#2196F3",
                "size": [
                  55,
                  55
                ],
                "position": [
                  0,
                  0
                ]
              },
              {
                "id": 295,
                "properties": {
                  "start": "2024-04-13T09:35:23.000000",
                  "end": "2024-04-13T12:57:42.000000",
                  "type": "Shipped",
                  "label": "Event"
                },
                "color": "#2196F3",
                "styles": {
                  "image": "https://em-content.zobj.net/source/apple/391/radio-button_1f518.png"
                },
                "label": "",
                "scale_factor": 1,
                "type": "#2196F3",
                "size": [
                  55,
                  55
                ],
                "position": [
                  0,
                  0
                ]
              },
              {
                "id": 296,
                "properties": {
                  "start": "2024-04-13T12:21:45.000000",
                  "end": "2024-04-13T15:39:58.000000",
                  "type": "Shipped",
                  "label": "Event"
                },
                "color": "#2196F3",
                "styles": {
                  "image": "https://em-content.zobj.net/source/apple/391/radio-button_1f518.png"
                },
                "label": "",
                "scale_factor": 1,
                "type": "#2196F3",
                "size": [
                  55,
                  55
                ],
                "position": [
                  0,
                  0
                ]
              },
              {
                "id": 294,
                "properties": {
                  "start": "2024-04-13T06:44:33.000000",
                  "end": "2024-04-13T09:48:35.000000",
                  "type": "Shipped",
                  "label": "Event"
                },
                "color": "#2196F3",
                "styles": {
                  "image": "https://em-content.zobj.net/source/apple/391/radio-button_1f518.png"
                },
                "label": "",
                "scale_factor": 1,
                "type": "#2196F3",
                "size": [
                  55,
                  55
                ],
                "position": [
                  0,
                  0
                ]
              },
              {
                "id": 293,
                "properties": {
                  "start": "2024-04-13T03:38:31.000000",
                  "end": "2024-04-13T06:09:58.000000",
                  "type": "Shipped",
                  "label": "Event"
                },
                "color": "#2196F3",
                "styles": {
                  "image": "https://em-content.zobj.net/source/apple/391/radio-button_1f518.png"
                },
                "label": "",
                "scale_factor": 1,
                "type": "#2196F3",
                "size": [
                  55,
                  55
                ],
                "position": [
                  0,
                  0
                ]
              },
              {
                "id": 286,
                "properties": {
                  "start": "2024-04-12T06:56:53.000000",
                  "end": "2024-04-12T09:39:12.000000",
                  "type": "Produced",
                  "label": "Event"
                },
                "color": "#2196F3",
                "styles": {
                  "image": "https://em-content.zobj.net/source/apple/391/radio-button_1f518.png"
                },
                "label": "",
                "scale_factor": 1,
                "type": "#2196F3",
                "size": [
                  55,
                  55
                ],
                "position": [
                  0,
                  0
                ]
              },
              {
                "id": 297,
                "properties": {
                  "start": "2024-04-13T15:38:12.000000",
                  "end": "2024-04-13T18:44:06.000000",
                  "type": "Delivered",
                  "label": "Event"
                },
                "color": "#2196F3",
                "styles": {
                  "image": "https://em-content.zobj.net/source/apple/391/radio-button_1f518.png"
                },
                "label": "",
                "scale_factor": 1,
                "type": "#2196F3",
                "size": [
                  55,
                  55
                ],
                "position": [
                  0,
                  0
                ]
              },
              {
                "id": 151,
                "properties": {
                  "start": "2024-04-08T15:38:05.000000",
                  "end": "2024-04-08T18:36:41.000000",
                  "type": "Shipped",
                  "label": "Event"
                },
                "color": "#2196F3",
                "styles": {
                  "image": "https://em-content.zobj.net/source/apple/391/radio-button_1f518.png"
                },
                "label": "",
                "scale_factor": 1,
                "type": "#2196F3",
                "size": [
                  55,
                  55
                ],
                "position": [
                  0,
                  0
                ]
              },
              {
                "id": 152,
                "properties": {
                  "start": "2024-04-08T18:18:31.000000",
                  "end": "2024-04-08T21:57:33.000000",
                  "type": "Shipped",
                  "label": "Event"
                },
                "color": "#2196F3",
                "styles": {
                  "image": "https://em-content.zobj.net/source/apple/391/radio-button_1f518.png"
                },
                "label": "",
                "scale_factor": 1,
                "type": "#2196F3",
                "size": [
                  55,
                  55
                ],
                "position": [
                  0,
                  0
                ]
              },
              {
                "id": 24,
                "properties": {
                  "date": "2024-04-08",
                  "quantity": 30,
                  "id": "ORD010",
                  "label": "Order"
                },
                "color": "#673AB7",
                "styles": {
                  "image": "https://em-content.zobj.net/source/apple/391/basket_1f9fa.png"
                },
                "label": "ORD010",
                "scale_factor": 1,
                "type": "#673AB7",
                "size": [
                  55,
                  55
                ],
                "position": [
                  0,
                  0
                ]
              },
              {
                "id": 153,
                "properties": {
                  "start": "2024-04-08T21:45:02.000000",
                  "end": "2024-04-09T00:36:02.000000",
                  "type": "Delivered",
                  "label": "Event"
                },
                "color": "#2196F3",
                "styles": {
                  "image": "https://em-content.zobj.net/source/apple/391/radio-button_1f518.png"
                },
                "label": "",
                "scale_factor": 1,
                "type": "#2196F3",
                "size": [
                  55,
                  55
                ],
                "position": [
                  0,
                  0
                ]
              },
              {
                "id": 148,
                "properties": {
                  "start": "2024-04-08T06:47:41.000000",
                  "end": "2024-04-08T09:34:17.000000",
                  "type": "Produced",
                  "label": "Event"
                },
                "color": "#2196F3",
                "styles": {
                  "image": "https://em-content.zobj.net/source/apple/391/radio-button_1f518.png"
                },
                "label": "",
                "scale_factor": 1,
                "type": "#2196F3",
                "size": [
                  55,
                  55
                ],
                "position": [
                  0,
                  0
                ]
              },
              {
                "id": 149,
                "properties": {
                  "start": "2024-04-08T09:38:48.000000",
                  "end": "2024-04-08T12:52:43.000000",
                  "type": "Shipped",
                  "label": "Event"
                },
                "color": "#2196F3",
                "styles": {
                  "image": "https://em-content.zobj.net/source/apple/391/radio-button_1f518.png"
                },
                "label": "",
                "scale_factor": 1,
                "type": "#2196F3",
                "size": [
                  55,
                  55
                ],
                "position": [
                  0,
                  0
                ]
              },
              {
                "id": 150,
                "properties": {
                  "start": "2024-04-08T12:11:34.000000",
                  "end": "2024-04-08T15:43:53.000000",
                  "type": "Shipped",
                  "label": "Event"
                },
                "color": "#2196F3",
                "styles": {
                  "image": "https://em-content.zobj.net/source/apple/391/radio-button_1f518.png"
                },
                "label": "",
                "scale_factor": 1,
                "type": "#2196F3",
                "size": [
                  55,
                  55
                ],
                "position": [
                  0,
                  0
                ]
              },
              {
                "id": 206,
                "properties": {
                  "start": "2024-04-15T18:27:11.000000",
                  "end": "2024-04-15T21:15:34.000000",
                  "type": "Shipped",
                  "label": "Event"
                },
                "color": "#2196F3",
                "styles": {
                  "image": "https://em-content.zobj.net/source/apple/391/radio-button_1f518.png"
                },
                "label": "",
                "scale_factor": 1,
                "type": "#2196F3",
                "size": [
                  55,
                  55
                ],
                "position": [
                  0,
                  0
                ]
              },
              {
                "id": 207,
                "properties": {
                  "start": "2024-04-15T21:16:45.000000",
                  "end": "2024-04-16T00:31:17.000000",
                  "type": "Shipped",
                  "label": "Event"
                },
                "color": "#2196F3",
                "styles": {
                  "image": "https://em-content.zobj.net/source/apple/391/radio-button_1f518.png"
                },
                "label": "",
                "scale_factor": 1,
                "type": "#2196F3",
                "size": [
                  55,
                  55
                ],
                "position": [
                  0,
                  0
                ]
              },
              {
                "id": 25,
                "properties": {
                  "date": "2024-04-15",
                  "quantity": 25,
                  "id": "ORD011",
                  "label": "Order"
                },
                "color": "#673AB7",
                "styles": {
                  "image": "https://em-content.zobj.net/source/apple/391/basket_1f9fa.png"
                },
                "label": "ORD011",
                "scale_factor": 1,
                "type": "#673AB7",
                "size": [
                  55,
                  55
                ],
                "position": [
                  0,
                  0
                ]
              },
              {
                "id": 214,
                "properties": {
                  "start": "2024-04-16T18:53:37.000000",
                  "end": "2024-04-16T21:01:53.000000",
                  "type": "Shipped",
                  "label": "Event"
                },
                "color": "#2196F3",
                "styles": {
                  "image": "https://em-content.zobj.net/source/apple/391/radio-button_1f518.png"
                },
                "label": "",
                "scale_factor": 1,
                "type": "#2196F3",
                "size": [
                  55,
                  55
                ],
                "position": [
                  0,
                  0
                ]
              },
              {
                "id": 215,
                "properties": {
                  "start": "2024-04-16T21:19:14.000000",
                  "end": "2024-04-17T00:29:23.000000",
                  "type": "Delivered",
                  "label": "Event"
                },
                "color": "#2196F3",
                "styles": {
                  "image": "https://em-content.zobj.net/source/apple/391/radio-button_1f518.png"
                },
                "label": "",
                "scale_factor": 1,
                "type": "#2196F3",
                "size": [
                  55,
                  55
                ],
                "position": [
                  0,
                  0
                ]
              },
              {
                "id": 202,
                "properties": {
                  "start": "2024-04-15T06:36:32.000000",
                  "end": "2024-04-15T09:40:41.000000",
                  "type": "Produced",
                  "label": "Event"
                },
                "color": "#2196F3",
                "styles": {
                  "image": "https://em-content.zobj.net/source/apple/391/radio-button_1f518.png"
                },
                "label": "",
                "scale_factor": 1,
                "type": "#2196F3",
                "size": [
                  55,
                  55
                ],
                "position": [
                  0,
                  0
                ]
              },
              {
                "id": 203,
                "properties": {
                  "start": "2024-04-15T09:29:21.000000",
                  "end": "2024-04-15T12:35:04.000000",
                  "type": "Shipped",
                  "label": "Event"
                },
                "color": "#2196F3",
                "styles": {
                  "image": "https://em-content.zobj.net/source/apple/391/radio-button_1f518.png"
                },
                "label": "",
                "scale_factor": 1,
                "type": "#2196F3",
                "size": [
                  55,
                  55
                ],
                "position": [
                  0,
                  0
                ]
              },
              {
                "id": 211,
                "properties": {
                  "start": "2024-04-16T09:45:38.000000",
                  "end": "2024-04-16T12:09:16.000000",
                  "type": "Shipped",
                  "label": "Event"
                },
                "color": "#2196F3",
                "styles": {
                  "image": "https://em-content.zobj.net/source/apple/391/radio-button_1f518.png"
                },
                "label": "",
                "scale_factor": 1,
                "type": "#2196F3",
                "size": [
                  55,
                  55
                ],
                "position": [
                  0,
                  0
                ]
              },
              {
                "id": 212,
                "properties": {
                  "start": "2024-04-16T12:04:09.000000",
                  "end": "2024-04-16T15:49:24.000000",
                  "type": "Shipped",
                  "label": "Event"
                },
                "color": "#2196F3",
                "styles": {
                  "image": "https://em-content.zobj.net/source/apple/391/radio-button_1f518.png"
                },
                "label": "",
                "scale_factor": 1,
                "type": "#2196F3",
                "size": [
                  55,
                  55
                ],
                "position": [
                  0,
                  0
                ]
              },
              {
                "id": 213,
                "properties": {
                  "start": "2024-04-16T15:41:18.000000",
                  "end": "2024-04-16T18:43:57.000000",
                  "type": "Shipped",
                  "label": "Event"
                },
                "color": "#2196F3",
                "styles": {
                  "image": "https://em-content.zobj.net/source/apple/391/radio-button_1f518.png"
                },
                "label": "",
                "scale_factor": 1,
                "type": "#2196F3",
                "size": [
                  55,
                  55
                ],
                "position": [
                  0,
                  0
                ]
              },
              {
                "id": 208,
                "properties": {
                  "start": "2024-04-16T00:17:07.000000",
                  "end": "2024-04-16T03:21:21.000000",
                  "type": "Shipped",
                  "label": "Event"
                },
                "color": "#2196F3",
                "styles": {
                  "image": "https://em-content.zobj.net/source/apple/391/radio-button_1f518.png"
                },
                "label": "",
                "scale_factor": 1,
                "type": "#2196F3",
                "size": [
                  55,
                  55
                ],
                "position": [
                  0,
                  0
                ]
              },
              {
                "id": 210,
                "properties": {
                  "start": "2024-04-16T06:13:25.000000",
                  "end": "2024-04-16T09:55:10.000000",
                  "type": "Shipped",
                  "label": "Event"
                },
                "color": "#2196F3",
                "styles": {
                  "image": "https://em-content.zobj.net/source/apple/391/radio-button_1f518.png"
                },
                "label": "",
                "scale_factor": 1,
                "type": "#2196F3",
                "size": [
                  55,
                  55
                ],
                "position": [
                  0,
                  0
                ]
              },
              {
                "id": 209,
                "properties": {
                  "start": "2024-04-16T03:25:09.000000",
                  "end": "2024-04-16T06:43:26.000000",
                  "type": "Shipped",
                  "label": "Event"
                },
                "color": "#2196F3",
                "styles": {
                  "image": "https://em-content.zobj.net/source/apple/391/radio-button_1f518.png"
                },
                "label": "",
                "scale_factor": 1,
                "type": "#2196F3",
                "size": [
                  55,
                  55
                ],
                "position": [
                  0,
                  0
                ]
              },
              {
                "id": 204,
                "properties": {
                  "start": "2024-04-15T12:32:59.000000",
                  "end": "2024-04-15T15:29:15.000000",
                  "type": "Shipped",
                  "label": "Event"
                },
                "color": "#2196F3",
                "styles": {
                  "image": "https://em-content.zobj.net/source/apple/391/radio-button_1f518.png"
                },
                "label": "",
                "scale_factor": 1,
                "type": "#2196F3",
                "size": [
                  55,
                  55
                ],
                "position": [
                  0,
                  0
                ]
              },
              {
                "id": 205,
                "properties": {
                  "start": "2024-04-15T15:35:07.000000",
                  "end": "2024-04-15T18:05:38.000000",
                  "type": "Shipped",
                  "label": "Event"
                },
                "color": "#2196F3",
                "styles": {
                  "image": "https://em-content.zobj.net/source/apple/391/radio-button_1f518.png"
                },
                "label": "",
                "scale_factor": 1,
                "type": "#2196F3",
                "size": [
                  55,
                  55
                ],
                "position": [
                  0,
                  0
                ]
              },
              {
                "id": 225,
                "properties": {
                  "start": "2024-04-13T09:53:36.000000",
                  "end": "2024-04-13T12:51:41.000000",
                  "type": "Shipped",
                  "label": "Event"
                },
                "color": "#2196F3",
                "styles": {
                  "image": "https://em-content.zobj.net/source/apple/391/radio-button_1f518.png"
                },
                "label": "",
                "scale_factor": 1,
                "type": "#2196F3",
                "size": [
                  55,
                  55
                ],
                "position": [
                  0,
                  0
                ]
              },
              {
                "id": 226,
                "properties": {
                  "start": "2024-04-13T12:59:11.000000",
                  "end": "2024-04-13T15:58:53.000000",
                  "type": "Delivered",
                  "label": "Event"
                },
                "color": "#2196F3",
                "styles": {
                  "image": "https://em-content.zobj.net/source/apple/391/radio-button_1f518.png"
                },
                "label": "",
                "scale_factor": 1,
                "type": "#2196F3",
                "size": [
                  55,
                  55
                ],
                "position": [
                  0,
                  0
                ]
              },
              {
                "id": 26,
                "properties": {
                  "date": "2024-04-13",
                  "quantity": 50,
                  "id": "ORD012",
                  "label": "Order"
                },
                "color": "#673AB7",
                "styles": {
                  "image": "https://em-content.zobj.net/source/apple/391/basket_1f9fa.png"
                },
                "label": "ORD012",
                "scale_factor": 1,
                "type": "#673AB7",
                "size": [
                  55,
                  55
                ],
                "position": [
                  0,
                  0
                ]
              },
              {
                "id": 224,
                "properties": {
                  "start": "2024-04-13T06:52:31.000000",
                  "end": "2024-04-13T09:39:18.000000",
                  "type": "Produced",
                  "label": "Event"
                },
                "color": "#2196F3",
                "styles": {
                  "image": "https://em-content.zobj.net/source/apple/391/radio-button_1f518.png"
                },
                "label": "",
                "scale_factor": 1,
                "type": "#2196F3",
                "size": [
                  55,
                  55
                ],
                "position": [
                  0,
                  0
                ]
              },
              {
                "id": 81,
                "properties": {
                  "start": "2024-04-17T09:14:33.000000",
                  "end": "2024-04-17T12:19:34.000000",
                  "type": "Shipped",
                  "label": "Event"
                },
                "color": "#2196F3",
                "styles": {
                  "image": "https://em-content.zobj.net/source/apple/391/radio-button_1f518.png"
                },
                "label": "",
                "scale_factor": 1,
                "type": "#2196F3",
                "size": [
                  55,
                  55
                ],
                "position": [
                  0,
                  0
                ]
              },
              {
                "id": 82,
                "properties": {
                  "start": "2024-04-17T12:55:33.000000",
                  "end": "2024-04-17T15:51:42.000000",
                  "type": "Shipped",
                  "label": "Event"
                },
                "color": "#2196F3",
                "styles": {
                  "image": "https://em-content.zobj.net/source/apple/391/radio-button_1f518.png"
                },
                "label": "",
                "scale_factor": 1,
                "type": "#2196F3",
                "size": [
                  55,
                  55
                ],
                "position": [
                  0,
                  0
                ]
              },
              {
                "id": 27,
                "properties": {
                  "date": "2024-04-16",
                  "quantity": 65,
                  "id": "ORD013",
                  "label": "Order"
                },
                "color": "#673AB7",
                "styles": {
                  "image": "https://em-content.zobj.net/source/apple/391/basket_1f9fa.png"
                },
                "label": "ORD013",
                "scale_factor": 1,
                "type": "#673AB7",
                "size": [
                  55,
                  55
                ],
                "position": [
                  0,
                  0
                ]
              },
              {
                "id": 74,
                "properties": {
                  "start": "2024-04-16T12:50:08.000000",
                  "end": "2024-04-16T15:40:14.000000",
                  "type": "Shipped",
                  "label": "Event"
                },
                "color": "#2196F3",
                "styles": {
                  "image": "https://em-content.zobj.net/source/apple/391/radio-button_1f518.png"
                },
                "label": "",
                "scale_factor": 1,
                "type": "#2196F3",
                "size": [
                  55,
                  55
                ],
                "position": [
                  0,
                  0
                ]
              },
              {
                "id": 75,
                "properties": {
                  "start": "2024-04-16T15:09:40.000000",
                  "end": "2024-04-16T18:01:53.000000",
                  "type": "Shipped",
                  "label": "Event"
                },
                "color": "#2196F3",
                "styles": {
                  "image": "https://em-content.zobj.net/source/apple/391/radio-button_1f518.png"
                },
                "label": "",
                "scale_factor": 1,
                "type": "#2196F3",
                "size": [
                  55,
                  55
                ],
                "position": [
                  0,
                  0
                ]
              },
              {
                "id": 78,
                "properties": {
                  "start": "2024-04-17T00:50:03.000000",
                  "end": "2024-04-17T03:36:00.000000",
                  "type": "Shipped",
                  "label": "Event"
                },
                "color": "#2196F3",
                "styles": {
                  "image": "https://em-content.zobj.net/source/apple/391/radio-button_1f518.png"
                },
                "label": "",
                "scale_factor": 1,
                "type": "#2196F3",
                "size": [
                  55,
                  55
                ],
                "position": [
                  0,
                  0
                ]
              },
              {
                "id": 79,
                "properties": {
                  "start": "2024-04-17T03:17:57.000000",
                  "end": "2024-04-17T06:21:00.000000",
                  "type": "Shipped",
                  "label": "Event"
                },
                "color": "#2196F3",
                "styles": {
                  "image": "https://em-content.zobj.net/source/apple/391/radio-button_1f518.png"
                },
                "label": "",
                "scale_factor": 1,
                "type": "#2196F3",
                "size": [
                  55,
                  55
                ],
                "position": [
                  0,
                  0
                ]
              },
              {
                "id": 72,
                "properties": {
                  "start": "2024-04-16T06:47:50.000000",
                  "end": "2024-04-16T09:27:05.000000",
                  "type": "Produced",
                  "label": "Event"
                },
                "color": "#2196F3",
                "styles": {
                  "image": "https://em-content.zobj.net/source/apple/391/radio-button_1f518.png"
                },
                "label": "",
                "scale_factor": 1,
                "type": "#2196F3",
                "size": [
                  55,
                  55
                ],
                "position": [
                  0,
                  0
                ]
              },
              {
                "id": 73,
                "properties": {
                  "start": "2024-04-16T09:00:41.000000",
                  "end": "2024-04-16T12:21:06.000000",
                  "type": "Shipped",
                  "label": "Event"
                },
                "color": "#2196F3",
                "styles": {
                  "image": "https://em-content.zobj.net/source/apple/391/radio-button_1f518.png"
                },
                "label": "",
                "scale_factor": 1,
                "type": "#2196F3",
                "size": [
                  55,
                  55
                ],
                "position": [
                  0,
                  0
                ]
              },
              {
                "id": 77,
                "properties": {
                  "start": "2024-04-16T21:02:53.000000",
                  "end": "2024-04-17T00:01:54.000000",
                  "type": "Shipped",
                  "label": "Event"
                },
                "color": "#2196F3",
                "styles": {
                  "image": "https://em-content.zobj.net/source/apple/391/radio-button_1f518.png"
                },
                "label": "",
                "scale_factor": 1,
                "type": "#2196F3",
                "size": [
                  55,
                  55
                ],
                "position": [
                  0,
                  0
                ]
              },
              {
                "id": 80,
                "properties": {
                  "start": "2024-04-17T06:17:05.000000",
                  "end": "2024-04-17T09:59:49.000000",
                  "type": "Shipped",
                  "label": "Event"
                },
                "color": "#2196F3",
                "styles": {
                  "image": "https://em-content.zobj.net/source/apple/391/radio-button_1f518.png"
                },
                "label": "",
                "scale_factor": 1,
                "type": "#2196F3",
                "size": [
                  55,
                  55
                ],
                "position": [
                  0,
                  0
                ]
              },
              {
                "id": 83,
                "properties": {
                  "start": "2024-04-17T15:39:41.000000",
                  "end": "2024-04-17T18:27:20.000000",
                  "type": "Delivered",
                  "label": "Event"
                },
                "color": "#2196F3",
                "styles": {
                  "image": "https://em-content.zobj.net/source/apple/391/radio-button_1f518.png"
                },
                "label": "",
                "scale_factor": 1,
                "type": "#2196F3",
                "size": [
                  55,
                  55
                ],
                "position": [
                  0,
                  0
                ]
              },
              {
                "id": 76,
                "properties": {
                  "start": "2024-04-16T18:19:58.000000",
                  "end": "2024-04-16T21:15:10.000000",
                  "type": "Shipped",
                  "label": "Event"
                },
                "color": "#2196F3",
                "styles": {
                  "image": "https://em-content.zobj.net/source/apple/391/radio-button_1f518.png"
                },
                "label": "",
                "scale_factor": 1,
                "type": "#2196F3",
                "size": [
                  55,
                  55
                ],
                "position": [
                  0,
                  0
                ]
              },
              {
                "id": 197,
                "properties": {
                  "start": "2024-04-18T18:16:51.000000",
                  "end": "2024-04-18T21:26:43.000000",
                  "type": "Shipped",
                  "label": "Event"
                },
                "color": "#2196F3",
                "styles": {
                  "image": "https://em-content.zobj.net/source/apple/391/radio-button_1f518.png"
                },
                "label": "",
                "scale_factor": 1,
                "type": "#2196F3",
                "size": [
                  55,
                  55
                ],
                "position": [
                  0,
                  0
                ]
              },
              {
                "id": 198,
                "properties": {
                  "start": "2024-04-18T21:55:07.000000",
                  "end": "2024-04-19T00:26:34.000000",
                  "type": "Shipped",
                  "label": "Event"
                },
                "color": "#2196F3",
                "styles": {
                  "image": "https://em-content.zobj.net/source/apple/391/radio-button_1f518.png"
                },
                "label": "",
                "scale_factor": 1,
                "type": "#2196F3",
                "size": [
                  55,
                  55
                ],
                "position": [
                  0,
                  0
                ]
              },
              {
                "id": 28,
                "properties": {
                  "date": "2024-04-18",
                  "quantity": 70,
                  "id": "ORD014",
                  "label": "Order"
                },
                "color": "#673AB7",
                "styles": {
                  "image": "https://em-content.zobj.net/source/apple/391/basket_1f9fa.png"
                },
                "label": "ORD014",
                "scale_factor": 1,
                "type": "#673AB7",
                "size": [
                  55,
                  55
                ],
                "position": [
                  0,
                  0
                ]
              },
              {
                "id": 200,
                "properties": {
                  "start": "2024-04-19T03:34:47.000000",
                  "end": "2024-04-19T06:28:34.000000",
                  "type": "Shipped",
                  "label": "Event"
                },
                "color": "#2196F3",
                "styles": {
                  "image": "https://em-content.zobj.net/source/apple/391/radio-button_1f518.png"
                },
                "label": "",
                "scale_factor": 1,
                "type": "#2196F3",
                "size": [
                  55,
                  55
                ],
                "position": [
                  0,
                  0
                ]
              },
              {
                "id": 201,
                "properties": {
                  "start": "2024-04-19T06:28:46.000000",
                  "end": "2024-04-19T09:52:09.000000",
                  "type": "Delivered",
                  "label": "Event"
                },
                "color": "#2196F3",
                "styles": {
                  "image": "https://em-content.zobj.net/source/apple/391/radio-button_1f518.png"
                },
                "label": "",
                "scale_factor": 1,
                "type": "#2196F3",
                "size": [
                  55,
                  55
                ],
                "position": [
                  0,
                  0
                ]
              },
              {
                "id": 199,
                "properties": {
                  "start": "2024-04-19T00:04:47.000000",
                  "end": "2024-04-19T03:32:43.000000",
                  "type": "Shipped",
                  "label": "Event"
                },
                "color": "#2196F3",
                "styles": {
                  "image": "https://em-content.zobj.net/source/apple/391/radio-button_1f518.png"
                },
                "label": "",
                "scale_factor": 1,
                "type": "#2196F3",
                "size": [
                  55,
                  55
                ],
                "position": [
                  0,
                  0
                ]
              },
              {
                "id": 193,
                "properties": {
                  "start": "2024-04-18T06:17:04.000000",
                  "end": "2024-04-18T09:45:54.000000",
                  "type": "Produced",
                  "label": "Event"
                },
                "color": "#2196F3",
                "styles": {
                  "image": "https://em-content.zobj.net/source/apple/391/radio-button_1f518.png"
                },
                "label": "",
                "scale_factor": 1,
                "type": "#2196F3",
                "size": [
                  55,
                  55
                ],
                "position": [
                  0,
                  0
                ]
              },
              {
                "id": 194,
                "properties": {
                  "start": "2024-04-18T09:32:07.000000",
                  "end": "2024-04-18T12:29:00.000000",
                  "type": "Shipped",
                  "label": "Event"
                },
                "color": "#2196F3",
                "styles": {
                  "image": "https://em-content.zobj.net/source/apple/391/radio-button_1f518.png"
                },
                "label": "",
                "scale_factor": 1,
                "type": "#2196F3",
                "size": [
                  55,
                  55
                ],
                "position": [
                  0,
                  0
                ]
              },
              {
                "id": 195,
                "properties": {
                  "start": "2024-04-18T12:47:21.000000",
                  "end": "2024-04-18T15:41:07.000000",
                  "type": "Shipped",
                  "label": "Event"
                },
                "color": "#2196F3",
                "styles": {
                  "image": "https://em-content.zobj.net/source/apple/391/radio-button_1f518.png"
                },
                "label": "",
                "scale_factor": 1,
                "type": "#2196F3",
                "size": [
                  55,
                  55
                ],
                "position": [
                  0,
                  0
                ]
              },
              {
                "id": 196,
                "properties": {
                  "start": "2024-04-18T15:07:59.000000",
                  "end": "2024-04-18T18:45:17.000000",
                  "type": "Shipped",
                  "label": "Event"
                },
                "color": "#2196F3",
                "styles": {
                  "image": "https://em-content.zobj.net/source/apple/391/radio-button_1f518.png"
                },
                "label": "",
                "scale_factor": 1,
                "type": "#2196F3",
                "size": [
                  55,
                  55
                ],
                "position": [
                  0,
                  0
                ]
              },
              {
                "id": 264,
                "properties": {
                  "start": "2024-04-17T06:58:43.000000",
                  "end": "2024-04-17T09:07:19.000000",
                  "type": "Produced",
                  "label": "Event"
                },
                "color": "#2196F3",
                "styles": {
                  "image": "https://em-content.zobj.net/source/apple/391/radio-button_1f518.png"
                },
                "label": "",
                "scale_factor": 1,
                "type": "#2196F3",
                "size": [
                  55,
                  55
                ],
                "position": [
                  0,
                  0
                ]
              },
              {
                "id": 265,
                "properties": {
                  "start": "2024-04-17T09:51:19.000000",
                  "end": "2024-04-17T12:46:40.000000",
                  "type": "Shipped",
                  "label": "Event"
                },
                "color": "#2196F3",
                "styles": {
                  "image": "https://em-content.zobj.net/source/apple/391/radio-button_1f518.png"
                },
                "label": "",
                "scale_factor": 1,
                "type": "#2196F3",
                "size": [
                  55,
                  55
                ],
                "position": [
                  0,
                  0
                ]
              },
              {
                "id": 29,
                "properties": {
                  "date": "2024-04-17",
                  "quantity": 40,
                  "id": "ORD015",
                  "label": "Order"
                },
                "color": "#673AB7",
                "styles": {
                  "image": "https://em-content.zobj.net/source/apple/391/basket_1f9fa.png"
                },
                "label": "ORD015",
                "scale_factor": 1,
                "type": "#673AB7",
                "size": [
                  55,
                  55
                ],
                "position": [
                  0,
                  0
                ]
              },
              {
                "id": 274,
                "properties": {
                  "start": "2024-04-18T12:14:42.000000",
                  "end": "2024-04-18T15:59:42.000000",
                  "type": "Shipped",
                  "label": "Event"
                },
                "color": "#2196F3",
                "styles": {
                  "image": "https://em-content.zobj.net/source/apple/391/radio-button_1f518.png"
                },
                "label": "",
                "scale_factor": 1,
                "type": "#2196F3",
                "size": [
                  55,
                  55
                ],
                "position": [
                  0,
                  0
                ]
              },
              {
                "id": 275,
                "properties": {
                  "start": "2024-04-18T15:08:01.000000",
                  "end": "2024-04-18T18:16:51.000000",
                  "type": "Shipped",
                  "label": "Event"
                },
                "color": "#2196F3",
                "styles": {
                  "image": "https://em-content.zobj.net/source/apple/391/radio-button_1f518.png"
                },
                "label": "",
                "scale_factor": 1,
                "type": "#2196F3",
                "size": [
                  55,
                  55
                ],
                "position": [
                  0,
                  0
                ]
              },
              {
                "id": 266,
                "properties": {
                  "start": "2024-04-17T12:47:37.000000",
                  "end": "2024-04-17T15:48:33.000000",
                  "type": "Shipped",
                  "label": "Event"
                },
                "color": "#2196F3",
                "styles": {
                  "image": "https://em-content.zobj.net/source/apple/391/radio-button_1f518.png"
                },
                "label": "",
                "scale_factor": 1,
                "type": "#2196F3",
                "size": [
                  55,
                  55
                ],
                "position": [
                  0,
                  0
                ]
              },
              {
                "id": 270,
                "properties": {
                  "start": "2024-04-18T00:32:15.000000",
                  "end": "2024-04-18T03:17:55.000000",
                  "type": "Shipped",
                  "label": "Event"
                },
                "color": "#2196F3",
                "styles": {
                  "image": "https://em-content.zobj.net/source/apple/391/radio-button_1f518.png"
                },
                "label": "",
                "scale_factor": 1,
                "type": "#2196F3",
                "size": [
                  55,
                  55
                ],
                "position": [
                  0,
                  0
                ]
              },
              {
                "id": 271,
                "properties": {
                  "start": "2024-04-18T03:13:50.000000",
                  "end": "2024-04-18T06:06:39.000000",
                  "type": "Shipped",
                  "label": "Event"
                },
                "color": "#2196F3",
                "styles": {
                  "image": "https://em-content.zobj.net/source/apple/391/radio-button_1f518.png"
                },
                "label": "",
                "scale_factor": 1,
                "type": "#2196F3",
                "size": [
                  55,
                  55
                ],
                "position": [
                  0,
                  0
                ]
              },
              {
                "id": 267,
                "properties": {
                  "start": "2024-04-17T15:51:45.000000",
                  "end": "2024-04-17T18:25:29.000000",
                  "type": "Shipped",
                  "label": "Event"
                },
                "color": "#2196F3",
                "styles": {
                  "image": "https://em-content.zobj.net/source/apple/391/radio-button_1f518.png"
                },
                "label": "",
                "scale_factor": 1,
                "type": "#2196F3",
                "size": [
                  55,
                  55
                ],
                "position": [
                  0,
                  0
                ]
              },
              {
                "id": 268,
                "properties": {
                  "start": "2024-04-17T18:25:03.000000",
                  "end": "2024-04-17T21:54:30.000000",
                  "type": "Shipped",
                  "label": "Event"
                },
                "color": "#2196F3",
                "styles": {
                  "image": "https://em-content.zobj.net/source/apple/391/radio-button_1f518.png"
                },
                "label": "",
                "scale_factor": 1,
                "type": "#2196F3",
                "size": [
                  55,
                  55
                ],
                "position": [
                  0,
                  0
                ]
              },
              {
                "id": 272,
                "properties": {
                  "start": "2024-04-18T06:42:38.000000",
                  "end": "2024-04-18T09:04:01.000000",
                  "type": "Shipped",
                  "label": "Event"
                },
                "color": "#2196F3",
                "styles": {
                  "image": "https://em-content.zobj.net/source/apple/391/radio-button_1f518.png"
                },
                "label": "",
                "scale_factor": 1,
                "type": "#2196F3",
                "size": [
                  55,
                  55
                ],
                "position": [
                  0,
                  0
                ]
              },
              {
                "id": 273,
                "properties": {
                  "start": "2024-04-18T09:15:13.000000",
                  "end": "2024-04-18T12:50:30.000000",
                  "type": "Shipped",
                  "label": "Event"
                },
                "color": "#2196F3",
                "styles": {
                  "image": "https://em-content.zobj.net/source/apple/391/radio-button_1f518.png"
                },
                "label": "",
                "scale_factor": 1,
                "type": "#2196F3",
                "size": [
                  55,
                  55
                ],
                "position": [
                  0,
                  0
                ]
              },
              {
                "id": 269,
                "properties": {
                  "start": "2024-04-17T21:00:23.000000",
                  "end": "2024-04-18T00:07:29.000000",
                  "type": "Shipped",
                  "label": "Event"
                },
                "color": "#2196F3",
                "styles": {
                  "image": "https://em-content.zobj.net/source/apple/391/radio-button_1f518.png"
                },
                "label": "",
                "scale_factor": 1,
                "type": "#2196F3",
                "size": [
                  55,
                  55
                ],
                "position": [
                  0,
                  0
                ]
              },
              {
                "id": 276,
                "properties": {
                  "start": "2024-04-18T18:12:53.000000",
                  "end": "2024-04-18T21:34:40.000000",
                  "type": "Delivered",
                  "label": "Event"
                },
                "color": "#2196F3",
                "styles": {
                  "image": "https://em-content.zobj.net/source/apple/391/radio-button_1f518.png"
                },
                "label": "",
                "scale_factor": 1,
                "type": "#2196F3",
                "size": [
                  55,
                  55
                ],
                "position": [
                  0,
                  0
                ]
              },
              {
                "id": 109,
                "properties": {
                  "start": "2024-04-21T12:07:26.000000",
                  "end": "2024-04-21T15:09:24.000000",
                  "type": "Shipped",
                  "label": "Event"
                },
                "color": "#2196F3",
                "styles": {
                  "image": "https://em-content.zobj.net/source/apple/391/radio-button_1f518.png"
                },
                "label": "",
                "scale_factor": 1,
                "type": "#2196F3",
                "size": [
                  55,
                  55
                ],
                "position": [
                  0,
                  0
                ]
              },
              {
                "id": 110,
                "properties": {
                  "start": "2024-04-21T15:48:33.000000",
                  "end": "2024-04-21T18:23:34.000000",
                  "type": "Shipped",
                  "label": "Event"
                },
                "color": "#2196F3",
                "styles": {
                  "image": "https://em-content.zobj.net/source/apple/391/radio-button_1f518.png"
                },
                "label": "",
                "scale_factor": 1,
                "type": "#2196F3",
                "size": [
                  55,
                  55
                ],
                "position": [
                  0,
                  0
                ]
              },
              {
                "id": 30,
                "properties": {
                  "date": "2024-04-21",
                  "quantity": 55,
                  "id": "ORD016",
                  "label": "Order"
                },
                "color": "#673AB7",
                "styles": {
                  "image": "https://em-content.zobj.net/source/apple/391/basket_1f9fa.png"
                },
                "label": "ORD016",
                "scale_factor": 1,
                "type": "#673AB7",
                "size": [
                  55,
                  55
                ],
                "position": [
                  0,
                  0
                ]
              },
              {
                "id": 107,
                "properties": {
                  "start": "2024-04-21T06:57:15.000000",
                  "end": "2024-04-21T09:22:45.000000",
                  "type": "Produced",
                  "label": "Event"
                },
                "color": "#2196F3",
                "styles": {
                  "image": "https://em-content.zobj.net/source/apple/391/radio-button_1f518.png"
                },
                "label": "",
                "scale_factor": 1,
                "type": "#2196F3",
                "size": [
                  55,
                  55
                ],
                "position": [
                  0,
                  0
                ]
              },
              {
                "id": 108,
                "properties": {
                  "start": "2024-04-21T09:00:04.000000",
                  "end": "2024-04-21T12:01:45.000000",
                  "type": "Shipped",
                  "label": "Event"
                },
                "color": "#2196F3",
                "styles": {
                  "image": "https://em-content.zobj.net/source/apple/391/radio-button_1f518.png"
                },
                "label": "",
                "scale_factor": 1,
                "type": "#2196F3",
                "size": [
                  55,
                  55
                ],
                "position": [
                  0,
                  0
                ]
              },
              {
                "id": 111,
                "properties": {
                  "start": "2024-04-21T18:50:38.000000",
                  "end": "2024-04-21T21:32:12.000000",
                  "type": "Shipped",
                  "label": "Event"
                },
                "color": "#2196F3",
                "styles": {
                  "image": "https://em-content.zobj.net/source/apple/391/radio-button_1f518.png"
                },
                "label": "",
                "scale_factor": 1,
                "type": "#2196F3",
                "size": [
                  55,
                  55
                ],
                "position": [
                  0,
                  0
                ]
              },
              {
                "id": 112,
                "properties": {
                  "start": "2024-04-21T21:35:18.000000",
                  "end": "2024-04-22T00:26:38.000000",
                  "type": "Shipped",
                  "label": "Event"
                },
                "color": "#2196F3",
                "styles": {
                  "image": "https://em-content.zobj.net/source/apple/391/radio-button_1f518.png"
                },
                "label": "",
                "scale_factor": 1,
                "type": "#2196F3",
                "size": [
                  55,
                  55
                ],
                "position": [
                  0,
                  0
                ]
              },
              {
                "id": 113,
                "properties": {
                  "start": "2024-04-22T00:47:33.000000",
                  "end": "2024-04-22T03:23:50.000000",
                  "type": "Shipped",
                  "label": "Event"
                },
                "color": "#2196F3",
                "styles": {
                  "image": "https://em-content.zobj.net/source/apple/391/radio-button_1f518.png"
                },
                "label": "",
                "scale_factor": 1,
                "type": "#2196F3",
                "size": [
                  55,
                  55
                ],
                "position": [
                  0,
                  0
                ]
              },
              {
                "id": 114,
                "properties": {
                  "start": "2024-04-22T03:16:25.000000",
                  "end": "2024-04-22T06:09:25.000000",
                  "type": "Delivered",
                  "label": "Event"
                },
                "color": "#2196F3",
                "styles": {
                  "image": "https://em-content.zobj.net/source/apple/391/radio-button_1f518.png"
                },
                "label": "",
                "scale_factor": 1,
                "type": "#2196F3",
                "size": [
                  55,
                  55
                ],
                "position": [
                  0,
                  0
                ]
              },
              {
                "id": 175,
                "properties": {
                  "start": "2024-04-20T06:10:05.000000",
                  "end": "2024-04-20T09:46:58.000000",
                  "type": "Produced",
                  "label": "Event"
                },
                "color": "#2196F3",
                "styles": {
                  "image": "https://em-content.zobj.net/source/apple/391/radio-button_1f518.png"
                },
                "label": "",
                "scale_factor": 1,
                "type": "#2196F3",
                "size": [
                  55,
                  55
                ],
                "position": [
                  0,
                  0
                ]
              },
              {
                "id": 176,
                "properties": {
                  "start": "2024-04-20T09:35:20.000000",
                  "end": "2024-04-20T12:47:55.000000",
                  "type": "Shipped",
                  "label": "Event"
                },
                "color": "#2196F3",
                "styles": {
                  "image": "https://em-content.zobj.net/source/apple/391/radio-button_1f518.png"
                },
                "label": "",
                "scale_factor": 1,
                "type": "#2196F3",
                "size": [
                  55,
                  55
                ],
                "position": [
                  0,
                  0
                ]
              },
              {
                "id": 31,
                "properties": {
                  "date": "2024-04-20",
                  "quantity": 65,
                  "id": "ORD017",
                  "label": "Order"
                },
                "color": "#673AB7",
                "styles": {
                  "image": "https://em-content.zobj.net/source/apple/391/basket_1f9fa.png"
                },
                "label": "ORD017",
                "scale_factor": 1,
                "type": "#673AB7",
                "size": [
                  55,
                  55
                ],
                "position": [
                  0,
                  0
                ]
              },
              {
                "id": 177,
                "properties": {
                  "start": "2024-04-20T12:12:38.000000",
                  "end": "2024-04-20T15:29:32.000000",
                  "type": "Shipped",
                  "label": "Event"
                },
                "color": "#2196F3",
                "styles": {
                  "image": "https://em-content.zobj.net/source/apple/391/radio-button_1f518.png"
                },
                "label": "",
                "scale_factor": 1,
                "type": "#2196F3",
                "size": [
                  55,
                  55
                ],
                "position": [
                  0,
                  0
                ]
              },
              {
                "id": 178,
                "properties": {
                  "start": "2024-04-20T15:36:05.000000",
                  "end": "2024-04-20T18:11:40.000000",
                  "type": "Shipped",
                  "label": "Event"
                },
                "color": "#2196F3",
                "styles": {
                  "image": "https://em-content.zobj.net/source/apple/391/radio-button_1f518.png"
                },
                "label": "",
                "scale_factor": 1,
                "type": "#2196F3",
                "size": [
                  55,
                  55
                ],
                "position": [
                  0,
                  0
                ]
              },
              {
                "id": 179,
                "properties": {
                  "start": "2024-04-20T18:38:50.000000",
                  "end": "2024-04-20T21:14:28.000000",
                  "type": "Shipped",
                  "label": "Event"
                },
                "color": "#2196F3",
                "styles": {
                  "image": "https://em-content.zobj.net/source/apple/391/radio-button_1f518.png"
                },
                "label": "",
                "scale_factor": 1,
                "type": "#2196F3",
                "size": [
                  55,
                  55
                ],
                "position": [
                  0,
                  0
                ]
              },
              {
                "id": 180,
                "properties": {
                  "start": "2024-04-20T21:36:33.000000",
                  "end": "2024-04-21T00:11:00.000000",
                  "type": "Delivered",
                  "label": "Event"
                },
                "color": "#2196F3",
                "styles": {
                  "image": "https://em-content.zobj.net/source/apple/391/radio-button_1f518.png"
                },
                "label": "",
                "scale_factor": 1,
                "type": "#2196F3",
                "size": [
                  55,
                  55
                ],
                "position": [
                  0,
                  0
                ]
              },
              {
                "id": 233,
                "properties": {
                  "start": "2024-04-24T00:11:39.000000",
                  "end": "2024-04-24T03:16:18.000000",
                  "type": "Shipped",
                  "label": "Event"
                },
                "color": "#2196F3",
                "styles": {
                  "image": "https://em-content.zobj.net/source/apple/391/radio-button_1f518.png"
                },
                "label": "",
                "scale_factor": 1,
                "type": "#2196F3",
                "size": [
                  55,
                  55
                ],
                "position": [
                  0,
                  0
                ]
              },
              {
                "id": 234,
                "properties": {
                  "start": "2024-04-24T03:29:11.000000",
                  "end": "2024-04-24T06:06:35.000000",
                  "type": "Shipped",
                  "label": "Event"
                },
                "color": "#2196F3",
                "styles": {
                  "image": "https://em-content.zobj.net/source/apple/391/radio-button_1f518.png"
                },
                "label": "",
                "scale_factor": 1,
                "type": "#2196F3",
                "size": [
                  55,
                  55
                ],
                "position": [
                  0,
                  0
                ]
              },
              {
                "id": 32,
                "properties": {
                  "date": "2024-04-23",
                  "quantity": 55,
                  "id": "ORD018",
                  "label": "Order"
                },
                "color": "#673AB7",
                "styles": {
                  "image": "https://em-content.zobj.net/source/apple/391/basket_1f9fa.png"
                },
                "label": "ORD018",
                "scale_factor": 1,
                "type": "#673AB7",
                "size": [
                  55,
                  55
                ],
                "position": [
                  0,
                  0
                ]
              },
              {
                "id": 229,
                "properties": {
                  "start": "2024-04-23T12:58:55.000000",
                  "end": "2024-04-23T15:11:00.000000",
                  "type": "Shipped",
                  "label": "Event"
                },
                "color": "#2196F3",
                "styles": {
                  "image": "https://em-content.zobj.net/source/apple/391/radio-button_1f518.png"
                },
                "label": "",
                "scale_factor": 1,
                "type": "#2196F3",
                "size": [
                  55,
                  55
                ],
                "position": [
                  0,
                  0
                ]
              },
              {
                "id": 230,
                "properties": {
                  "start": "2024-04-23T15:49:29.000000",
                  "end": "2024-04-23T18:09:21.000000",
                  "type": "Shipped",
                  "label": "Event"
                },
                "color": "#2196F3",
                "styles": {
                  "image": "https://em-content.zobj.net/source/apple/391/radio-button_1f518.png"
                },
                "label": "",
                "scale_factor": 1,
                "type": "#2196F3",
                "size": [
                  55,
                  55
                ],
                "position": [
                  0,
                  0
                ]
              },
              {
                "id": 228,
                "properties": {
                  "start": "2024-04-23T09:51:26.000000",
                  "end": "2024-04-23T12:54:42.000000",
                  "type": "Shipped",
                  "label": "Event"
                },
                "color": "#2196F3",
                "styles": {
                  "image": "https://em-content.zobj.net/source/apple/391/radio-button_1f518.png"
                },
                "label": "",
                "scale_factor": 1,
                "type": "#2196F3",
                "size": [
                  55,
                  55
                ],
                "position": [
                  0,
                  0
                ]
              },
              {
                "id": 231,
                "properties": {
                  "start": "2024-04-23T18:02:13.000000",
                  "end": "2024-04-23T21:27:21.000000",
                  "type": "Shipped",
                  "label": "Event"
                },
                "color": "#2196F3",
                "styles": {
                  "image": "https://em-content.zobj.net/source/apple/391/radio-button_1f518.png"
                },
                "label": "",
                "scale_factor": 1,
                "type": "#2196F3",
                "size": [
                  55,
                  55
                ],
                "position": [
                  0,
                  0
                ]
              },
              {
                "id": 235,
                "properties": {
                  "start": "2024-04-24T06:30:09.000000",
                  "end": "2024-04-24T09:46:25.000000",
                  "type": "Shipped",
                  "label": "Event"
                },
                "color": "#2196F3",
                "styles": {
                  "image": "https://em-content.zobj.net/source/apple/391/radio-button_1f518.png"
                },
                "label": "",
                "scale_factor": 1,
                "type": "#2196F3",
                "size": [
                  55,
                  55
                ],
                "position": [
                  0,
                  0
                ]
              },
              {
                "id": 232,
                "properties": {
                  "start": "2024-04-23T21:14:14.000000",
                  "end": "2024-04-24T00:46:34.000000",
                  "type": "Shipped",
                  "label": "Event"
                },
                "color": "#2196F3",
                "styles": {
                  "image": "https://em-content.zobj.net/source/apple/391/radio-button_1f518.png"
                },
                "label": "",
                "scale_factor": 1,
                "type": "#2196F3",
                "size": [
                  55,
                  55
                ],
                "position": [
                  0,
                  0
                ]
              },
              {
                "id": 236,
                "properties": {
                  "start": "2024-04-24T09:42:03.000000",
                  "end": "2024-04-24T12:48:29.000000",
                  "type": "Delivered",
                  "label": "Event"
                },
                "color": "#2196F3",
                "styles": {
                  "image": "https://em-content.zobj.net/source/apple/391/radio-button_1f518.png"
                },
                "label": "",
                "scale_factor": 1,
                "type": "#2196F3",
                "size": [
                  55,
                  55
                ],
                "position": [
                  0,
                  0
                ]
              },
              {
                "id": 227,
                "properties": {
                  "start": "2024-04-23T06:08:38.000000",
                  "end": "2024-04-23T09:47:23.000000",
                  "type": "Produced",
                  "label": "Event"
                },
                "color": "#2196F3",
                "styles": {
                  "image": "https://em-content.zobj.net/source/apple/391/radio-button_1f518.png"
                },
                "label": "",
                "scale_factor": 1,
                "type": "#2196F3",
                "size": [
                  55,
                  55
                ],
                "position": [
                  0,
                  0
                ]
              },
              {
                "id": 102,
                "properties": {
                  "start": "2024-04-23T09:08:02.000000",
                  "end": "2024-04-23T12:46:45.000000",
                  "type": "Shipped",
                  "label": "Event"
                },
                "color": "#2196F3",
                "styles": {
                  "image": "https://em-content.zobj.net/source/apple/391/radio-button_1f518.png"
                },
                "label": "",
                "scale_factor": 1,
                "type": "#2196F3",
                "size": [
                  55,
                  55
                ],
                "position": [
                  0,
                  0
                ]
              },
              {
                "id": 103,
                "properties": {
                  "start": "2024-04-23T12:57:10.000000",
                  "end": "2024-04-23T15:31:50.000000",
                  "type": "Shipped",
                  "label": "Event"
                },
                "color": "#2196F3",
                "styles": {
                  "image": "https://em-content.zobj.net/source/apple/391/radio-button_1f518.png"
                },
                "label": "",
                "scale_factor": 1,
                "type": "#2196F3",
                "size": [
                  55,
                  55
                ],
                "position": [
                  0,
                  0
                ]
              },
              {
                "id": 33,
                "properties": {
                  "date": "2024-04-22",
                  "quantity": 75,
                  "id": "ORD019",
                  "label": "Order"
                },
                "color": "#673AB7",
                "styles": {
                  "image": "https://em-content.zobj.net/source/apple/391/basket_1f9fa.png"
                },
                "label": "ORD019",
                "scale_factor": 1,
                "type": "#673AB7",
                "size": [
                  55,
                  55
                ],
                "position": [
                  0,
                  0
                ]
              },
              {
                "id": 104,
                "properties": {
                  "start": "2024-04-23T15:53:37.000000",
                  "end": "2024-04-23T18:15:03.000000",
                  "type": "Shipped",
                  "label": "Event"
                },
                "color": "#2196F3",
                "styles": {
                  "image": "https://em-content.zobj.net/source/apple/391/radio-button_1f518.png"
                },
                "label": "",
                "scale_factor": 1,
                "type": "#2196F3",
                "size": [
                  55,
                  55
                ],
                "position": [
                  0,
                  0
                ]
              },
              {
                "id": 97,
                "properties": {
                  "start": "2024-04-22T18:04:41.000000",
                  "end": "2024-04-22T21:03:48.000000",
                  "type": "Shipped",
                  "label": "Event"
                },
                "color": "#2196F3",
                "styles": {
                  "image": "https://em-content.zobj.net/source/apple/391/radio-button_1f518.png"
                },
                "label": "",
                "scale_factor": 1,
                "type": "#2196F3",
                "size": [
                  55,
                  55
                ],
                "position": [
                  0,
                  0
                ]
              },
              {
                "id": 98,
                "properties": {
                  "start": "2024-04-22T21:55:50.000000",
                  "end": "2024-04-23T00:13:59.000000",
                  "type": "Shipped",
                  "label": "Event"
                },
                "color": "#2196F3",
                "styles": {
                  "image": "https://em-content.zobj.net/source/apple/391/radio-button_1f518.png"
                },
                "label": "",
                "scale_factor": 1,
                "type": "#2196F3",
                "size": [
                  55,
                  55
                ],
                "position": [
                  0,
                  0
                ]
              },
              {
                "id": 105,
                "properties": {
                  "start": "2024-04-23T18:16:12.000000",
                  "end": "2024-04-23T21:04:31.000000",
                  "type": "Shipped",
                  "label": "Event"
                },
                "color": "#2196F3",
                "styles": {
                  "image": "https://em-content.zobj.net/source/apple/391/radio-button_1f518.png"
                },
                "label": "",
                "scale_factor": 1,
                "type": "#2196F3",
                "size": [
                  55,
                  55
                ],
                "position": [
                  0,
                  0
                ]
              },
              {
                "id": 106,
                "properties": {
                  "start": "2024-04-23T21:12:20.000000",
                  "end": "2024-04-24T00:42:56.000000",
                  "type": "Delivered",
                  "label": "Event"
                },
                "color": "#2196F3",
                "styles": {
                  "image": "https://em-content.zobj.net/source/apple/391/radio-button_1f518.png"
                },
                "label": "",
                "scale_factor": 1,
                "type": "#2196F3",
                "size": [
                  55,
                  55
                ],
                "position": [
                  0,
                  0
                ]
              },
              {
                "id": 93,
                "properties": {
                  "start": "2024-04-22T06:58:10.000000",
                  "end": "2024-04-22T09:11:19.000000",
                  "type": "Produced",
                  "label": "Event"
                },
                "color": "#2196F3",
                "styles": {
                  "image": "https://em-content.zobj.net/source/apple/391/radio-button_1f518.png"
                },
                "label": "",
                "scale_factor": 1,
                "type": "#2196F3",
                "size": [
                  55,
                  55
                ],
                "position": [
                  0,
                  0
                ]
              },
              {
                "id": 94,
                "properties": {
                  "start": "2024-04-22T09:43:04.000000",
                  "end": "2024-04-22T12:57:11.000000",
                  "type": "Shipped",
                  "label": "Event"
                },
                "color": "#2196F3",
                "styles": {
                  "image": "https://em-content.zobj.net/source/apple/391/radio-button_1f518.png"
                },
                "label": "",
                "scale_factor": 1,
                "type": "#2196F3",
                "size": [
                  55,
                  55
                ],
                "position": [
                  0,
                  0
                ]
              },
              {
                "id": 100,
                "properties": {
                  "start": "2024-04-23T03:17:59.000000",
                  "end": "2024-04-23T06:29:50.000000",
                  "type": "Shipped",
                  "label": "Event"
                },
                "color": "#2196F3",
                "styles": {
                  "image": "https://em-content.zobj.net/source/apple/391/radio-button_1f518.png"
                },
                "label": "",
                "scale_factor": 1,
                "type": "#2196F3",
                "size": [
                  55,
                  55
                ],
                "position": [
                  0,
                  0
                ]
              },
              {
                "id": 101,
                "properties": {
                  "start": "2024-04-23T06:13:09.000000",
                  "end": "2024-04-23T09:11:10.000000",
                  "type": "Shipped",
                  "label": "Event"
                },
                "color": "#2196F3",
                "styles": {
                  "image": "https://em-content.zobj.net/source/apple/391/radio-button_1f518.png"
                },
                "label": "",
                "scale_factor": 1,
                "type": "#2196F3",
                "size": [
                  55,
                  55
                ],
                "position": [
                  0,
                  0
                ]
              },
              {
                "id": 95,
                "properties": {
                  "start": "2024-04-22T12:33:15.000000",
                  "end": "2024-04-22T15:05:57.000000",
                  "type": "Shipped",
                  "label": "Event"
                },
                "color": "#2196F3",
                "styles": {
                  "image": "https://em-content.zobj.net/source/apple/391/radio-button_1f518.png"
                },
                "label": "",
                "scale_factor": 1,
                "type": "#2196F3",
                "size": [
                  55,
                  55
                ],
                "position": [
                  0,
                  0
                ]
              },
              {
                "id": 96,
                "properties": {
                  "start": "2024-04-22T15:20:48.000000",
                  "end": "2024-04-22T18:31:34.000000",
                  "type": "Shipped",
                  "label": "Event"
                },
                "color": "#2196F3",
                "styles": {
                  "image": "https://em-content.zobj.net/source/apple/391/radio-button_1f518.png"
                },
                "label": "",
                "scale_factor": 1,
                "type": "#2196F3",
                "size": [
                  55,
                  55
                ],
                "position": [
                  0,
                  0
                ]
              },
              {
                "id": 99,
                "properties": {
                  "start": "2024-04-23T00:49:43.000000",
                  "end": "2024-04-23T03:24:17.000000",
                  "type": "Shipped",
                  "label": "Event"
                },
                "color": "#2196F3",
                "styles": {
                  "image": "https://em-content.zobj.net/source/apple/391/radio-button_1f518.png"
                },
                "label": "",
                "scale_factor": 1,
                "type": "#2196F3",
                "size": [
                  55,
                  55
                ],
                "position": [
                  0,
                  0
                ]
              },
              {
                "id": 165,
                "properties": {
                  "start": "2024-04-25T21:07:27.000000",
                  "end": "2024-04-26T00:09:17.000000",
                  "type": "Shipped",
                  "label": "Event"
                },
                "color": "#2196F3",
                "styles": {
                  "image": "https://em-content.zobj.net/source/apple/391/radio-button_1f518.png"
                },
                "label": "",
                "scale_factor": 1,
                "type": "#2196F3",
                "size": [
                  55,
                  55
                ],
                "position": [
                  0,
                  0
                ]
              },
              {
                "id": 166,
                "properties": {
                  "start": "2024-04-26T00:02:52.000000",
                  "end": "2024-04-26T03:07:30.000000",
                  "type": "Shipped",
                  "label": "Event"
                },
                "color": "#2196F3",
                "styles": {
                  "image": "https://em-content.zobj.net/source/apple/391/radio-button_1f518.png"
                },
                "label": "",
                "scale_factor": 1,
                "type": "#2196F3",
                "size": [
                  55,
                  55
                ],
                "position": [
                  0,
                  0
                ]
              },
              {
                "id": 34,
                "properties": {
                  "date": "2024-04-25",
                  "quantity": 45,
                  "id": "ORD020",
                  "label": "Order"
                },
                "color": "#673AB7",
                "styles": {
                  "image": "https://em-content.zobj.net/source/apple/391/basket_1f9fa.png"
                },
                "label": "ORD020",
                "scale_factor": 1,
                "type": "#673AB7",
                "size": [
                  55,
                  55
                ],
                "position": [
                  0,
                  0
                ]
              },
              {
                "id": 163,
                "properties": {
                  "start": "2024-04-25T15:31:10.000000",
                  "end": "2024-04-25T18:31:58.000000",
                  "type": "Shipped",
                  "label": "Event"
                },
                "color": "#2196F3",
                "styles": {
                  "image": "https://em-content.zobj.net/source/apple/391/radio-button_1f518.png"
                },
                "label": "",
                "scale_factor": 1,
                "type": "#2196F3",
                "size": [
                  55,
                  55
                ],
                "position": [
                  0,
                  0
                ]
              },
              {
                "id": 164,
                "properties": {
                  "start": "2024-04-25T18:00:16.000000",
                  "end": "2024-04-25T21:24:02.000000",
                  "type": "Shipped",
                  "label": "Event"
                },
                "color": "#2196F3",
                "styles": {
                  "image": "https://em-content.zobj.net/source/apple/391/radio-button_1f518.png"
                },
                "label": "",
                "scale_factor": 1,
                "type": "#2196F3",
                "size": [
                  55,
                  55
                ],
                "position": [
                  0,
                  0
                ]
              },
              {
                "id": 167,
                "properties": {
                  "start": "2024-04-26T03:59:16.000000",
                  "end": "2024-04-26T06:12:39.000000",
                  "type": "Shipped",
                  "label": "Event"
                },
                "color": "#2196F3",
                "styles": {
                  "image": "https://em-content.zobj.net/source/apple/391/radio-button_1f518.png"
                },
                "label": "",
                "scale_factor": 1,
                "type": "#2196F3",
                "size": [
                  55,
                  55
                ],
                "position": [
                  0,
                  0
                ]
              },
              {
                "id": 162,
                "properties": {
                  "start": "2024-04-25T12:02:22.000000",
                  "end": "2024-04-25T15:37:06.000000",
                  "type": "Shipped",
                  "label": "Event"
                },
                "color": "#2196F3",
                "styles": {
                  "image": "https://em-content.zobj.net/source/apple/391/radio-button_1f518.png"
                },
                "label": "",
                "scale_factor": 1,
                "type": "#2196F3",
                "size": [
                  55,
                  55
                ],
                "position": [
                  0,
                  0
                ]
              },
              {
                "id": 161,
                "properties": {
                  "start": "2024-04-25T09:03:37.000000",
                  "end": "2024-04-25T12:34:53.000000",
                  "type": "Shipped",
                  "label": "Event"
                },
                "color": "#2196F3",
                "styles": {
                  "image": "https://em-content.zobj.net/source/apple/391/radio-button_1f518.png"
                },
                "label": "",
                "scale_factor": 1,
                "type": "#2196F3",
                "size": [
                  55,
                  55
                ],
                "position": [
                  0,
                  0
                ]
              },
              {
                "id": 160,
                "properties": {
                  "start": "2024-04-25T06:45:15.000000",
                  "end": "2024-04-25T09:48:06.000000",
                  "type": "Produced",
                  "label": "Event"
                },
                "color": "#2196F3",
                "styles": {
                  "image": "https://em-content.zobj.net/source/apple/391/radio-button_1f518.png"
                },
                "label": "",
                "scale_factor": 1,
                "type": "#2196F3",
                "size": [
                  55,
                  55
                ],
                "position": [
                  0,
                  0
                ]
              },
              {
                "id": 168,
                "properties": {
                  "start": "2024-04-26T06:00:37.000000",
                  "end": "2024-04-26T09:41:12.000000",
                  "type": "Delivered",
                  "label": "Event"
                },
                "color": "#2196F3",
                "styles": {
                  "image": "https://em-content.zobj.net/source/apple/391/radio-button_1f518.png"
                },
                "label": "",
                "scale_factor": 1,
                "type": "#2196F3",
                "size": [
                  55,
                  55
                ],
                "position": [
                  0,
                  0
                ]
              },
              {
                "id": 221,
                "properties": {
                  "start": "2024-04-26T06:04:18.000000",
                  "end": "2024-04-26T09:00:25.000000",
                  "type": "Produced",
                  "label": "Event"
                },
                "color": "#2196F3",
                "styles": {
                  "image": "https://em-content.zobj.net/source/apple/391/radio-button_1f518.png"
                },
                "label": "",
                "scale_factor": 1,
                "type": "#2196F3",
                "size": [
                  55,
                  55
                ],
                "position": [
                  0,
                  0
                ]
              },
              {
                "id": 222,
                "properties": {
                  "start": "2024-04-26T09:46:32.000000",
                  "end": "2024-04-26T12:53:19.000000",
                  "type": "Shipped",
                  "label": "Event"
                },
                "color": "#2196F3",
                "styles": {
                  "image": "https://em-content.zobj.net/source/apple/391/radio-button_1f518.png"
                },
                "label": "",
                "scale_factor": 1,
                "type": "#2196F3",
                "size": [
                  55,
                  55
                ],
                "position": [
                  0,
                  0
                ]
              },
              {
                "id": 35,
                "properties": {
                  "date": "2024-04-26",
                  "quantity": 30,
                  "id": "ORD021",
                  "label": "Order"
                },
                "color": "#673AB7",
                "styles": {
                  "image": "https://em-content.zobj.net/source/apple/391/basket_1f9fa.png"
                },
                "label": "ORD021",
                "scale_factor": 1,
                "type": "#673AB7",
                "size": [
                  55,
                  55
                ],
                "position": [
                  0,
                  0
                ]
              },
              {
                "id": 223,
                "properties": {
                  "start": "2024-04-26T12:52:38.000000",
                  "end": "2024-04-26T15:42:25.000000",
                  "type": "Delivered",
                  "label": "Event"
                },
                "color": "#2196F3",
                "styles": {
                  "image": "https://em-content.zobj.net/source/apple/391/radio-button_1f518.png"
                },
                "label": "",
                "scale_factor": 1,
                "type": "#2196F3",
                "size": [
                  55,
                  55
                ],
                "position": [
                  0,
                  0
                ]
              },
              {
                "id": 128,
                "properties": {
                  "start": "2024-04-28T09:23:54.000000",
                  "end": "2024-04-28T12:48:11.000000",
                  "type": "Shipped",
                  "label": "Event"
                },
                "color": "#2196F3",
                "styles": {
                  "image": "https://em-content.zobj.net/source/apple/391/radio-button_1f518.png"
                },
                "label": "",
                "scale_factor": 1,
                "type": "#2196F3",
                "size": [
                  55,
                  55
                ],
                "position": [
                  0,
                  0
                ]
              },
              {
                "id": 129,
                "properties": {
                  "start": "2024-04-28T12:09:43.000000",
                  "end": "2024-04-28T15:22:24.000000",
                  "type": "Shipped",
                  "label": "Event"
                },
                "color": "#2196F3",
                "styles": {
                  "image": "https://em-content.zobj.net/source/apple/391/radio-button_1f518.png"
                },
                "label": "",
                "scale_factor": 1,
                "type": "#2196F3",
                "size": [
                  55,
                  55
                ],
                "position": [
                  0,
                  0
                ]
              },
              {
                "id": 36,
                "properties": {
                  "date": "2024-04-28",
                  "quantity": 50,
                  "id": "ORD022",
                  "label": "Order"
                },
                "color": "#673AB7",
                "styles": {
                  "image": "https://em-content.zobj.net/source/apple/391/basket_1f9fa.png"
                },
                "label": "ORD022",
                "scale_factor": 1,
                "type": "#673AB7",
                "size": [
                  55,
                  55
                ],
                "position": [
                  0,
                  0
                ]
              },
              {
                "id": 127,
                "properties": {
                  "start": "2024-04-28T06:02:15.000000",
                  "end": "2024-04-28T09:44:30.000000",
                  "type": "Produced",
                  "label": "Event"
                },
                "color": "#2196F3",
                "styles": {
                  "image": "https://em-content.zobj.net/source/apple/391/radio-button_1f518.png"
                },
                "label": "",
                "scale_factor": 1,
                "type": "#2196F3",
                "size": [
                  55,
                  55
                ],
                "position": [
                  0,
                  0
                ]
              },
              {
                "id": 135,
                "properties": {
                  "start": "2024-04-29T06:27:34.000000",
                  "end": "2024-04-29T09:07:37.000000",
                  "type": "Shipped",
                  "label": "Event"
                },
                "color": "#2196F3",
                "styles": {
                  "image": "https://em-content.zobj.net/source/apple/391/radio-button_1f518.png"
                },
                "label": "",
                "scale_factor": 1,
                "type": "#2196F3",
                "size": [
                  55,
                  55
                ],
                "position": [
                  0,
                  0
                ]
              },
              {
                "id": 136,
                "properties": {
                  "start": "2024-04-29T09:12:59.000000",
                  "end": "2024-04-29T12:02:23.000000",
                  "type": "Shipped",
                  "label": "Event"
                },
                "color": "#2196F3",
                "styles": {
                  "image": "https://em-content.zobj.net/source/apple/391/radio-button_1f518.png"
                },
                "label": "",
                "scale_factor": 1,
                "type": "#2196F3",
                "size": [
                  55,
                  55
                ],
                "position": [
                  0,
                  0
                ]
              },
              {
                "id": 137,
                "properties": {
                  "start": "2024-04-29T12:30:17.000000",
                  "end": "2024-04-29T15:00:35.000000",
                  "type": "Shipped",
                  "label": "Event"
                },
                "color": "#2196F3",
                "styles": {
                  "image": "https://em-content.zobj.net/source/apple/391/radio-button_1f518.png"
                },
                "label": "",
                "scale_factor": 1,
                "type": "#2196F3",
                "size": [
                  55,
                  55
                ],
                "position": [
                  0,
                  0
                ]
              },
              {
                "id": 138,
                "properties": {
                  "start": "2024-04-29T15:29:27.000000",
                  "end": "2024-04-29T18:07:09.000000",
                  "type": "Shipped",
                  "label": "Event"
                },
                "color": "#2196F3",
                "styles": {
                  "image": "https://em-content.zobj.net/source/apple/391/radio-button_1f518.png"
                },
                "label": "",
                "scale_factor": 1,
                "type": "#2196F3",
                "size": [
                  55,
                  55
                ],
                "position": [
                  0,
                  0
                ]
              },
              {
                "id": 139,
                "properties": {
                  "start": "2024-04-29T18:37:27.000000",
                  "end": "2024-04-29T21:33:57.000000",
                  "type": "Delivered",
                  "label": "Event"
                },
                "color": "#2196F3",
                "styles": {
                  "image": "https://em-content.zobj.net/source/apple/391/radio-button_1f518.png"
                },
                "label": "",
                "scale_factor": 1,
                "type": "#2196F3",
                "size": [
                  55,
                  55
                ],
                "position": [
                  0,
                  0
                ]
              },
              {
                "id": 131,
                "properties": {
                  "start": "2024-04-28T18:02:03.000000",
                  "end": "2024-04-28T21:15:10.000000",
                  "type": "Shipped",
                  "label": "Event"
                },
                "color": "#2196F3",
                "styles": {
                  "image": "https://em-content.zobj.net/source/apple/391/radio-button_1f518.png"
                },
                "label": "",
                "scale_factor": 1,
                "type": "#2196F3",
                "size": [
                  55,
                  55
                ],
                "position": [
                  0,
                  0
                ]
              },
              {
                "id": 132,
                "properties": {
                  "start": "2024-04-28T21:48:23.000000",
                  "end": "2024-04-29T00:29:56.000000",
                  "type": "Shipped",
                  "label": "Event"
                },
                "color": "#2196F3",
                "styles": {
                  "image": "https://em-content.zobj.net/source/apple/391/radio-button_1f518.png"
                },
                "label": "",
                "scale_factor": 1,
                "type": "#2196F3",
                "size": [
                  55,
                  55
                ],
                "position": [
                  0,
                  0
                ]
              },
              {
                "id": 133,
                "properties": {
                  "start": "2024-04-29T00:28:04.000000",
                  "end": "2024-04-29T03:21:08.000000",
                  "type": "Shipped",
                  "label": "Event"
                },
                "color": "#2196F3",
                "styles": {
                  "image": "https://em-content.zobj.net/source/apple/391/radio-button_1f518.png"
                },
                "label": "",
                "scale_factor": 1,
                "type": "#2196F3",
                "size": [
                  55,
                  55
                ],
                "position": [
                  0,
                  0
                ]
              },
              {
                "id": 134,
                "properties": {
                  "start": "2024-04-29T03:07:21.000000",
                  "end": "2024-04-29T06:27:29.000000",
                  "type": "Shipped",
                  "label": "Event"
                },
                "color": "#2196F3",
                "styles": {
                  "image": "https://em-content.zobj.net/source/apple/391/radio-button_1f518.png"
                },
                "label": "",
                "scale_factor": 1,
                "type": "#2196F3",
                "size": [
                  55,
                  55
                ],
                "position": [
                  0,
                  0
                ]
              },
              {
                "id": 130,
                "properties": {
                  "start": "2024-04-28T15:32:50.000000",
                  "end": "2024-04-28T18:32:29.000000",
                  "type": "Shipped",
                  "label": "Event"
                },
                "color": "#2196F3",
                "styles": {
                  "image": "https://em-content.zobj.net/source/apple/391/radio-button_1f518.png"
                },
                "label": "",
                "scale_factor": 1,
                "type": "#2196F3",
                "size": [
                  55,
                  55
                ],
                "position": [
                  0,
                  0
                ]
              },
              {
                "id": 169,
                "properties": {
                  "start": "2024-04-27T06:38:42.000000",
                  "end": "2024-04-27T09:40:14.000000",
                  "type": "Produced",
                  "label": "Event"
                },
                "color": "#2196F3",
                "styles": {
                  "image": "https://em-content.zobj.net/source/apple/391/radio-button_1f518.png"
                },
                "label": "",
                "scale_factor": 1,
                "type": "#2196F3",
                "size": [
                  55,
                  55
                ],
                "position": [
                  0,
                  0
                ]
              },
              {
                "id": 170,
                "properties": {
                  "start": "2024-04-27T09:44:22.000000",
                  "end": "2024-04-27T12:13:16.000000",
                  "type": "Shipped",
                  "label": "Event"
                },
                "color": "#2196F3",
                "styles": {
                  "image": "https://em-content.zobj.net/source/apple/391/radio-button_1f518.png"
                },
                "label": "",
                "scale_factor": 1,
                "type": "#2196F3",
                "size": [
                  55,
                  55
                ],
                "position": [
                  0,
                  0
                ]
              },
              {
                "id": 37,
                "properties": {
                  "date": "2024-04-27",
                  "quantity": 35,
                  "id": "ORD023",
                  "label": "Order"
                },
                "color": "#673AB7",
                "styles": {
                  "image": "https://em-content.zobj.net/source/apple/391/basket_1f9fa.png"
                },
                "label": "ORD023",
                "scale_factor": 1,
                "type": "#673AB7",
                "size": [
                  55,
                  55
                ],
                "position": [
                  0,
                  0
                ]
              },
              {
                "id": 172,
                "properties": {
                  "start": "2024-04-27T15:19:21.000000",
                  "end": "2024-04-27T18:41:40.000000",
                  "type": "Shipped",
                  "label": "Event"
                },
                "color": "#2196F3",
                "styles": {
                  "image": "https://em-content.zobj.net/source/apple/391/radio-button_1f518.png"
                },
                "label": "",
                "scale_factor": 1,
                "type": "#2196F3",
                "size": [
                  55,
                  55
                ],
                "position": [
                  0,
                  0
                ]
              },
              {
                "id": 173,
                "properties": {
                  "start": "2024-04-27T18:42:49.000000",
                  "end": "2024-04-27T21:07:08.000000",
                  "type": "Shipped",
                  "label": "Event"
                },
                "color": "#2196F3",
                "styles": {
                  "image": "https://em-content.zobj.net/source/apple/391/radio-button_1f518.png"
                },
                "label": "",
                "scale_factor": 1,
                "type": "#2196F3",
                "size": [
                  55,
                  55
                ],
                "position": [
                  0,
                  0
                ]
              },
              {
                "id": 174,
                "properties": {
                  "start": "2024-04-27T21:04:40.000000",
                  "end": "2024-04-28T00:03:14.000000",
                  "type": "Delivered",
                  "label": "Event"
                },
                "color": "#2196F3",
                "styles": {
                  "image": "https://em-content.zobj.net/source/apple/391/radio-button_1f518.png"
                },
                "label": "",
                "scale_factor": 1,
                "type": "#2196F3",
                "size": [
                  55,
                  55
                ],
                "position": [
                  0,
                  0
                ]
              },
              {
                "id": 171,
                "properties": {
                  "start": "2024-04-27T12:18:55.000000",
                  "end": "2024-04-27T15:11:01.000000",
                  "type": "Shipped",
                  "label": "Event"
                },
                "color": "#2196F3",
                "styles": {
                  "image": "https://em-content.zobj.net/source/apple/391/radio-button_1f518.png"
                },
                "label": "",
                "scale_factor": 1,
                "type": "#2196F3",
                "size": [
                  55,
                  55
                ],
                "position": [
                  0,
                  0
                ]
              },
              {
                "id": 284,
                "properties": {
                  "start": "2024-04-30T03:45:24.000000",
                  "end": "2024-04-30T06:59:07.000000",
                  "type": "Shipped",
                  "label": "Event"
                },
                "color": "#2196F3",
                "styles": {
                  "image": "https://em-content.zobj.net/source/apple/391/radio-button_1f518.png"
                },
                "label": "",
                "scale_factor": 1,
                "type": "#2196F3",
                "size": [
                  55,
                  55
                ],
                "position": [
                  0,
                  0
                ]
              },
              {
                "id": 285,
                "properties": {
                  "start": "2024-04-30T06:11:14.000000",
                  "end": "2024-04-30T09:55:30.000000",
                  "type": "Delivered",
                  "label": "Event"
                },
                "color": "#2196F3",
                "styles": {
                  "image": "https://em-content.zobj.net/source/apple/391/radio-button_1f518.png"
                },
                "label": "",
                "scale_factor": 1,
                "type": "#2196F3",
                "size": [
                  55,
                  55
                ],
                "position": [
                  0,
                  0
                ]
              },
              {
                "id": 38,
                "properties": {
                  "date": "2024-04-29",
                  "quantity": 60,
                  "id": "ORD024",
                  "label": "Order"
                },
                "color": "#673AB7",
                "styles": {
                  "image": "https://em-content.zobj.net/source/apple/391/basket_1f9fa.png"
                },
                "label": "ORD024",
                "scale_factor": 1,
                "type": "#673AB7",
                "size": [
                  55,
                  55
                ],
                "position": [
                  0,
                  0
                ]
              },
              {
                "id": 279,
                "properties": {
                  "start": "2024-04-29T12:15:56.000000",
                  "end": "2024-04-29T15:15:53.000000",
                  "type": "Shipped",
                  "label": "Event"
                },
                "color": "#2196F3",
                "styles": {
                  "image": "https://em-content.zobj.net/source/apple/391/radio-button_1f518.png"
                },
                "label": "",
                "scale_factor": 1,
                "type": "#2196F3",
                "size": [
                  55,
                  55
                ],
                "position": [
                  0,
                  0
                ]
              },
              {
                "id": 280,
                "properties": {
                  "start": "2024-04-29T15:11:57.000000",
                  "end": "2024-04-29T18:18:15.000000",
                  "type": "Shipped",
                  "label": "Event"
                },
                "color": "#2196F3",
                "styles": {
                  "image": "https://em-content.zobj.net/source/apple/391/radio-button_1f518.png"
                },
                "label": "",
                "scale_factor": 1,
                "type": "#2196F3",
                "size": [
                  55,
                  55
                ],
                "position": [
                  0,
                  0
                ]
              },
              {
                "id": 277,
                "properties": {
                  "start": "2024-04-29T06:25:14.000000",
                  "end": "2024-04-29T09:36:04.000000",
                  "type": "Produced",
                  "label": "Event"
                },
                "color": "#2196F3",
                "styles": {
                  "image": "https://em-content.zobj.net/source/apple/391/radio-button_1f518.png"
                },
                "label": "",
                "scale_factor": 1,
                "type": "#2196F3",
                "size": [
                  55,
                  55
                ],
                "position": [
                  0,
                  0
                ]
              },
              {
                "id": 278,
                "properties": {
                  "start": "2024-04-29T09:41:15.000000",
                  "end": "2024-04-29T12:41:46.000000",
                  "type": "Shipped",
                  "label": "Event"
                },
                "color": "#2196F3",
                "styles": {
                  "image": "https://em-content.zobj.net/source/apple/391/radio-button_1f518.png"
                },
                "label": "",
                "scale_factor": 1,
                "type": "#2196F3",
                "size": [
                  55,
                  55
                ],
                "position": [
                  0,
                  0
                ]
              },
              {
                "id": 281,
                "properties": {
                  "start": "2024-04-29T18:25:52.000000",
                  "end": "2024-04-29T21:06:08.000000",
                  "type": "Shipped",
                  "label": "Event"
                },
                "color": "#2196F3",
                "styles": {
                  "image": "https://em-content.zobj.net/source/apple/391/radio-button_1f518.png"
                },
                "label": "",
                "scale_factor": 1,
                "type": "#2196F3",
                "size": [
                  55,
                  55
                ],
                "position": [
                  0,
                  0
                ]
              },
              {
                "id": 282,
                "properties": {
                  "start": "2024-04-29T21:41:29.000000",
                  "end": "2024-04-30T00:34:52.000000",
                  "type": "Shipped",
                  "label": "Event"
                },
                "color": "#2196F3",
                "styles": {
                  "image": "https://em-content.zobj.net/source/apple/391/radio-button_1f518.png"
                },
                "label": "",
                "scale_factor": 1,
                "type": "#2196F3",
                "size": [
                  55,
                  55
                ],
                "position": [
                  0,
                  0
                ]
              },
              {
                "id": 283,
                "properties": {
                  "start": "2024-04-30T00:43:39.000000",
                  "end": "2024-04-30T03:14:40.000000",
                  "type": "Shipped",
                  "label": "Event"
                },
                "color": "#2196F3",
                "styles": {
                  "image": "https://em-content.zobj.net/source/apple/391/radio-button_1f518.png"
                },
                "label": "",
                "scale_factor": 1,
                "type": "#2196F3",
                "size": [
                  55,
                  55
                ],
                "position": [
                  0,
                  0
                ]
              },
              {
                "id": 40,
                "properties": {
                  "start": "2024-04-30T06:03:51.000000",
                  "end": "2024-04-30T09:30:41.000000",
                  "type": "Produced",
                  "label": "Event"
                },
                "color": "#2196F3",
                "styles": {
                  "image": "https://em-content.zobj.net/source/apple/391/radio-button_1f518.png"
                },
                "label": "",
                "scale_factor": 1,
                "type": "#2196F3",
                "size": [
                  55,
                  55
                ],
                "position": [
                  0,
                  0
                ]
              },
              {
                "id": 65,
                "properties": {
                  "start": "2024-04-30T09:24:50.000000",
                  "end": "2024-04-30T12:44:24.000000",
                  "type": "Shipped",
                  "label": "Event"
                },
                "color": "#2196F3",
                "styles": {
                  "image": "https://em-content.zobj.net/source/apple/391/radio-button_1f518.png"
                },
                "label": "",
                "scale_factor": 1,
                "type": "#2196F3",
                "size": [
                  55,
                  55
                ],
                "position": [
                  0,
                  0
                ]
              },
              {
                "id": 39,
                "properties": {
                  "date": "2024-04-30",
                  "quantity": 45,
                  "id": "ORD025",
                  "label": "Order"
                },
                "color": "#673AB7",
                "styles": {
                  "image": "https://em-content.zobj.net/source/apple/391/basket_1f9fa.png"
                },
                "label": "ORD025",
                "scale_factor": 1,
                "type": "#673AB7",
                "size": [
                  55,
                  55
                ],
                "position": [
                  0,
                  0
                ]
              },
              {
                "id": 66,
                "properties": {
                  "start": "2024-04-30T12:24:05.000000",
                  "end": "2024-04-30T15:33:11.000000",
                  "type": "Shipped",
                  "label": "Event"
                },
                "color": "#2196F3",
                "styles": {
                  "image": "https://em-content.zobj.net/source/apple/391/radio-button_1f518.png"
                },
                "label": "",
                "scale_factor": 1,
                "type": "#2196F3",
                "size": [
                  55,
                  55
                ],
                "position": [
                  0,
                  0
                ]
              },
              {
                "id": 67,
                "properties": {
                  "start": "2024-04-30T15:01:58.000000",
                  "end": "2024-04-30T18:27:23.000000",
                  "type": "Shipped",
                  "label": "Event"
                },
                "color": "#2196F3",
                "styles": {
                  "image": "https://em-content.zobj.net/source/apple/391/radio-button_1f518.png"
                },
                "label": "",
                "scale_factor": 1,
                "type": "#2196F3",
                "size": [
                  55,
                  55
                ],
                "position": [
                  0,
                  0
                ]
              },
              {
                "id": 68,
                "properties": {
                  "start": "2024-04-30T18:48:47.000000",
                  "end": "2024-04-30T21:41:16.000000",
                  "type": "Shipped",
                  "label": "Event"
                },
                "color": "#2196F3",
                "styles": {
                  "image": "https://em-content.zobj.net/source/apple/391/radio-button_1f518.png"
                },
                "label": "",
                "scale_factor": 1,
                "type": "#2196F3",
                "size": [
                  55,
                  55
                ],
                "position": [
                  0,
                  0
                ]
              },
              {
                "id": 70,
                "properties": {
                  "start": "2024-05-01T00:00:24.000000",
                  "end": "2024-05-01T03:52:20.000000",
                  "type": "Shipped",
                  "label": "Event"
                },
                "color": "#2196F3",
                "styles": {
                  "image": "https://em-content.zobj.net/source/apple/391/radio-button_1f518.png"
                },
                "label": "",
                "scale_factor": 1,
                "type": "#2196F3",
                "size": [
                  55,
                  55
                ],
                "position": [
                  0,
                  0
                ]
              },
              {
                "id": 71,
                "properties": {
                  "start": "2024-05-01T03:58:24.000000",
                  "end": "2024-05-01T06:00:23.000000",
                  "type": "Delivered",
                  "label": "Event"
                },
                "color": "#2196F3",
                "styles": {
                  "image": "https://em-content.zobj.net/source/apple/391/radio-button_1f518.png"
                },
                "label": "",
                "scale_factor": 1,
                "type": "#2196F3",
                "size": [
                  55,
                  55
                ],
                "position": [
                  0,
                  0
                ]
              },
              {
                "id": 69,
                "properties": {
                  "start": "2024-04-30T21:08:33.000000",
                  "end": "2024-05-01T00:18:14.000000",
                  "type": "Shipped",
                  "label": "Event"
                },
                "color": "#2196F3",
                "styles": {
                  "image": "https://em-content.zobj.net/source/apple/391/radio-button_1f518.png"
                },
                "label": "",
                "scale_factor": 1,
                "type": "#2196F3",
                "size": [
                  55,
                  55
                ],
                "position": [
                  0,
                  0
                ]
              }
            ],
            "_overview": {
              "enabled": null,
              "overview_set": false
            },
            "_selected_graph": [
              [],
              []
            ],
            "_sidebar": {
              "enabled": false,
              "start_with": ""
            },
            "_view_count": null,
            "_view_module": "yfiles-jupyter-graphs",
            "_view_module_version": "^1.6.2",
            "_view_name": "GraphView",
            "layout": "IPY_MODEL_edcf3d73141e4087a10a4ab11858a9ec"
          }
        },
        "060e28e73e224e288d6660672d7acac1": {
          "model_module": "@jupyter-widgets/output",
          "model_name": "OutputModel",
          "model_module_version": "1.0.0",
          "state": {
            "_dom_classes": [],
            "_model_module": "@jupyter-widgets/output",
            "_model_module_version": "1.0.0",
            "_model_name": "OutputModel",
            "_view_count": null,
            "_view_module": "@jupyter-widgets/output",
            "_view_module_version": "1.0.0",
            "_view_name": "OutputView",
            "layout": "IPY_MODEL_86d7601619a94a3d83a0f1bf20c65862",
            "msg_id": "",
            "outputs": [
              {
                "output_type": "display_data",
                "data": {
                  "text/plain": "GraphWidget(layout=Layout(height='670px', width='100%'))",
                  "application/vnd.jupyter.widget-view+json": {
                    "version_major": 2,
                    "version_minor": 0,
                    "model_id": "15e69d1f08004177b1411568dc9eeb16"
                  }
                },
                "metadata": {
                  "application/vnd.jupyter.widget-view+json": {
                    "colab": {
                      "custom_widget_manager": {
                        "url": "https://ssl.gstatic.com/colaboratory-static/widgets/colab-cdn-widget-manager/2b70e893a8ba7c0f/manager.min.js"
                      }
                    }
                  }
                }
              }
            ]
          }
        },
        "86d7601619a94a3d83a0f1bf20c65862": {
          "model_module": "@jupyter-widgets/base",
          "model_name": "LayoutModel",
          "model_module_version": "1.2.0",
          "state": {
            "_model_module": "@jupyter-widgets/base",
            "_model_module_version": "1.2.0",
            "_model_name": "LayoutModel",
            "_view_count": null,
            "_view_module": "@jupyter-widgets/base",
            "_view_module_version": "1.2.0",
            "_view_name": "LayoutView",
            "align_content": null,
            "align_items": null,
            "align_self": null,
            "border": null,
            "bottom": null,
            "display": null,
            "flex": null,
            "flex_flow": null,
            "grid_area": null,
            "grid_auto_columns": null,
            "grid_auto_flow": null,
            "grid_auto_rows": null,
            "grid_column": null,
            "grid_gap": null,
            "grid_row": null,
            "grid_template_areas": null,
            "grid_template_columns": null,
            "grid_template_rows": null,
            "height": null,
            "justify_content": null,
            "justify_items": null,
            "left": null,
            "margin": null,
            "max_height": null,
            "max_width": null,
            "min_height": null,
            "min_width": null,
            "object_fit": null,
            "object_position": null,
            "order": null,
            "overflow": null,
            "overflow_x": null,
            "overflow_y": null,
            "padding": null,
            "right": null,
            "top": null,
            "visibility": null,
            "width": null
          }
        },
        "15e69d1f08004177b1411568dc9eeb16": {
          "model_module": "yfiles-jupyter-graphs",
          "model_name": "GraphModel",
          "model_module_version": "^1.6.2",
          "state": {
            "_context_pane_mapping": [
              {
                "id": "Neighborhood",
                "title": "Neighborhood"
              },
              {
                "id": "Data",
                "title": "Data"
              },
              {
                "id": "Search",
                "title": "Search"
              },
              {
                "id": "About",
                "title": "About"
              }
            ],
            "_data_importer": "neo4j",
            "_directed": true,
            "_dom_classes": [],
            "_edges": [
              {
                "id": 1241,
                "start": 53,
                "end": 41,
                "properties": {
                  "totalShipped": 11,
                  "label": "DELIVERS_TO"
                },
                "label": "DELIVERS_TO",
                "color": "#673AB7",
                "thickness_factor": 1,
                "directed": true
              },
              {
                "id": 1258,
                "start": 44,
                "end": 42,
                "properties": {
                  "totalShipped": 3,
                  "label": "DELIVERS_TO"
                },
                "label": "DELIVERS_TO",
                "color": "#673AB7",
                "thickness_factor": 1,
                "directed": true
              },
              {
                "id": 1239,
                "start": 59,
                "end": 43,
                "properties": {
                  "totalShipped": 11,
                  "label": "DELIVERS_TO"
                },
                "label": "DELIVERS_TO",
                "color": "#673AB7",
                "thickness_factor": 1,
                "directed": true
              },
              {
                "id": 1254,
                "start": 51,
                "end": 44,
                "properties": {
                  "totalShipped": 6,
                  "label": "DELIVERS_TO"
                },
                "label": "DELIVERS_TO",
                "color": "#673AB7",
                "thickness_factor": 1,
                "directed": true
              },
              {
                "id": 1242,
                "start": 41,
                "end": 45,
                "properties": {
                  "totalShipped": 9,
                  "label": "DELIVERS_TO"
                },
                "label": "DELIVERS_TO",
                "color": "#673AB7",
                "thickness_factor": 1,
                "directed": true
              },
              {
                "id": 1252,
                "start": 55,
                "end": 47,
                "properties": {
                  "totalShipped": 12,
                  "label": "DELIVERS_TO"
                },
                "label": "DELIVERS_TO",
                "color": "#673AB7",
                "thickness_factor": 1,
                "directed": true
              },
              {
                "id": 1247,
                "start": 52,
                "end": 47,
                "properties": {
                  "totalShipped": 10,
                  "label": "DELIVERS_TO"
                },
                "label": "DELIVERS_TO",
                "color": "#673AB7",
                "thickness_factor": 1,
                "directed": true
              },
              {
                "id": 1255,
                "start": 59,
                "end": 48,
                "properties": {
                  "totalShipped": 7,
                  "label": "DELIVERS_TO"
                },
                "label": "DELIVERS_TO",
                "color": "#673AB7",
                "thickness_factor": 1,
                "directed": true
              },
              {
                "id": 1256,
                "start": 48,
                "end": 50,
                "properties": {
                  "totalShipped": 4,
                  "label": "DELIVERS_TO"
                },
                "label": "DELIVERS_TO",
                "color": "#673AB7",
                "thickness_factor": 1,
                "directed": true
              },
              {
                "id": 1243,
                "start": 45,
                "end": 51,
                "properties": {
                  "totalShipped": 9,
                  "label": "DELIVERS_TO"
                },
                "label": "DELIVERS_TO",
                "color": "#673AB7",
                "thickness_factor": 1,
                "directed": true
              },
              {
                "id": 1246,
                "start": 62,
                "end": 52,
                "properties": {
                  "totalShipped": 11,
                  "label": "DELIVERS_TO"
                },
                "label": "DELIVERS_TO",
                "color": "#673AB7",
                "thickness_factor": 1,
                "directed": true
              },
              {
                "id": 1240,
                "start": 43,
                "end": 53,
                "properties": {
                  "totalShipped": 11,
                  "label": "DELIVERS_TO"
                },
                "label": "DELIVERS_TO",
                "color": "#673AB7",
                "thickness_factor": 1,
                "directed": true
              },
              {
                "id": 1251,
                "start": 64,
                "end": 55,
                "properties": {
                  "totalShipped": 5,
                  "label": "DELIVERS_TO"
                },
                "label": "DELIVERS_TO",
                "color": "#673AB7",
                "thickness_factor": 1,
                "directed": true
              },
              {
                "id": 1261,
                "start": 57,
                "end": 55,
                "properties": {
                  "totalShipped": 7,
                  "label": "DELIVERS_TO"
                },
                "label": "DELIVERS_TO",
                "color": "#673AB7",
                "thickness_factor": 1,
                "directed": true
              },
              {
                "id": 1262,
                "start": 52,
                "end": 57,
                "properties": {
                  "totalShipped": 1,
                  "label": "DELIVERS_TO"
                },
                "label": "DELIVERS_TO",
                "color": "#673AB7",
                "thickness_factor": 1,
                "directed": true
              },
              {
                "id": 1248,
                "start": 47,
                "end": 58,
                "properties": {
                  "totalShipped": 22,
                  "label": "DELIVERS_TO"
                },
                "label": "DELIVERS_TO",
                "color": "#673AB7",
                "thickness_factor": 1,
                "directed": true
              },
              {
                "id": 1253,
                "start": 58,
                "end": 59,
                "properties": {
                  "totalShipped": 18,
                  "label": "DELIVERS_TO"
                },
                "label": "DELIVERS_TO",
                "color": "#673AB7",
                "thickness_factor": 1,
                "directed": true
              }
            ],
            "_graph_layout": {
              "algorithm": "organic",
              "options": {}
            },
            "_highlight": [],
            "_license": {},
            "_model_module": "yfiles-jupyter-graphs",
            "_model_module_version": "^1.6.2",
            "_model_name": "GraphModel",
            "_neighborhood": {},
            "_nodes": [
              {
                "id": 53,
                "properties": {
                  "address": "Highway E20, near Vejle",
                  "totalEvents": 11,
                  "latitude": 55.709,
                  "name": "Hagrid Warehouse",
                  "type": "Warehouse",
                  "point": {
                    "x": 9.536,
                    "y": 55.709,
                    "z": 0
                  },
                  "longitude": 9.536,
                  "capacity": "Medium",
                  "label": "DistributionPoint"
                },
                "color": "#607D8B",
                "styles": {
                  "image": "https://em-content.zobj.net/source/apple/391/department-store_1f3ec.png"
                },
                "label": "Hagrid Warehouse",
                "scale_factor": 11,
                "type": "#607D8B",
                "size": [
                  55,
                  55
                ],
                "position": [
                  0,
                  0
                ]
              },
              {
                "id": 41,
                "properties": {
                  "address": "Highway E45, near Horsens",
                  "totalEvents": 11,
                  "latitude": 55.86,
                  "name": "Hermione Warehouse",
                  "type": "Warehouse",
                  "point": {
                    "x": 9.85,
                    "y": 55.86,
                    "z": 0
                  },
                  "longitude": 9.85,
                  "capacity": "Medium",
                  "label": "DistributionPoint"
                },
                "color": "#607D8B",
                "styles": {
                  "image": "https://em-content.zobj.net/source/apple/391/department-store_1f3ec.png"
                },
                "label": "Hermione Warehouse",
                "scale_factor": 11,
                "type": "#607D8B",
                "size": [
                  55,
                  55
                ],
                "position": [
                  0,
                  0
                ]
              },
              {
                "id": 44,
                "properties": {
                  "address": "Highway E45, near Randers",
                  "totalEvents": 6,
                  "latitude": 56.46,
                  "name": "Snape Warehouse",
                  "type": "Warehouse",
                  "point": {
                    "x": 10.036,
                    "y": 56.46,
                    "z": 0
                  },
                  "longitude": 10.036,
                  "capacity": "Small",
                  "label": "DistributionPoint"
                },
                "color": "#607D8B",
                "styles": {
                  "image": "https://em-content.zobj.net/source/apple/391/department-store_1f3ec.png"
                },
                "label": "Snape Warehouse",
                "scale_factor": 6,
                "type": "#607D8B",
                "size": [
                  55,
                  55
                ],
                "position": [
                  0,
                  0
                ]
              },
              {
                "id": 42,
                "properties": {
                  "address": "Highway E39, near Aalborg",
                  "totalEvents": 3,
                  "latitude": 57.048,
                  "name": "Ron Warehouse",
                  "type": "Warehouse",
                  "point": {
                    "x": 9.919,
                    "y": 57.048,
                    "z": 0
                  },
                  "capacity": "Medium",
                  "longitude": 9.919,
                  "label": "DistributionPoint"
                },
                "color": "#607D8B",
                "styles": {
                  "image": "https://em-content.zobj.net/source/apple/391/department-store_1f3ec.png"
                },
                "label": "Ron Warehouse",
                "scale_factor": 3,
                "type": "#607D8B",
                "size": [
                  55,
                  55
                ],
                "position": [
                  0,
                  0
                ]
              },
              {
                "id": 59,
                "properties": {
                  "address": "Highway E39, near Middelfart",
                  "totalEvents": 18,
                  "latitude": 55.505,
                  "name": "Cedric Warehouse",
                  "type": "Warehouse",
                  "point": {
                    "x": 9.73,
                    "y": 55.505,
                    "z": 0
                  },
                  "capacity": "Medium",
                  "longitude": 9.73,
                  "label": "DistributionPoint"
                },
                "color": "#607D8B",
                "styles": {
                  "image": "https://em-content.zobj.net/source/apple/391/department-store_1f3ec.png"
                },
                "label": "Cedric Warehouse",
                "scale_factor": 18,
                "type": "#607D8B",
                "size": [
                  55,
                  55
                ],
                "position": [
                  0,
                  0
                ]
              },
              {
                "id": 43,
                "properties": {
                  "address": "Highway E20, near Fredericia",
                  "totalEvents": 11,
                  "latitude": 55.565,
                  "name": "Dumbledore Warehouse",
                  "type": "Warehouse",
                  "point": {
                    "x": 9.751,
                    "y": 55.565,
                    "z": 0
                  },
                  "capacity": "Medium",
                  "longitude": 9.751,
                  "label": "DistributionPoint"
                },
                "color": "#607D8B",
                "styles": {
                  "image": "https://em-content.zobj.net/source/apple/391/department-store_1f3ec.png"
                },
                "label": "Dumbledore Warehouse",
                "scale_factor": 11,
                "type": "#607D8B",
                "size": [
                  55,
                  55
                ],
                "position": [
                  0,
                  0
                ]
              },
              {
                "id": 51,
                "properties": {
                  "address": "Highway E45, near Aarhus",
                  "totalEvents": 9,
                  "latitude": 56.162,
                  "name": "Sirius Warehouse",
                  "type": "Warehouse",
                  "point": {
                    "x": 10.203,
                    "y": 56.162,
                    "z": 0
                  },
                  "longitude": 10.203,
                  "capacity": "Large",
                  "label": "DistributionPoint"
                },
                "color": "#607D8B",
                "styles": {
                  "image": "https://em-content.zobj.net/source/apple/391/department-store_1f3ec.png"
                },
                "label": "Sirius Warehouse",
                "scale_factor": 9,
                "type": "#607D8B",
                "size": [
                  55,
                  55
                ],
                "position": [
                  0,
                  0
                ]
              },
              {
                "id": 45,
                "properties": {
                  "address": "Highway E45, near Skanderborg",
                  "totalEvents": 9,
                  "latitude": 56.039,
                  "name": "Luna Warehouse",
                  "type": "Warehouse",
                  "point": {
                    "x": 9.927,
                    "y": 56.039,
                    "z": 0
                  },
                  "longitude": 9.927,
                  "capacity": "Small",
                  "label": "DistributionPoint"
                },
                "color": "#607D8B",
                "styles": {
                  "image": "https://em-content.zobj.net/source/apple/391/department-store_1f3ec.png"
                },
                "label": "Luna Warehouse",
                "scale_factor": 9,
                "type": "#607D8B",
                "size": [
                  55,
                  55
                ],
                "position": [
                  0,
                  0
                ]
              },
              {
                "id": 55,
                "properties": {
                  "address": "Highway E20, near Holbæk",
                  "totalEvents": 12,
                  "latitude": 55.718,
                  "name": "Bellatrix Warehouse",
                  "type": "Warehouse",
                  "point": {
                    "x": 11.704,
                    "y": 55.718,
                    "z": 0
                  },
                  "longitude": 11.704,
                  "capacity": "Medium",
                  "label": "DistributionPoint"
                },
                "color": "#607D8B",
                "styles": {
                  "image": "https://em-content.zobj.net/source/apple/391/department-store_1f3ec.png"
                },
                "label": "Bellatrix Warehouse",
                "scale_factor": 12,
                "type": "#607D8B",
                "size": [
                  55,
                  55
                ],
                "position": [
                  0,
                  0
                ]
              },
              {
                "id": 47,
                "properties": {
                  "address": "Highway E20, near Slagelse",
                  "totalEvents": 22,
                  "latitude": 55.402,
                  "name": "Neville Warehouse",
                  "type": "Warehouse",
                  "point": {
                    "x": 11.354,
                    "y": 55.402,
                    "z": 0
                  },
                  "longitude": 11.354,
                  "capacity": "Small",
                  "label": "DistributionPoint"
                },
                "color": "#607D8B",
                "styles": {
                  "image": "https://em-content.zobj.net/source/apple/391/department-store_1f3ec.png"
                },
                "label": "Neville Warehouse",
                "scale_factor": 22,
                "type": "#607D8B",
                "size": [
                  55,
                  55
                ],
                "position": [
                  0,
                  0
                ]
              },
              {
                "id": 52,
                "properties": {
                  "address": "Highway E47, near Nykøbing Falster",
                  "totalEvents": 11,
                  "latitude": 54.769,
                  "name": "McGonagall Warehouse",
                  "type": "Warehouse",
                  "point": {
                    "x": 11.874,
                    "y": 54.769,
                    "z": 0
                  },
                  "capacity": "Small",
                  "longitude": 11.874,
                  "label": "DistributionPoint"
                },
                "color": "#607D8B",
                "styles": {
                  "image": "https://em-content.zobj.net/source/apple/391/department-store_1f3ec.png"
                },
                "label": "McGonagall Warehouse",
                "scale_factor": 11,
                "type": "#607D8B",
                "size": [
                  55,
                  55
                ],
                "position": [
                  0,
                  0
                ]
              },
              {
                "id": 48,
                "properties": {
                  "address": "Highway E45, near Kolding",
                  "totalEvents": 7,
                  "latitude": 55.49,
                  "name": "Ginny Warehouse",
                  "type": "Warehouse",
                  "point": {
                    "x": 9.472,
                    "y": 55.49,
                    "z": 0
                  },
                  "longitude": 9.472,
                  "capacity": "Medium",
                  "label": "DistributionPoint"
                },
                "color": "#607D8B",
                "styles": {
                  "image": "https://em-content.zobj.net/source/apple/391/department-store_1f3ec.png"
                },
                "label": "Ginny Warehouse",
                "scale_factor": 7,
                "type": "#607D8B",
                "size": [
                  55,
                  55
                ],
                "position": [
                  0,
                  0
                ]
              },
              {
                "id": 50,
                "properties": {
                  "address": "Highway E20, near Esbjerg",
                  "totalEvents": 4,
                  "latitude": 55.476,
                  "name": "George Warehouse",
                  "type": "Warehouse",
                  "point": {
                    "x": 8.459,
                    "y": 55.476,
                    "z": 0
                  },
                  "longitude": 8.459,
                  "capacity": "Medium",
                  "label": "DistributionPoint"
                },
                "color": "#607D8B",
                "styles": {
                  "image": "https://em-content.zobj.net/source/apple/391/department-store_1f3ec.png"
                },
                "label": "George Warehouse",
                "scale_factor": 4,
                "type": "#607D8B",
                "size": [
                  55,
                  55
                ],
                "position": [
                  0,
                  0
                ]
              },
              {
                "id": 62,
                "properties": {
                  "address": "Highway E20, near Rødby",
                  "totalEvents": 11,
                  "latitude": 54.651,
                  "name": "Moody Warehouse",
                  "type": "Warehouse",
                  "point": {
                    "x": 11.355,
                    "y": 54.651,
                    "z": 0
                  },
                  "longitude": 11.355,
                  "capacity": "Small",
                  "label": "DistributionPoint"
                },
                "color": "#607D8B",
                "styles": {
                  "image": "https://em-content.zobj.net/source/apple/391/department-store_1f3ec.png"
                },
                "label": "Moody Warehouse",
                "scale_factor": 11,
                "type": "#607D8B",
                "size": [
                  55,
                  55
                ],
                "position": [
                  0,
                  0
                ]
              },
              {
                "id": 64,
                "properties": {
                  "address": "Highway E45, near Hillerød",
                  "totalEvents": 5,
                  "latitude": 55.926,
                  "name": "Lucius Warehouse",
                  "type": "Warehouse",
                  "point": {
                    "x": 12.301,
                    "y": 55.926,
                    "z": 0
                  },
                  "longitude": 12.301,
                  "capacity": "Medium",
                  "label": "DistributionPoint"
                },
                "color": "#607D8B",
                "styles": {
                  "image": "https://em-content.zobj.net/source/apple/391/department-store_1f3ec.png"
                },
                "label": "Lucius Warehouse",
                "scale_factor": 5,
                "type": "#607D8B",
                "size": [
                  55,
                  55
                ],
                "position": [
                  0,
                  0
                ]
              },
              {
                "id": 57,
                "properties": {
                  "address": "Highway E47, near Køge",
                  "totalEvents": 10,
                  "latitude": 55.458,
                  "name": "Arthur Warehouse",
                  "type": "Warehouse",
                  "point": {
                    "x": 12.182,
                    "y": 55.458,
                    "z": 0
                  },
                  "longitude": 12.182,
                  "capacity": "Medium",
                  "label": "DistributionPoint"
                },
                "color": "#607D8B",
                "styles": {
                  "image": "https://em-content.zobj.net/source/apple/391/department-store_1f3ec.png"
                },
                "label": "Arthur Warehouse",
                "scale_factor": 10,
                "type": "#607D8B",
                "size": [
                  55,
                  55
                ],
                "position": [
                  0,
                  0
                ]
              },
              {
                "id": 58,
                "properties": {
                  "address": "Highway E20, near Nyborg",
                  "totalEvents": 22,
                  "latitude": 55.312,
                  "name": "Dobby Warehouse",
                  "type": "Warehouse",
                  "point": {
                    "x": 10.79,
                    "y": 55.312,
                    "z": 0
                  },
                  "longitude": 10.79,
                  "capacity": "Small",
                  "label": "DistributionPoint"
                },
                "color": "#607D8B",
                "styles": {
                  "image": "https://em-content.zobj.net/source/apple/391/department-store_1f3ec.png"
                },
                "label": "Dobby Warehouse",
                "scale_factor": 22,
                "type": "#607D8B",
                "size": [
                  55,
                  55
                ],
                "position": [
                  0,
                  0
                ]
              }
            ],
            "_overview": {
              "enabled": null,
              "overview_set": false
            },
            "_selected_graph": [
              [],
              []
            ],
            "_sidebar": {
              "enabled": false,
              "start_with": ""
            },
            "_view_count": null,
            "_view_module": "yfiles-jupyter-graphs",
            "_view_module_version": "^1.6.2",
            "_view_name": "GraphView",
            "layout": "IPY_MODEL_be26d5e2d10e4955b8b58c52bad3b741"
          }
        },
        "812bc82997b242b1bdff923a81a993eb": {
          "model_module": "@jupyter-widgets/base",
          "model_name": "LayoutModel",
          "model_module_version": "1.2.0",
          "state": {
            "_model_module": "@jupyter-widgets/base",
            "_model_module_version": "1.2.0",
            "_model_name": "LayoutModel",
            "_view_count": null,
            "_view_module": "@jupyter-widgets/base",
            "_view_module_version": "1.2.0",
            "_view_name": "LayoutView",
            "align_content": null,
            "align_items": null,
            "align_self": null,
            "border": null,
            "bottom": null,
            "display": null,
            "flex": null,
            "flex_flow": null,
            "grid_area": null,
            "grid_auto_columns": null,
            "grid_auto_flow": null,
            "grid_auto_rows": null,
            "grid_column": null,
            "grid_gap": null,
            "grid_row": null,
            "grid_template_areas": null,
            "grid_template_columns": null,
            "grid_template_rows": null,
            "height": "500px",
            "justify_content": null,
            "justify_items": null,
            "left": null,
            "margin": null,
            "max_height": null,
            "max_width": null,
            "min_height": null,
            "min_width": null,
            "object_fit": null,
            "object_position": null,
            "order": null,
            "overflow": null,
            "overflow_x": null,
            "overflow_y": null,
            "padding": null,
            "right": null,
            "top": null,
            "visibility": null,
            "width": "100%"
          }
        },
        "be26d5e2d10e4955b8b58c52bad3b741": {
          "model_module": "@jupyter-widgets/base",
          "model_name": "LayoutModel",
          "model_module_version": "1.2.0",
          "state": {
            "_model_module": "@jupyter-widgets/base",
            "_model_module_version": "1.2.0",
            "_model_name": "LayoutModel",
            "_view_count": null,
            "_view_module": "@jupyter-widgets/base",
            "_view_module_version": "1.2.0",
            "_view_name": "LayoutView",
            "align_content": null,
            "align_items": null,
            "align_self": null,
            "border": null,
            "bottom": null,
            "display": null,
            "flex": null,
            "flex_flow": null,
            "grid_area": null,
            "grid_auto_columns": null,
            "grid_auto_flow": null,
            "grid_auto_rows": null,
            "grid_column": null,
            "grid_gap": null,
            "grid_row": null,
            "grid_template_areas": null,
            "grid_template_columns": null,
            "grid_template_rows": null,
            "height": "670px",
            "justify_content": null,
            "justify_items": null,
            "left": null,
            "margin": null,
            "max_height": null,
            "max_width": null,
            "min_height": null,
            "min_width": null,
            "object_fit": null,
            "object_position": null,
            "order": null,
            "overflow": null,
            "overflow_x": null,
            "overflow_y": null,
            "padding": null,
            "right": null,
            "top": null,
            "visibility": null,
            "width": "100%"
          }
        }
      }
    }
  },
  "nbformat": 4,
  "nbformat_minor": 5
}